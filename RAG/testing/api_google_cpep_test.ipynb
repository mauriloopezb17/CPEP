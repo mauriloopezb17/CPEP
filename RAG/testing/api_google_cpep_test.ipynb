{
 "cells": [
  {
   "cell_type": "code",
   "execution_count": null,
   "id": "2e70fbf2",
   "metadata": {},
   "outputs": [],
   "source": [
    "#pip install -q -U google-genai"
   ]
  },
  {
   "cell_type": "markdown",
   "id": "91d90b7f",
   "metadata": {},
   "source": [
    "# Importacion de librerias"
   ]
  },
  {
   "cell_type": "code",
   "execution_count": 1,
   "id": "ff4ef17e",
   "metadata": {},
   "outputs": [],
   "source": [
    "import warnings\n",
    "warnings.filterwarnings(\"ignore\", category=FutureWarning)\n",
    "\n",
    "# Librerias basicas\n",
    "import os, tempfile, glob, random, json\n",
    "from pathlib import Path\n",
    "import numpy as np\n",
    "from itertools import combinations\n",
    "from uuid import uuid4\n",
    "from PIL import Image\n",
    "import chromadb\n",
    "\n",
    "from IPython.display import Markdown\n",
    "from getpass import getpass\n",
    "\n",
    "# Para el entorno de google\n",
    "from google import genai\n",
    "from google.genai import types\n",
    "\n",
    "# Langchain \n",
    "from langchain_google_genai import ChatGoogleGenerativeAI, GoogleGenerativeAIEmbeddings\n",
    "\n",
    "from langchain_core.prompts import PromptTemplate, ChatPromptTemplate\n",
    "from langchain_core.runnables import RunnableLambda, RunnableParallel, RunnablePassthrough, RunnableSequence\n",
    "from langchain_core.messages import AIMessage, HumanMessage, get_buffer_string, ChatMessage\n",
    "from langchain_core.documents import Document\n",
    "from langchain_core.output_parsers import StrOutputParser\n",
    "from langchain_community.document_transformers import EmbeddingsRedundantFilter,LongContextReorder\n",
    "from langchain_community.chat_message_histories import StreamlitChatMessageHistory\n",
    "from operator import itemgetter\n",
    "from langchain_core.prompts.base import format_document\n",
    "\n",
    "\n",
    "# Document Loaders\n",
    "from langchain_community.document_loaders import (\n",
    "    PyPDFLoader,\n",
    "    TextLoader,\n",
    "    DirectoryLoader,\n",
    "    CSVLoader,\n",
    "    UnstructuredExcelLoader,\n",
    "    Docx2txtLoader,\n",
    "    JSONLoader\n",
    ")\n",
    "\n",
    "# Text Splitter\n",
    "from langchain_text_splitters import RecursiveCharacterTextSplitter, CharacterTextSplitter\n",
    "\n",
    "# Chroma: vectorstore\n",
    "from langchain_chroma import Chroma\n"
   ]
  },
  {
   "cell_type": "markdown",
   "id": "59208250",
   "metadata": {},
   "source": [
    "## Api key de google gemini"
   ]
  },
  {
   "cell_type": "code",
   "execution_count": null,
   "id": "4b3de133",
   "metadata": {},
   "outputs": [],
   "source": [
    "# Entorno de Langchain\n",
    "os.environ[\"GOOGLE_API_KEY\"] = \"\""
   ]
  },
  {
   "cell_type": "code",
   "execution_count": null,
   "id": "37de9632",
   "metadata": {},
   "outputs": [],
   "source": [
    "# Entorno de google / genai\n",
    "gemini_client = genai.Client(api_key=\"\")"
   ]
  },
  {
   "cell_type": "code",
   "execution_count": 3,
   "id": "c40abca3",
   "metadata": {},
   "outputs": [
    {
     "name": "stdout",
     "output_type": "stream",
     "text": [
      "[ContentEmbedding(\n",
      "  values=[\n",
      "    -0.022374554,\n",
      "    -0.004560777,\n",
      "    0.013309286,\n",
      "    -0.0545072,\n",
      "    -0.02090443,\n",
      "    <... 3067 more items ...>,\n",
      "  ]\n",
      ")]\n"
     ]
    }
   ],
   "source": [
    "# test embedding\n",
    "result = gemini_client.models.embed_content(\n",
    "        model=\"gemini-embedding-001\",\n",
    "        contents=\"What is the meaning of life?\")\n",
    "\n",
    "print(result.embeddings)"
   ]
  },
  {
   "cell_type": "code",
   "execution_count": 4,
   "id": "4a2590b0",
   "metadata": {},
   "outputs": [
    {
     "name": "stdout",
     "output_type": "stream",
     "text": [
      "3072\n"
     ]
    }
   ],
   "source": [
    "print(len(result.embeddings[0].values))"
   ]
  },
  {
   "cell_type": "markdown",
   "id": "0f9d36db",
   "metadata": {},
   "source": [
    "# Cargado de datos"
   ]
  },
  {
   "cell_type": "markdown",
   "id": "18d8cfbf",
   "metadata": {},
   "source": [
    "## Cargado del JSON"
   ]
  },
  {
   "cell_type": "code",
   "execution_count": 5,
   "id": "e06b71bd",
   "metadata": {},
   "outputs": [],
   "source": [
    "with open(\"../resources/cpe.json\", \"r\", encoding=\"utf-8\") as f:\n",
    "    data = json.load(f)\n",
    "\n",
    "docs = []"
   ]
  },
  {
   "cell_type": "code",
   "execution_count": 6,
   "id": "66f8a17e",
   "metadata": {},
   "outputs": [
    {
     "name": "stdout",
     "output_type": "stream",
     "text": [
      "Se cargaron 426 documentos desde el JSON.\n"
     ]
    }
   ],
   "source": [
    "for item in data:\n",
    "    tipo = item.get(\"tipo\", \"\").capitalize()\n",
    "    text = \"\"\n",
    "\n",
    "    if tipo == \"Introduccion\":\n",
    "        text = f\"Título: {item.get('titulo', '')}\\n\" \\\n",
    "                f\"Subtítulo: {item.get('subtitulo', '')}\\n\" \\\n",
    "                f\"{item.get('contenido', '')}\"\n",
    "\n",
    "    elif tipo == \"Articulo\":\n",
    "        text = (\n",
    "            f\"Parte {item.get('parte_num', '')}: {item.get('parte_nom', '')}\\n\"\n",
    "            f\"Título {item.get('titulo_num', '')}: {item.get('titulo_nom', '')}\\n\"\n",
    "            f\"Capítulo {item.get('capitulo_num', '')}: {item.get('capitulo_nom', '')}\\n\"\n",
    "            f\"Sección {item.get('seccion_num', '')}: {item.get('seccion_nom', '')}\\n\"\n",
    "            f\"Artículo {item.get('art_num', '')}: {item.get('nombre_juridico', '')}\\n\"\n",
    "            f\"{item.get('contenido', '')}\"\n",
    "        )\n",
    "        \n",
    "    elif tipo == \"Disposición\":\n",
    "        text = (\n",
    "            f\"Disposición {item.get('disposicion', '')}\\n\"\n",
    "            f\"Nombre jurídico: {item.get('nombre_juridico', '')}\\n\"\n",
    "            f\"{item.get('contenido', '')}\"\n",
    "        )\n",
    "\n",
    "    # Pongo este else, porque sino me sale error en page_content=text, porque es posible que text este vacio\n",
    "    else:\n",
    "        text = item.get(\"contenido\", \"\")\n",
    "\n",
    "    docs.append(Document(page_content=text, metadata={\"tipo\": tipo}))\n",
    "\n",
    "print(f\"Se cargaron {len(docs)} documentos desde el JSON.\")"
   ]
  },
  {
   "cell_type": "code",
   "execution_count": 7,
   "id": "a9fa9f2e",
   "metadata": {},
   "outputs": [
    {
     "name": "stdout",
     "output_type": "stream",
     "text": [
      "test:  275\n",
      "page_content='Parte Tercera: Estructura y organización territorial del estado\n",
      "Título 1: Organización territorial del estado\n",
      "Capítulo Primero: Disposiciones generales\n",
      "Sección None: None\n",
      "Artículo 274: Elección de Prefectos y Consejeros Departamentales en Departamentos Descentralizados\n",
      "En los departamentos descentralizados se efectuará la elección de prefectos y consejeros departamentales mediante sufragio universal. Estos departamentos podrán acceder a la autonomía departamental mediante referendo.' metadata={'tipo': 'Articulo'}\n"
     ]
    }
   ],
   "source": [
    "# Solamente para testear que se hayan cargado los documentos correctamente, agarramos uno aleatorio y lo analizamos\n",
    "import random\n",
    "random_document_id = random.choice(range(len(docs)))\n",
    "\n",
    "print(\"test: \", random_document_id)\n",
    "print(docs[random_document_id])"
   ]
  },
  {
   "cell_type": "markdown",
   "id": "987a4673",
   "metadata": {},
   "source": [
    "## Asignamiento de IDs"
   ]
  },
  {
   "cell_type": "code",
   "execution_count": 8,
   "id": "11942a52",
   "metadata": {},
   "outputs": [],
   "source": [
    "ids = []\n",
    "metas = []\n",
    "cont = 0\n",
    "\n",
    "for i in range(len(docs)):\n",
    "    if (i<2):\n",
    "        ids.append(f\"introduccion_{i+1}\")\n",
    "        metas.append({\"tipo\": \"introduccion\", \"número\": i+1})\n",
    "    elif(i<399):\n",
    "        ids.append(f\"artículo_{i-1}\")\n",
    "        metas.append({\"tipo\": \"artículo\", \"número\": i-1})\n",
    "    elif(i==399):\n",
    "        ids.append(f\"artículo_398_A\")\n",
    "        metas.append({\"tipo\": \"artículo\", \"número\": \"398_A\"})\n",
    "    elif(i==400):\n",
    "        ids.append(f\"artículo_398_B\")\n",
    "        metas.append({\"tipo\": \"artículo\", \"número\": \"398_B\"})\n",
    "    elif(i<414):\n",
    "        ids.append(f\"artículo_{i-2}\")\n",
    "        metas.append({\"tipo\": \"artículo\", \"número\": i-2})\n",
    "    else:\n",
    "        cont += 1\n",
    "        ids.append(f\"disposición_{cont}\")\n",
    "        metas.append({\"tipo\": \"disposicion\", \"número\": cont})\n",
    "\n",
    "assert len(docs) == len(ids) == len(metas)"
   ]
  },
  {
   "cell_type": "markdown",
   "id": "ca54b279",
   "metadata": {},
   "source": [
    "# Embedding part"
   ]
  },
  {
   "cell_type": "markdown",
   "id": "a4410687",
   "metadata": {},
   "source": [
    "### Gemini embedding class"
   ]
  },
  {
   "cell_type": "code",
   "execution_count": 9,
   "id": "8a8d67bc",
   "metadata": {},
   "outputs": [],
   "source": [
    "class GeminiEmbeddingFunction:\n",
    "    def __init__(self, model=\"gemini-embedding-001\"):\n",
    "        self.model = model\n",
    "\n",
    "    def __call__(self, input):\n",
    "        result = gemini_client.models.embed_content(\n",
    "            model=self.model,\n",
    "            contents=input,\n",
    "            config=types.EmbedContentConfig(task_type=\"retrieval_document\")\n",
    "        )\n",
    "        return [emb.values for emb in result.embeddings]\n",
    "    \n",
    "    def embed_query(self, input):\n",
    "        result = gemini_client.models.embed_content(\n",
    "            model=self.model,\n",
    "            contents=input,\n",
    "            config=types.EmbedContentConfig(task_type=\"retrieval_query\")\n",
    "        )\n",
    "        return [emb.values for emb in result.embeddings]"
   ]
  },
  {
   "cell_type": "markdown",
   "id": "9571ad61",
   "metadata": {},
   "source": [
    "### Create chroma db"
   ]
  },
  {
   "cell_type": "code",
   "execution_count": 10,
   "id": "5b121f5c",
   "metadata": {},
   "outputs": [],
   "source": [
    "# Funcion para crear la base de datos vectorial (Caso de no tener limite de batch)\n",
    "def create_chroma_db(documents, ids, name):\n",
    "    chroma_client = chromadb.Client()\n",
    "    db = chroma_client.create_collection(\n",
    "        name=name,\n",
    "        embedding_function=GeminiEmbeddingFunction()\n",
    "    )\n",
    "    db.add(\n",
    "        documents=[d.page_content for d in documents],\n",
    "        ids=ids\n",
    "    )\n",
    "    return db"
   ]
  },
  {
   "cell_type": "code",
   "execution_count": 11,
   "id": "ccc0f793",
   "metadata": {},
   "outputs": [],
   "source": [
    "# Funcion para crear la base de datos vectorial con batch limitado (no es limite de API)\n",
    "def create_chroma_db(documents, ids, name, batch_size=100):\n",
    "    import time\n",
    "    chroma_client = chromadb.PersistentClient(path=\"./vector/\" + name)\n",
    "\n",
    "    db = chroma_client.create_collection(\n",
    "        name=name,\n",
    "        embedding_function=GeminiEmbeddingFunction()\n",
    "    )\n",
    "\n",
    "    print(f\"Insertando {len(documents)} documentos en lotes de {batch_size}...\")\n",
    "\n",
    "    for i in range(0, len(documents), batch_size):\n",
    "        batch_docs = documents[i:i+batch_size]\n",
    "        batch_ids = ids[i:i+batch_size]\n",
    "\n",
    "        db.add(\n",
    "            documents=[d.page_content for d in batch_docs],\n",
    "            ids=batch_ids\n",
    "        )\n",
    "\n",
    "        print(f\"Lote {i//batch_size + 1} insertado ({len(batch_docs)} docs)\")\n",
    "        time.sleep(5)\n",
    "\n",
    "    print(\"Base de datos creada exitosamente\")\n",
    "    return db"
   ]
  },
  {
   "cell_type": "code",
   "execution_count": 12,
   "id": "4c54a955",
   "metadata": {},
   "outputs": [
    {
     "name": "stdout",
     "output_type": "stream",
     "text": [
      "Insertando 426 documentos en lotes de 100...\n",
      "Lote 1 insertado (100 docs)\n",
      "Lote 2 insertado (100 docs)\n",
      "Lote 3 insertado (100 docs)\n",
      "Lote 4 insertado (100 docs)\n",
      "Lote 5 insertado (26 docs)\n",
      "Base de datos creada exitosamente\n"
     ]
    }
   ],
   "source": [
    "db = create_chroma_db(docs, ids, \"cpep_gemini_test\")"
   ]
  },
  {
   "cell_type": "code",
   "execution_count": 13,
   "id": "f181cb2c",
   "metadata": {},
   "outputs": [
    {
     "data": {
      "text/html": [
       "<div>\n",
       "<style scoped>\n",
       "    .dataframe tbody tr th:only-of-type {\n",
       "        vertical-align: middle;\n",
       "    }\n",
       "\n",
       "    .dataframe tbody tr th {\n",
       "        vertical-align: top;\n",
       "    }\n",
       "\n",
       "    .dataframe thead th {\n",
       "        text-align: right;\n",
       "    }\n",
       "</style>\n",
       "<table border=\"1\" class=\"dataframe\">\n",
       "  <thead>\n",
       "    <tr style=\"text-align: right;\">\n",
       "      <th></th>\n",
       "      <th>IDs</th>\n",
       "      <th>Documents</th>\n",
       "      <th>Embeddings</th>\n",
       "    </tr>\n",
       "  </thead>\n",
       "  <tbody>\n",
       "    <tr>\n",
       "      <th>0</th>\n",
       "      <td>introduccion_1</td>\n",
       "      <td>Título: Antecedentes Legales\\nSubtítulo: None\\...</td>\n",
       "      <td>[ 0.00245742  0.04283391  0.01778333 ...  0.02...</td>\n",
       "    </tr>\n",
       "    <tr>\n",
       "      <th>1</th>\n",
       "      <td>introduccion_2</td>\n",
       "      <td>Título: Constitución Política del Estado\\nSubt...</td>\n",
       "      <td>[-0.00149028  0.01373982  0.04177929 ...  0.01...</td>\n",
       "    </tr>\n",
       "    <tr>\n",
       "      <th>2</th>\n",
       "      <td>artículo_1</td>\n",
       "      <td>Parte Primera: Bases fundamentales del estado ...</td>\n",
       "      <td>[-0.00251971  0.02007411  0.03636278 ...  0.01...</td>\n",
       "    </tr>\n",
       "    <tr>\n",
       "      <th>3</th>\n",
       "      <td>artículo_2</td>\n",
       "      <td>Parte Primera: Bases fundamentales del estado ...</td>\n",
       "      <td>[ 0.00334949  0.0164572   0.02114446 ...  0.01...</td>\n",
       "    </tr>\n",
       "    <tr>\n",
       "      <th>4</th>\n",
       "      <td>artículo_3</td>\n",
       "      <td>Parte Primera: Bases fundamentales del estado ...</td>\n",
       "      <td>[-0.01372455  0.01302311  0.04097917 ...  0.02...</td>\n",
       "    </tr>\n",
       "    <tr>\n",
       "      <th>5</th>\n",
       "      <td>artículo_4</td>\n",
       "      <td>Parte Primera: Bases fundamentales del estado ...</td>\n",
       "      <td>[-0.02209986  0.00326923  0.02603493 ...  0.01...</td>\n",
       "    </tr>\n",
       "    <tr>\n",
       "      <th>6</th>\n",
       "      <td>artículo_5</td>\n",
       "      <td>Parte Primera: Bases fundamentales del estado ...</td>\n",
       "      <td>[-0.01127888  0.0041606   0.02069325 ...  0.01...</td>\n",
       "    </tr>\n",
       "    <tr>\n",
       "      <th>7</th>\n",
       "      <td>artículo_6</td>\n",
       "      <td>Parte Primera: Bases fundamentales del estado ...</td>\n",
       "      <td>[-0.01256879  0.01323783  0.02546843 ...  0.02...</td>\n",
       "    </tr>\n",
       "    <tr>\n",
       "      <th>8</th>\n",
       "      <td>artículo_7</td>\n",
       "      <td>Parte Primera: Bases fundamentales del estado ...</td>\n",
       "      <td>[-0.01420504  0.01602528  0.02913002 ...  0.00...</td>\n",
       "    </tr>\n",
       "    <tr>\n",
       "      <th>9</th>\n",
       "      <td>artículo_8</td>\n",
       "      <td>Parte Primera: Bases fundamentales del estado ...</td>\n",
       "      <td>[-0.01655631  0.00083472  0.02253124 ...  0.02...</td>\n",
       "    </tr>\n",
       "    <tr>\n",
       "      <th>10</th>\n",
       "      <td>artículo_9</td>\n",
       "      <td>Parte Primera: Bases fundamentales del estado ...</td>\n",
       "      <td>[-0.01430092  0.02438277  0.02697677 ...  0.01...</td>\n",
       "    </tr>\n",
       "    <tr>\n",
       "      <th>11</th>\n",
       "      <td>artículo_10</td>\n",
       "      <td>Parte Primera: Bases fundamentales del estado ...</td>\n",
       "      <td>[-0.01368626  0.02295421  0.02733659 ...  0.01...</td>\n",
       "    </tr>\n",
       "    <tr>\n",
       "      <th>12</th>\n",
       "      <td>artículo_11</td>\n",
       "      <td>Parte Primera: Bases fundamentales del estado ...</td>\n",
       "      <td>[-0.02322814  0.00870571  0.02671492 ...  0.00...</td>\n",
       "    </tr>\n",
       "    <tr>\n",
       "      <th>13</th>\n",
       "      <td>artículo_12</td>\n",
       "      <td>Parte Primera: Bases fundamentales del estado ...</td>\n",
       "      <td>[-0.00593384  0.00017021  0.01788468 ...  0.00...</td>\n",
       "    </tr>\n",
       "    <tr>\n",
       "      <th>14</th>\n",
       "      <td>artículo_13</td>\n",
       "      <td>Parte Primera: Bases fundamentales del estado ...</td>\n",
       "      <td>[ 0.00279982  0.02298363  0.01913865 ...  0.02...</td>\n",
       "    </tr>\n",
       "  </tbody>\n",
       "</table>\n",
       "</div>"
      ],
      "text/plain": [
       "               IDs                                          Documents  \\\n",
       "0   introduccion_1  Título: Antecedentes Legales\\nSubtítulo: None\\...   \n",
       "1   introduccion_2  Título: Constitución Política del Estado\\nSubt...   \n",
       "2       artículo_1  Parte Primera: Bases fundamentales del estado ...   \n",
       "3       artículo_2  Parte Primera: Bases fundamentales del estado ...   \n",
       "4       artículo_3  Parte Primera: Bases fundamentales del estado ...   \n",
       "5       artículo_4  Parte Primera: Bases fundamentales del estado ...   \n",
       "6       artículo_5  Parte Primera: Bases fundamentales del estado ...   \n",
       "7       artículo_6  Parte Primera: Bases fundamentales del estado ...   \n",
       "8       artículo_7  Parte Primera: Bases fundamentales del estado ...   \n",
       "9       artículo_8  Parte Primera: Bases fundamentales del estado ...   \n",
       "10      artículo_9  Parte Primera: Bases fundamentales del estado ...   \n",
       "11     artículo_10  Parte Primera: Bases fundamentales del estado ...   \n",
       "12     artículo_11  Parte Primera: Bases fundamentales del estado ...   \n",
       "13     artículo_12  Parte Primera: Bases fundamentales del estado ...   \n",
       "14     artículo_13  Parte Primera: Bases fundamentales del estado ...   \n",
       "\n",
       "                                           Embeddings  \n",
       "0   [ 0.00245742  0.04283391  0.01778333 ...  0.02...  \n",
       "1   [-0.00149028  0.01373982  0.04177929 ...  0.01...  \n",
       "2   [-0.00251971  0.02007411  0.03636278 ...  0.01...  \n",
       "3   [ 0.00334949  0.0164572   0.02114446 ...  0.01...  \n",
       "4   [-0.01372455  0.01302311  0.04097917 ...  0.02...  \n",
       "5   [-0.02209986  0.00326923  0.02603493 ...  0.01...  \n",
       "6   [-0.01127888  0.0041606   0.02069325 ...  0.01...  \n",
       "7   [-0.01256879  0.01323783  0.02546843 ...  0.02...  \n",
       "8   [-0.01420504  0.01602528  0.02913002 ...  0.00...  \n",
       "9   [-0.01655631  0.00083472  0.02253124 ...  0.02...  \n",
       "10  [-0.01430092  0.02438277  0.02697677 ...  0.01...  \n",
       "11  [-0.01368626  0.02295421  0.02733659 ...  0.01...  \n",
       "12  [-0.02322814  0.00870571  0.02671492 ...  0.00...  \n",
       "13  [-0.00593384  0.00017021  0.01788468 ...  0.00...  \n",
       "14  [ 0.00279982  0.02298363  0.01913865 ...  0.02...  "
      ]
     },
     "execution_count": 13,
     "metadata": {},
     "output_type": "execute_result"
    }
   ],
   "source": [
    "import pandas as pd\n",
    "sample_data = db.get(include=['documents', 'embeddings'])\n",
    "\n",
    "df = pd.DataFrame({\n",
    "    \"IDs\": sample_data['ids'][:15],\n",
    "    \"Documents\": sample_data['documents'][:15],\n",
    "    \"Embeddings\": [str(emb)[:150] + \"...\" for emb in sample_data['embeddings'][:15]]  # Truncate embeddings\n",
    "})\n",
    "\n",
    "df"
   ]
  },
  {
   "cell_type": "markdown",
   "id": "451ec8c3",
   "metadata": {},
   "source": [
    "### Cargar chroma db"
   ]
  },
  {
   "cell_type": "code",
   "execution_count": null,
   "id": "0323589b",
   "metadata": {},
   "outputs": [],
   "source": [
    "client = chromadb.PersistentClient(path=\"./vector/cpep_gemini_test5\")\n",
    "\n",
    "db = client.get_collection(name=\"cpep_gemini_test5\")\n",
    "\n",
    "db._embedding_function = GeminiEmbeddingFunction()\n",
    "\n",
    "print(\"Total de documentos:\", db.count())"
   ]
  },
  {
   "cell_type": "code",
   "execution_count": 14,
   "id": "ed936ee4",
   "metadata": {},
   "outputs": [
    {
     "name": "stdout",
     "output_type": "stream",
     "text": [
      "Documento 1\n",
      "Parte Cuarta: Estructura y organización económica del Estado\n",
      "Título 2: Medio Ambiente, Recursos Naturales, Tierra y Territorio\n",
      "Capítulo Noveno: Tierra y territorio\n",
      "Sección None: None\n",
      "Artículo 398: opción A para el Referendo Dirimitorio (Prohibición del Latifundio y la Doble Titulación)\n",
      "Se prohíbe el latifundio y la doble titulación por ser contrarios al interés colectivo y al desarrollo del país. \n",
      "Documento 2\n",
      "Parte Cuarta: Estructura y organización económica del Estado\n",
      "Título 2: Medio Ambiente, Recursos Naturales, Tierra y Territorio\n",
      "Capítulo Noveno: Tierra y territorio\n",
      "Sección None: None\n",
      "Artículo 398: opción B para el Referendo Dirimitorio (Prohibición del Latifundio y la Doble Titulación)\n",
      "Se prohíbe el latifundio y la doble titulación por ser contrarios al interés colectivo y al desarrollo del país. \n",
      "Documento 3\n",
      "Parte Primera: Bases fundamentales del estado derechos, deberes y garantías\n",
      "Título 2: Derechos Fundamentales y Garantías\n",
      "Capítulo Sexto: Educación, interculturalidad y derechos culturales\n",
      "Sección 3: Culturas\n",
      "Artículo 98: Interculturalidad y Diversidad Cultural\n",
      "I. La diversidad cultural constituye la base esencial del Estado Plurinacional Comunitario. La interculturalidad es el instrumento para la \n",
      "Documento 4\n",
      "Parte Tercera: Estructura y organización territorial del estado\n",
      "Título 1: Organización territorial del estado\n",
      "Capítulo Octavo: Distribución de competencias\n",
      "Sección None: None\n",
      "Artículo 298: Competencias Privativas y Exclusivas del Nivel Central del Estado\n",
      "I. Son competencias privativas del nivel central del Estado: 1. Sistema financiero. 2. Política monetaria, Banco Central, sistema monetario, y la\n",
      "Documento 5\n",
      "Parte Cuarta: Estructura y organización económica del Estado\n",
      "Título 2: Medio Ambiente, Recursos Naturales, Tierra y Territorio\n",
      "Capítulo Noveno: Tierra y territorio\n",
      "Sección None: None\n",
      "Artículo 395: Dotación de Tierras Fiscales y Políticas de Desarrollo Rural Sustentable\n",
      "I. Las tierras fiscales serán dotadas a indígena originario campesinos, comunidades interculturales originarias, afrobolivianos y \n"
     ]
    }
   ],
   "source": [
    "query = \"¿Qué dice el artículo 398 de la constitución política del estado boliviano?\"\n",
    "results = db.query(query_texts=[query], n_results=5)\n",
    "\n",
    "for i, doc in enumerate(results[\"documents\"][0]):\n",
    "    print(f\"Documento {i+1}\")\n",
    "    print(doc[:400])"
   ]
  },
  {
   "cell_type": "code",
   "execution_count": null,
   "id": "4ea1a041",
   "metadata": {},
   "outputs": [],
   "source": [
    "print(\"vector_store:\", db.count(), \"documentos.\")\n",
    "print(db.count())\n",
    "print(db.peek())"
   ]
  },
  {
   "cell_type": "markdown",
   "id": "574f1161",
   "metadata": {},
   "source": [
    "## Similarity Search"
   ]
  },
  {
   "cell_type": "code",
   "execution_count": 15,
   "id": "788d09a5",
   "metadata": {},
   "outputs": [],
   "source": [
    "from numpy import dot\n",
    "from numpy.linalg import norm\n",
    "\n",
    "def print_documents_distances(results, show_score=False):\n",
    "    if show_score:\n",
    "        for i, (doc, score) in enumerate(zip(results[\"documents\"][0], results[\"distances\"][0])):\n",
    "            print(f\"{'-'*80}\")\n",
    "            print(f\"Documento {i+1} | score={round(score, 4)}\")\n",
    "            print(doc[:400])\n",
    "            print(\"\\n\")\n",
    "    else:\n",
    "        for i, doc in enumerate(results[\"documents\"][0]):\n",
    "            print(f\"{'-'*80}\")\n",
    "            print(f\"Documento {i+1}\")\n",
    "            print(doc[:400])\n",
    "            print(\"\\n\")\n",
    "\n",
    "def print_documents_similarity(results, show_score=False):\n",
    "    if show_score:\n",
    "        for i, (doc, dist) in enumerate(zip(results[\"documents\"][0], results[\"distances\"][0])):\n",
    "            similarity = 1 - dist  # convertir distancia a similitud\n",
    "            print(f\"{'-'*80}\")\n",
    "            print(f\"Documento {i+1} | similitud={round(similarity,4)}\")\n",
    "            print(doc[:400])\n",
    "            print(\"\\n\")\n",
    "    else:\n",
    "        for i, doc in enumerate(results[\"documents\"][0]):\n",
    "            print(f\"{'-'*80}\")\n",
    "            print(f\"Documento {i+1}\")\n",
    "            print(doc[:400])\n",
    "            print(\"\\n\")\n"
   ]
  },
  {
   "cell_type": "code",
   "execution_count": null,
   "id": "1e57d30b",
   "metadata": {},
   "outputs": [],
   "source": [
    "\n",
    "query = \"¿Qué dice el artículo 398 de la constitución política del estado boliviano?\"\n",
    "results = db.query(query_texts=[query], n_results=5)\n",
    "print_documents_distances(results, show_score=True)"
   ]
  },
  {
   "cell_type": "code",
   "execution_count": null,
   "id": "86ba0b38",
   "metadata": {},
   "outputs": [],
   "source": [
    "print_documents_similarity(results, show_score=True)"
   ]
  },
  {
   "cell_type": "code",
   "execution_count": null,
   "id": "f6b40c0a",
   "metadata": {},
   "outputs": [],
   "source": [
    "embedding_adapter = GeminiEmbeddingFunction()\n",
    "query_embeddings = embedding_adapter.embed_query(query)[0]\n",
    "\n",
    "docs_texts = results[\"documents\"][0]\n",
    "\n",
    "docs_embeddings = [embedding_adapter(text)[0] for text in docs_texts]\n",
    "\n",
    "for i, doc_emb in enumerate(docs_embeddings):\n",
    "    similarity = np.dot(query_embeddings, doc_emb) / (\n",
    "        np.linalg.norm(query_embeddings) * np.linalg.norm(doc_emb)\n",
    "    )\n",
    "    print(f\"Similaridad de documento_{i+1} con el query: {round(similarity,4)}\")"
   ]
  },
  {
   "cell_type": "markdown",
   "id": "8595926e",
   "metadata": {},
   "source": [
    "# Retrievers"
   ]
  },
  {
   "cell_type": "markdown",
   "id": "874848ac",
   "metadata": {},
   "source": [
    "### Vector Store-backed retriever"
   ]
  },
  {
   "cell_type": "code",
   "execution_count": 16,
   "id": "7ab66ef4",
   "metadata": {},
   "outputs": [],
   "source": [
    "import numpy as np\n",
    "\n",
    "class ChromaGeminiRetriever:\n",
    "    def __init__(self, chroma_collection, embedding_function, k=4, score_threshold=None):\n",
    "        self.collection = chroma_collection\n",
    "        self.embedding_function = embedding_function\n",
    "        self.k = k\n",
    "        self.score_threshold = score_threshold\n",
    "\n",
    "    def retrieve(self, query):\n",
    "        results = self.collection.query(query_texts=[query], n_results=self.k)\n",
    "\n",
    "        if self.score_threshold is not None and \"distances\" in results:\n",
    "            filtered_docs = []\n",
    "            filtered_scores = []\n",
    "            for doc, score in zip(results[\"documents\"][0], results[\"distances\"][0]):\n",
    "                if score <= self.score_threshold:\n",
    "                    filtered_docs.append(doc)\n",
    "                    filtered_scores.append(score)\n",
    "            results[\"documents\"][0] = filtered_docs\n",
    "            results[\"distances\"][0] = filtered_scores\n",
    "\n",
    "        return results\n",
    "\n",
    "    def invoke(self, query):\n",
    "        return self.retrieve(query)"
   ]
  },
  {
   "cell_type": "code",
   "execution_count": 26,
   "id": "344bec82",
   "metadata": {},
   "outputs": [],
   "source": [
    "embedding_function = GeminiEmbeddingFunction()\n",
    "retriever_gemini = ChromaGeminiRetriever(\n",
    "    chroma_collection=db,\n",
    "    embedding_function=embedding_function,\n",
    "    k=5,                      \n",
    "    score_threshold=None     \n",
    ")"
   ]
  },
  {
   "cell_type": "code",
   "execution_count": null,
   "id": "883cdcc6",
   "metadata": {},
   "outputs": [],
   "source": [
    "query = \"¿Qué dice el artículo 398 de la constitución política del estado boliviano?\"\n",
    "relevant_docs = retriever_gemini.invoke(query)\n",
    "print_documents_similarity(relevant_docs, show_score=True)"
   ]
  },
  {
   "cell_type": "markdown",
   "id": "1de44845",
   "metadata": {},
   "source": [
    "### ChatModel"
   ]
  },
  {
   "cell_type": "code",
   "execution_count": 17,
   "id": "4270d606",
   "metadata": {},
   "outputs": [],
   "source": [
    "class ChatGemini:\n",
    "    def __init__(self, model=\"gemini-2.5-flash-lite\", temperature=0.3, memory=None):\n",
    "        self.model = model\n",
    "        self.temperature = temperature\n",
    "        self.memory = memory\n",
    "\n",
    "    def invoke(self, prompt):\n",
    "        # Incluir memoria\n",
    "        if self.memory and self.memory.history:\n",
    "            context = self.memory.get_context()\n",
    "            prompt = f\"{context}\\n\\nUsuario: {prompt}\\nAsistente:\"\n",
    "        \n",
    "        response = gemini_client.models.generate_content(\n",
    "            model=self.model,\n",
    "            contents=prompt,\n",
    "            config={\n",
    "                \"temperature\": self.temperature,\n",
    "                \"max_output_tokens\": 1024\n",
    "            }\n",
    "        )\n",
    "\n",
    "        if self.memory:\n",
    "            self.memory.add_message(\"user\", prompt)\n",
    "            self.memory.add_message(\"assistant\", response.text)\n",
    "\n",
    "        return response.text"
   ]
  },
  {
   "cell_type": "code",
   "execution_count": 28,
   "id": "d8db0e46",
   "metadata": {},
   "outputs": [],
   "source": [
    "llm = ChatGemini()"
   ]
  },
  {
   "cell_type": "code",
   "execution_count": null,
   "id": "bd308537",
   "metadata": {},
   "outputs": [],
   "source": [
    "# test\n",
    "prompt_test = \"¿Qué dice el artículo 398 de la Constitución Política del estado boliviano?\"\n",
    "response = llm.invoke(prompt_test)"
   ]
  },
  {
   "cell_type": "code",
   "execution_count": null,
   "id": "1098e8ca",
   "metadata": {},
   "outputs": [],
   "source": [
    "print(response)"
   ]
  },
  {
   "cell_type": "markdown",
   "id": "89f9379c",
   "metadata": {},
   "source": [
    "### Memory"
   ]
  },
  {
   "cell_type": "code",
   "execution_count": 18,
   "id": "657fb9e0",
   "metadata": {},
   "outputs": [],
   "source": [
    "from datetime import datetime\n",
    "\n",
    "class ConversationMemory:\n",
    "    def __init__(self, max_turns=10):\n",
    "        self.history = []\n",
    "        self.max_turns = max_turns\n",
    "\n",
    "    def add_message(self, role, content):\n",
    "        # Agregar el mensaje al historial user o assistant\n",
    "        self.history.append({\n",
    "            \"role\": role,\n",
    "            \"content\": content,\n",
    "            \"timestamp\": datetime.now().isoformat()\n",
    "        })\n",
    "\n",
    "        if len(self.history) > self.max_turns * 2:\n",
    "            self.history = self.history[-self.max_turns*2:]\n",
    "\n",
    "    def get_context(self):\n",
    "        if not self.history:\n",
    "            return \"No hay historial previo.\"\n",
    "        return \"\\n\".join([f\"{m['role'].capitalize()}: {m['content']}\" for m in self.history])\n",
    "\n",
    "    def clear(self):\n",
    "        self.history = []\n"
   ]
  },
  {
   "cell_type": "code",
   "execution_count": 19,
   "id": "6d303d68",
   "metadata": {},
   "outputs": [],
   "source": [
    "def reset_chat_session(llm):\n",
    "    if llm.memory:\n",
    "        llm.memory.clear()\n",
    "        print(\" Memoria temporal del chat borrada.\")\n",
    "    else:\n",
    "        print(\"No hay memoria activa para borrar.\")"
   ]
  },
  {
   "cell_type": "code",
   "execution_count": null,
   "id": "70268bee",
   "metadata": {},
   "outputs": [],
   "source": [
    "# Para resetear la memoria\n",
    "reset_chat_session(llm)"
   ]
  },
  {
   "cell_type": "markdown",
   "id": "cda6dc45",
   "metadata": {},
   "source": [
    "### PromptTemplate"
   ]
  },
  {
   "cell_type": "code",
   "execution_count": 20,
   "id": "c062651b",
   "metadata": {},
   "outputs": [],
   "source": [
    "standalone_question_template = \"\"\"\n",
    "Dada la siguiente conversación y una pregunta de seguimiento,\n",
    "reformula la pregunta de seguimiento para que sea una pregunta independiente,\n",
    "manteniendo su significado original y en el mismo idioma (español).\n",
    "\n",
    "Historial de chat:\n",
    "{chat_history}\n",
    "\n",
    "Pregunta de seguimiento:\n",
    "{question}\n",
    "\n",
    "Pregunta independiente:\n",
    "\"\"\""
   ]
  },
  {
   "cell_type": "code",
   "execution_count": 21,
   "id": "5697e0db",
   "metadata": {},
   "outputs": [],
   "source": [
    "def build_reformulation_prompt(memory, question):\n",
    "    chat_history = memory.get_context() if memory else \"No hay historial previo.\"\n",
    "    prompt = standalone_question_template.format(\n",
    "        chat_history=chat_history,\n",
    "        question=question\n",
    "    )\n",
    "    return prompt"
   ]
  },
  {
   "cell_type": "code",
   "execution_count": null,
   "id": "82189f92",
   "metadata": {},
   "outputs": [],
   "source": [
    "#test \n",
    "memory = ConversationMemory(max_turns=5)\n",
    "\n",
    "memory.add_message(\"user\", \"¿Qué dice el artículo 7 de la Constitución Política del Estado boliviano?\")\n",
    "memory.add_message(\"assistant\", \"El Artículo 7 establece los principios fundamentales del Estado Plurinacional de Bolivia.\")\n",
    "\n",
    "nueva_pregunta = \"¿Y qué pasa si no se respetan esos derechos?\"\n",
    "\n",
    "prompt_reformulado = build_reformulation_prompt(memory, nueva_pregunta)\n",
    "print(prompt_reformulado)"
   ]
  },
  {
   "cell_type": "code",
   "execution_count": null,
   "id": "ed3b98dd",
   "metadata": {},
   "outputs": [],
   "source": [
    "respuesta_reformulada = llm.invoke(prompt_reformulado)\n",
    "print(respuesta_reformulada)"
   ]
  },
  {
   "cell_type": "markdown",
   "id": "ff1b7636",
   "metadata": {},
   "source": [
    "### ChatPromptTemplate"
   ]
  },
  {
   "cell_type": "code",
   "execution_count": 22,
   "id": "511927b5",
   "metadata": {},
   "outputs": [],
   "source": [
    "def answer_template(language=\"spanish\"):\n",
    "    template = f\"\"\"Eres un asistente especializado en la Constitución Política del Estado Plurinacional de Bolivia.\n",
    "Responde la siguiente pregunta utilizando únicamente la información proporcionada en el contexto (delimitado por <context>).\n",
    "Tu respuesta debe estar en el idioma del final y debes aclarar que artículos, disposiciones o textos usaste para escribir la respuesta.\n",
    "\n",
    "Si la información no es suficiente o no se encuentra en el contexto, responde claramente:\n",
    "\"No tengo información suficiente en la Constitución para responder a esta pregunta.\"\n",
    "\n",
    "<context>\n",
    "{{context}}\n",
    "</context>\n",
    "\n",
    "Pregunta: {{question}}\n",
    "\n",
    "Idioma: {language}.\n",
    "\"\"\"\n",
    "    return template"
   ]
  },
  {
   "cell_type": "code",
   "execution_count": 23,
   "id": "a7e2fa7f",
   "metadata": {},
   "outputs": [],
   "source": [
    "def build_answer_prompt(memory, context, question, language=\"Spanish\"):\n",
    "    chat_template = answer_template(language=language)\n",
    "    chat_history = memory.get_context() if memory else \"No hay historial previo.\"\n",
    "\n",
    "    prompt = chat_template.format(\n",
    "        context=context,\n",
    "        chat_history=chat_history,\n",
    "        question=question\n",
    "    )\n",
    "    return prompt"
   ]
  },
  {
   "cell_type": "code",
   "execution_count": null,
   "id": "83a262cc",
   "metadata": {},
   "outputs": [],
   "source": [
    "memory = ConversationMemory(max_turns=5)\n",
    "memory.add_message(\"user\", \"¿Qué dice el artículo 7 de la Constitución?\")\n",
    "memory.add_message(\"assistant\", \"El Artículo 7 establece los principios fundamentales del Estado boliviano.\")\n",
    "\n",
    "pregunta_final = \"¿Qué sucede si no se respetan los derechos fundamentales establecidos en el artículo 7?\"\n",
    "\n",
    "resultados = retriever_gemini.invoke(pregunta_final)\n",
    "contexto = \"\\n\".join(resultados[\"documents\"][0])\n",
    "prompt_final = build_answer_prompt(memory, contexto, pregunta_final, language=\"Spanish\")\n",
    "print(prompt_final)"
   ]
  },
  {
   "cell_type": "code",
   "execution_count": null,
   "id": "1929016f",
   "metadata": {},
   "outputs": [],
   "source": [
    "respuesta = llm.invoke(prompt_final)\n",
    "print(respuesta)"
   ]
  },
  {
   "cell_type": "markdown",
   "id": "6d342e0d",
   "metadata": {},
   "source": [
    "# Conversational Retrieval Chain"
   ]
  },
  {
   "cell_type": "code",
   "execution_count": 36,
   "id": "2cf29b6b",
   "metadata": {},
   "outputs": [],
   "source": [
    "class ConversationalRAG:\n",
    "    def __init__(self, llm, retriever, memory, question_template, answer_template):\n",
    "        self.llm = llm\n",
    "        self.retriever = retriever\n",
    "        self.memory = memory\n",
    "        self.question_template = question_template\n",
    "        self.answer_template = answer_template\n",
    "\n",
    "    # Reformula la pregunta (usa el historial previo)\n",
    "    def reformulate_question(self, question):\n",
    "        chat_history = self.memory.get_context()\n",
    "        prompt = self.question_template.format(\n",
    "            chat_history=chat_history,\n",
    "            question=question\n",
    "        )\n",
    "        new_question = self.llm.invoke(prompt)\n",
    "        return new_question\n",
    "\n",
    "    # Recupera contexto desde ChromaDB\n",
    "    def retrieve_context(self, query):\n",
    "        results = self.retriever.invoke(query)\n",
    "        context = \"\\n\".join(results[\"documents\"][0])\n",
    "        return context\n",
    "\n",
    "    # Genera respuesta final (con contexto + memoria)\n",
    "    def generate_answer(self, question, context):\n",
    "        chat_history = self.memory.get_context()\n",
    "        prompt = self.answer_template.format(\n",
    "            context=context,\n",
    "            chat_history=chat_history,\n",
    "            question=question\n",
    "        )\n",
    "        answer = self.llm.invoke(prompt)\n",
    "        return answer\n",
    "\n",
    "    # Ejecuta todo el flujo\n",
    "    def invoke(self, question):\n",
    "        # 1️⃣ Reformular pregunta\n",
    "        condensed_q = self.reformulate_question(question)\n",
    "        print(f\"Pregunta reformulada: {condensed_q}\")\n",
    "\n",
    "        # 2️⃣ Recuperar contexto\n",
    "        context = self.retrieve_context(condensed_q)\n",
    "\n",
    "        # 3️⃣ Generar respuesta\n",
    "        answer = self.generate_answer(condensed_q, context)\n",
    "\n",
    "        # 4️⃣ Actualizar memoria\n",
    "        self.memory.add_message(\"user\", question)\n",
    "        self.memory.add_message(\"assistant\", answer)\n",
    "\n",
    "        return {\n",
    "            \"answer\": answer,\n",
    "            \"context\": context,\n",
    "            \"reformulated\": condensed_q\n",
    "        }\n"
   ]
  },
  {
   "cell_type": "code",
   "execution_count": 38,
   "id": "85671869",
   "metadata": {},
   "outputs": [
    {
     "name": "stdout",
     "output_type": "stream",
     "text": [
      "Pregunta reformulada: ¿Qué establece la Constitución Política del Estado boliviano en relación con los pueblos indígenas?\n",
      "La Constitución Política del Estado Plurinacional de Bolivia establece que las naciones y pueblos indígena originario campesinos tienen derecho a existir libremente, a su identidad cultural, creencia religiosa, espiritualidades, prácticas y costumbres, y a su propia cosmovisión. También tienen derecho a la libre determinación y territorialidad, a que sus instituciones sean parte de la estructura general del Estado, a la titulación colectiva de tierras y territorios, y a la protección de sus lugares sagrados.\n",
      "\n",
      "Además, se les garantiza el derecho a crear y administrar sistemas, medios y redes de comunicación propios, a que sus saberes y conocimientos tradicionales, su medicina tradicional, sus idiomas, sus rituales y sus símbolos y vestimentas sean valorados, respetados y promocionados. Tienen derecho a vivir en un medio ambiente sano, con manejo y aprovechamiento adecuado de los ecosistemas, y a la propiedad intelectual colectiva de sus saberes, ciencias y conocimientos.\n",
      "\n",
      "La Constitución también consagra el derecho a una educación intracultural, intercultural y plurilingüe en todo el sistema educativo, y a un sistema de salud universal y gratuito que respete su cosmovisión y prácticas tradicionales. Se les reconoce el derecho al ejercicio de sus sistemas políticos, jurídicos y económicos acorde a su cosmovisión.\n",
      "\n",
      "Se establece el derecho a ser consultados mediante procedimientos apropiados, y en particular a través de sus instituciones, cada vez que se prevean medidas legislativas o administrativas susceptibles de afectarles. En este marco, se respetará y garantizará el derecho a la consulta previa obligatoria, realizada por el Estado, de buena fe y concertada, respecto a la explotación de los recursos naturales no renovables en el territorio que habitan.\n",
      "\n",
      "Asimismo, tienen derecho a la participación en los beneficios de la explotación de los recursos naturales en sus territorios, a la gestión territorial indígena autónoma, y al uso y aprovechamiento exclusivo de los recursos naturales renovables existentes en su territorio sin perjuicio de los derechos legítimamente adquiridos por terceros. Tienen derecho a la participación en los órganos e instituciones del Estado.\n",
      "\n",
      "El Estado garantiza, respeta y protege estos derechos. La Constitución también reconoce la libre determinación de las naciones y pueblos indígenas originarios campesinos, que consiste en su derecho a la autonomía, al autogobierno, a su cultura, al reconocimiento de sus instituciones y a la consolidación de sus entidades territoriales.\n",
      "\n",
      "En relación con los pueblos en peligro de extinción, en situación de aislamiento voluntario y no contactados, se establece que serán protegidos y respetados en sus formas de vida individual y colectiva, y gozan del derecho a mantenerse en esa condición, a la delimitación y consolidación legal del territorio que ocupan y habitan.\n",
      "\n",
      "El pueblo afroboliviano goza, en todo lo que corresponda, de los derechos económicos, sociales, políticos y culturales reconocidos en la Constitución para las naciones y pueblos indígena originario campesinos.\n",
      "\n",
      "Estos derechos se fundamentan en el Artículo 2, Artículo 3, Artículo 30, Artículo 31 y Artículo 32 de la Constitución Política del Estado.\n"
     ]
    }
   ],
   "source": [
    "memory = ConversationMemory(max_turns=5)\n",
    "retriever = retriever_gemini\n",
    "question_template = standalone_question_template\n",
    "chat_chain = ConversationalRAG(\n",
    "    llm=llm,\n",
    "    retriever=retriever,\n",
    "    memory=memory,\n",
    "    question_template=question_template,\n",
    "    answer_template=answer_template(language=\"Spanish\")  \n",
    ")\n",
    "response1 = chat_chain.invoke(\"¿Qué dice la constitución política del estado boliviano acerca de los pueblos indígenas?\")\n",
    "print(response1[\"answer\"])"
   ]
  },
  {
   "cell_type": "code",
   "execution_count": 39,
   "id": "0ce1f93e",
   "metadata": {},
   "outputs": [
    {
     "name": "stdout",
     "output_type": "stream",
     "text": [
      "Pregunta reformulada: ¿Los artículos 2, 3, 30, 31 y 32 de la Constitución Política del Estado boliviano abordan los derechos de los pueblos indígenas?\n",
      "Sí, los artículos 2, 30, 31 y 32 de la Constitución Política del Estado boliviano abordan los derechos de los pueblos indígenas.\n",
      "\n",
      "*   El **Artículo 30** detalla una serie de derechos de las naciones y pueblos indígena originario campesinos, incluyendo el derecho a existir libremente, a su identidad cultural, a la libre determinación y territorialidad, a la titulación colectiva de tierras y territorios, a la protección de sus lugares sagrados, a crear y administrar sistemas de comunicación propios, a la valoración de sus saberes y conocimientos tradicionales, a un medio ambiente sano, a la propiedad intelectual colectiva, a una educación intracultural, intercultural y plurilingüe, al sistema de salud universal y gratuito que respete su cosmovisión, al ejercicio de sus sistemas políticos, jurídicos y económicos, a ser consultados, a la participación en los beneficios de la explotación de recursos naturales y a la gestión territorial indígena autónoma.\n",
      "*   El **Artículo 31** protege el derecho de aislamiento voluntario de las naciones y pueblos indígena originarios en peligro de extinción o en situación de aislamiento voluntario y no contactados, garantizando su derecho a mantenerse en esa condición y a la delimitación legal de su territorio.\n",
      "*   El **Artículo 32** establece que el pueblo afroboliviano goza de los derechos económicos, sociales, políticos y culturales reconocidos en la Constitución para las naciones y pueblos indígena originario campesinos, en todo lo que corresponda.\n",
      "*   El **Artículo 2** garantiza la libre determinación de las naciones y pueblos indígena originario campesinos, reconociendo su derecho a la autonomía, al autogobierno, a su cultura, al reconocimiento de sus instituciones y a la consolidación de sus entidades territoriales, dada su existencia precolonial y dominio ancestral sobre sus territorios.\n",
      "\n",
      "El **Artículo 3** no se encuentra en el contexto proporcionado.\n"
     ]
    }
   ],
   "source": [
    "response2 = chat_chain.invoke(\"¿Estás seguro que esos artículos hablan de esos temas?\")\n",
    "print(response2[\"answer\"])"
   ]
  },
  {
   "cell_type": "code",
   "execution_count": 37,
   "id": "2a56fa0f",
   "metadata": {},
   "outputs": [],
   "source": [
    "memory.clear()"
   ]
  }
 ],
 "metadata": {
  "kernelspec": {
   "display_name": "Python 3",
   "language": "python",
   "name": "python3"
  },
  "language_info": {
   "codemirror_mode": {
    "name": "ipython",
    "version": 3
   },
   "file_extension": ".py",
   "mimetype": "text/x-python",
   "name": "python",
   "nbconvert_exporter": "python",
   "pygments_lexer": "ipython3",
   "version": "3.13.4"
  }
 },
 "nbformat": 4,
 "nbformat_minor": 5
}
