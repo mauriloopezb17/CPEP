{
 "cells": [
  {
   "cell_type": "code",
   "execution_count": null,
   "id": "2e70fbf2",
   "metadata": {},
   "outputs": [],
   "source": [
    "#pip install -q -U google-genai"
   ]
  },
  {
   "cell_type": "markdown",
   "id": "91d90b7f",
   "metadata": {},
   "source": [
    "# Importacion de librerias"
   ]
  },
  {
   "cell_type": "code",
   "execution_count": 1,
   "id": "ff4ef17e",
   "metadata": {},
   "outputs": [],
   "source": [
    "import warnings\n",
    "warnings.filterwarnings(\"ignore\", category=FutureWarning)\n",
    "\n",
    "# Librerias basicas\n",
    "import os, tempfile, glob, random, json\n",
    "from pathlib import Path\n",
    "import numpy as np\n",
    "from itertools import combinations\n",
    "from uuid import uuid4\n",
    "from PIL import Image\n",
    "import chromadb\n",
    "\n",
    "from IPython.display import Markdown\n",
    "from getpass import getpass\n",
    "\n",
    "# Para el entorno de google\n",
    "from google import genai\n",
    "from google.genai import types\n",
    "\n",
    "# Langchain \n",
    "from langchain_google_genai import ChatGoogleGenerativeAI, GoogleGenerativeAIEmbeddings\n",
    "\n",
    "from langchain_core.prompts import PromptTemplate, ChatPromptTemplate\n",
    "from langchain_core.runnables import RunnableLambda, RunnableParallel, RunnablePassthrough, RunnableSequence\n",
    "from langchain_core.messages import AIMessage, HumanMessage, get_buffer_string, ChatMessage\n",
    "from langchain_core.documents import Document\n",
    "from langchain_core.output_parsers import StrOutputParser\n",
    "from langchain_community.document_transformers import EmbeddingsRedundantFilter,LongContextReorder\n",
    "from langchain_community.chat_message_histories import StreamlitChatMessageHistory\n",
    "from operator import itemgetter\n",
    "from langchain_core.prompts.base import format_document\n",
    "\n",
    "\n",
    "# Document Loaders\n",
    "from langchain_community.document_loaders import (\n",
    "    PyPDFLoader,\n",
    "    TextLoader,\n",
    "    DirectoryLoader,\n",
    "    CSVLoader,\n",
    "    UnstructuredExcelLoader,\n",
    "    Docx2txtLoader,\n",
    "    JSONLoader\n",
    ")\n",
    "\n",
    "# Text Splitter\n",
    "from langchain_text_splitters import RecursiveCharacterTextSplitter, CharacterTextSplitter\n",
    "\n",
    "# Chroma: vectorstore\n",
    "from langchain_chroma import Chroma\n"
   ]
  },
  {
   "cell_type": "markdown",
   "id": "59208250",
   "metadata": {},
   "source": [
    "## Api key de google gemini"
   ]
  },
  {
   "cell_type": "code",
   "execution_count": null,
   "id": "4b3de133",
   "metadata": {},
   "outputs": [],
   "source": [
    "# Entorno de Langchain\n",
    "os.environ[\"GOOGLE_API_KEY\"] = \"\""
   ]
  },
  {
   "cell_type": "code",
   "execution_count": null,
   "id": "37de9632",
   "metadata": {},
   "outputs": [],
   "source": [
    "# Entorno de google / genai\n",
    "gemini_client = genai.Client(api_key=\"\")"
   ]
  },
  {
   "cell_type": "code",
   "execution_count": null,
   "id": "c40abca3",
   "metadata": {},
   "outputs": [
    {
     "name": "stdout",
     "output_type": "stream",
     "text": [
      "[ContentEmbedding(\n",
      "  values=[\n",
      "    -0.022374554,\n",
      "    -0.004560777,\n",
      "    0.013309286,\n",
      "    -0.0545072,\n",
      "    -0.02090443,\n",
      "    <... 3067 more items ...>,\n",
      "  ]\n",
      ")]\n"
     ]
    }
   ],
   "source": [
    "# test embedding\n",
    "result = gemini_client.models.embed_content(\n",
    "        model=\"gemini-embedding-001\",\n",
    "        contents=\"What is the meaning of life?\")\n",
    "\n",
    "print(result.embeddings)"
   ]
  },
  {
   "cell_type": "code",
   "execution_count": null,
   "id": "4a2590b0",
   "metadata": {},
   "outputs": [
    {
     "name": "stdout",
     "output_type": "stream",
     "text": [
      "3072\n"
     ]
    }
   ],
   "source": [
    "print(len(result.embeddings[0].values))"
   ]
  },
  {
   "cell_type": "markdown",
   "id": "0f9d36db",
   "metadata": {},
   "source": [
    "# Cargado de datos"
   ]
  },
  {
   "cell_type": "markdown",
   "id": "18d8cfbf",
   "metadata": {},
   "source": [
    "## Cargado del JSON"
   ]
  },
  {
   "cell_type": "code",
   "execution_count": null,
   "id": "e06b71bd",
   "metadata": {},
   "outputs": [],
   "source": [
    "with open(\"../resources/cpe.json\", \"r\", encoding=\"utf-8\") as f:\n",
    "    data = json.load(f)\n",
    "\n",
    "docs = []"
   ]
  },
  {
   "cell_type": "code",
   "execution_count": null,
   "id": "66f8a17e",
   "metadata": {},
   "outputs": [],
   "source": [
    "for item in data:\n",
    "    tipo = item.get(\"tipo\", \"\").capitalize()\n",
    "    text = \"\"\n",
    "\n",
    "    if tipo == \"Introduccion\":\n",
    "        text = f\"Título: {item.get('titulo', '')}\\n\" \\\n",
    "                f\"Subtítulo: {item.get('subtitulo', '')}\\n\" \\\n",
    "                f\"{item.get('contenido', '')}\"\n",
    "\n",
    "    elif tipo == \"Articulo\":\n",
    "        text = (\n",
    "            f\"Parte {item.get('parte_num', '')}: {item.get('parte_nom', '')}\\n\"\n",
    "            f\"Título {item.get('titulo_num', '')}: {item.get('titulo_nom', '')}\\n\"\n",
    "            f\"Capítulo {item.get('capitulo_num', '')}: {item.get('capitulo_nom', '')}\\n\"\n",
    "            f\"Sección {item.get('seccion_num', '')}: {item.get('seccion_nom', '')}\\n\"\n",
    "            f\"Artículo {item.get('art_num', '')}: {item.get('nombre_juridico', '')}\\n\"\n",
    "            f\"{item.get('contenido', '')}\"\n",
    "        )\n",
    "        \n",
    "    elif tipo == \"Disposición\":\n",
    "        text = (\n",
    "            f\"Disposición {item.get('disposicion', '')}\\n\"\n",
    "            f\"Nombre jurídico: {item.get('nombre_juridico', '')}\\n\"\n",
    "            f\"{item.get('contenido', '')}\"\n",
    "        )\n",
    "\n",
    "    # Pongo este else, porque sino me sale error en page_content=text, porque es posible que text este vacio\n",
    "    else:\n",
    "        text = item.get(\"contenido\", \"\")\n",
    "\n",
    "    docs.append(Document(page_content=text, metadata={\"tipo\": tipo}))\n",
    "\n",
    "print(f\"Se cargaron {len(docs)} documentos desde el JSON.\")"
   ]
  },
  {
   "cell_type": "code",
   "execution_count": null,
   "id": "a9fa9f2e",
   "metadata": {},
   "outputs": [],
   "source": [
    "# Solamente para testear que se hayan cargado los documentos correctamente, agarramos uno aleatorio y lo analizamos\n",
    "import random\n",
    "random_document_id = random.choice(range(len(docs)))\n",
    "\n",
    "print(\"test: \", random_document_id)\n",
    "print(docs[random_document_id])"
   ]
  },
  {
   "cell_type": "markdown",
   "id": "987a4673",
   "metadata": {},
   "source": [
    "## Asignamiento de IDs"
   ]
  },
  {
   "cell_type": "code",
   "execution_count": null,
   "id": "11942a52",
   "metadata": {},
   "outputs": [],
   "source": [
    "ids = []\n",
    "metas = []\n",
    "cont = 0\n",
    "\n",
    "for i in range(len(docs)):\n",
    "    if (i<2):\n",
    "        ids.append(f\"introduccion_{i+1}\")\n",
    "        metas.append({\"tipo\": \"introduccion\", \"número\": i+1})\n",
    "    elif(i<399):\n",
    "        ids.append(f\"artículo_{i-1}\")\n",
    "        metas.append({\"tipo\": \"artículo\", \"número\": i-1})\n",
    "    elif(i==399):\n",
    "        ids.append(f\"artículo_398_A\")\n",
    "        metas.append({\"tipo\": \"artículo\", \"número\": \"398_A\"})\n",
    "    elif(i==400):\n",
    "        ids.append(f\"artículo_398_B\")\n",
    "        metas.append({\"tipo\": \"artículo\", \"número\": \"398_B\"})\n",
    "    elif(i<414):\n",
    "        ids.append(f\"artículo_{i-2}\")\n",
    "        metas.append({\"tipo\": \"artículo\", \"número\": i-2})\n",
    "    else:\n",
    "        cont += 1\n",
    "        ids.append(f\"disposición_{cont}\")\n",
    "        metas.append({\"tipo\": \"disposicion\", \"número\": cont})\n",
    "\n",
    "assert len(docs) == len(ids) == len(metas)"
   ]
  },
  {
   "cell_type": "markdown",
   "id": "ca54b279",
   "metadata": {},
   "source": [
    "# Embedding part"
   ]
  },
  {
   "cell_type": "markdown",
   "id": "a4410687",
   "metadata": {},
   "source": [
    "### Gemini embedding class"
   ]
  },
  {
   "cell_type": "code",
   "execution_count": 22,
   "id": "8a8d67bc",
   "metadata": {},
   "outputs": [],
   "source": [
    "class GeminiEmbeddingFunction:\n",
    "    def __init__(self, model=\"gemini-embedding-001\"):\n",
    "        self.model = model\n",
    "\n",
    "    def __call__(self, input):\n",
    "        result = gemini_client.models.embed_content(\n",
    "            model=self.model,\n",
    "            contents=input,\n",
    "            config=types.EmbedContentConfig(task_type=\"retrieval_document\")\n",
    "        )\n",
    "        return [emb.values for emb in result.embeddings]\n",
    "    \n",
    "    def embed_query(self, input):\n",
    "        result = gemini_client.models.embed_content(\n",
    "            model=self.model,\n",
    "            contents=input,\n",
    "            config=types.EmbedContentConfig(task_type=\"retrieval_query\")\n",
    "        )\n",
    "        return [emb.values for emb in result.embeddings]"
   ]
  },
  {
   "cell_type": "markdown",
   "id": "9571ad61",
   "metadata": {},
   "source": [
    "### Create chroma db"
   ]
  },
  {
   "cell_type": "code",
   "execution_count": null,
   "id": "5b121f5c",
   "metadata": {},
   "outputs": [],
   "source": [
    "# Funcion para crear la base de datos vectorial (Caso de no tener limite de batch)\n",
    "def create_chroma_db(documents, ids, name):\n",
    "    chroma_client = chromadb.Client()\n",
    "    db = chroma_client.create_collection(\n",
    "        name=name,\n",
    "        embedding_function=GeminiEmbeddingFunction()\n",
    "    )\n",
    "    db.add(\n",
    "        documents=[d.page_content for d in documents],\n",
    "        ids=ids\n",
    "    )\n",
    "    return db"
   ]
  },
  {
   "cell_type": "code",
   "execution_count": 28,
   "id": "ccc0f793",
   "metadata": {},
   "outputs": [],
   "source": [
    "# Funcion para crear la base de datos vectorial con batch limitado (no es limite de API)\n",
    "def create_chroma_db(documents, ids, name, batch_size=100):\n",
    "    import time\n",
    "    chroma_client = chromadb.PersistentClient(path=\"./vector/\" + name)\n",
    "\n",
    "    db = chroma_client.create_collection(\n",
    "        name=name,\n",
    "        embedding_function=GeminiEmbeddingFunction()\n",
    "    )\n",
    "\n",
    "    print(f\"Insertando {len(documents)} documentos en lotes de {batch_size}...\")\n",
    "\n",
    "    for i in range(0, len(documents), batch_size):\n",
    "        batch_docs = documents[i:i+batch_size]\n",
    "        batch_ids = ids[i:i+batch_size]\n",
    "\n",
    "        db.add(\n",
    "            documents=[d.page_content for d in batch_docs],\n",
    "            ids=batch_ids\n",
    "        )\n",
    "\n",
    "        print(f\"Lote {i//batch_size + 1} insertado ({len(batch_docs)} docs)\")\n",
    "        time.sleep(5)\n",
    "\n",
    "    print(\"Base de datos creada exitosamente\")\n",
    "    return db"
   ]
  },
  {
   "cell_type": "code",
   "execution_count": null,
   "id": "4c54a955",
   "metadata": {},
   "outputs": [],
   "source": [
    "db = create_chroma_db(docs, ids, \"cpep_gemini_test5\")"
   ]
  },
  {
   "cell_type": "code",
   "execution_count": null,
   "id": "f181cb2c",
   "metadata": {},
   "outputs": [],
   "source": [
    "import pandas as pd\n",
    "sample_data = db.get(include=['documents', 'embeddings'])\n",
    "\n",
    "df = pd.DataFrame({\n",
    "    \"IDs\": sample_data['ids'][:15],\n",
    "    \"Documents\": sample_data['documents'][:15],\n",
    "    \"Embeddings\": [str(emb)[:150] + \"...\" for emb in sample_data['embeddings'][:15]]  # Truncate embeddings\n",
    "})\n",
    "\n",
    "df"
   ]
  },
  {
   "cell_type": "markdown",
   "id": "451ec8c3",
   "metadata": {},
   "source": [
    "### Cargar chroma db"
   ]
  },
  {
   "cell_type": "code",
   "execution_count": null,
   "id": "0323589b",
   "metadata": {},
   "outputs": [
    {
     "name": "stdout",
     "output_type": "stream",
     "text": [
      "Total de documentos: 426\n"
     ]
    }
   ],
   "source": [
    "client = chromadb.PersistentClient(path=\"./vector/cpep_gemini_test5\")\n",
    "\n",
    "db = client.get_collection(name=\"cpep_gemini_test5\")\n",
    "\n",
    "db._embedding_function = GeminiEmbeddingFunction()\n",
    "\n",
    "print(\"Total de documentos:\", db.count())"
   ]
  },
  {
   "cell_type": "code",
   "execution_count": null,
   "id": "ed936ee4",
   "metadata": {},
   "outputs": [
    {
     "name": "stdout",
     "output_type": "stream",
     "text": [
      "Documento 1\n",
      "Parte Cuarta: Estructura y organización económica del Estado\n",
      "Título 2: Medio Ambiente, Recursos Naturales, Tierra y Territorio\n",
      "Capítulo Noveno: Tierra y territorio\n",
      "Sección None: None\n",
      "Artículo 398: opción A para el Referendo Dirimitorio (Prohibición del Latifundio y la Doble Titulación)\n",
      "Se prohíbe el latifundio y la doble titulación por ser contrarios al interés colectivo y al desarrollo del país. \n",
      "Documento 2\n",
      "Parte Cuarta: Estructura y organización económica del Estado\n",
      "Título 2: Medio Ambiente, Recursos Naturales, Tierra y Territorio\n",
      "Capítulo Noveno: Tierra y territorio\n",
      "Sección None: None\n",
      "Artículo 398: opción B para el Referendo Dirimitorio (Prohibición del Latifundio y la Doble Titulación)\n",
      "Se prohíbe el latifundio y la doble titulación por ser contrarios al interés colectivo y al desarrollo del país. \n",
      "Documento 3\n",
      "Parte Primera: Bases fundamentales del estado derechos, deberes y garantías\n",
      "Título 2: Derechos Fundamentales y Garantías\n",
      "Capítulo Sexto: Educación, interculturalidad y derechos culturales\n",
      "Sección 3: Culturas\n",
      "Artículo 98: Interculturalidad y Diversidad Cultural\n",
      "I. La diversidad cultural constituye la base esencial del Estado Plurinacional Comunitario. La interculturalidad es el instrumento para la \n",
      "Documento 4\n",
      "Parte Tercera: Estructura y organización territorial del estado\n",
      "Título 1: Organización territorial del estado\n",
      "Capítulo Octavo: Distribución de competencias\n",
      "Sección None: None\n",
      "Artículo 298: Competencias Privativas y Exclusivas del Nivel Central del Estado\n",
      "I. Son competencias privativas del nivel central del Estado: 1. Sistema financiero. 2. Política monetaria, Banco Central, sistema monetario, y la\n",
      "Documento 5\n",
      "Parte Cuarta: Estructura y organización económica del Estado\n",
      "Título 2: Medio Ambiente, Recursos Naturales, Tierra y Territorio\n",
      "Capítulo Noveno: Tierra y territorio\n",
      "Sección None: None\n",
      "Artículo 395: Dotación de Tierras Fiscales y Políticas de Desarrollo Rural Sustentable\n",
      "I. Las tierras fiscales serán dotadas a indígena originario campesinos, comunidades interculturales originarias, afrobolivianos y \n"
     ]
    }
   ],
   "source": [
    "query = \"¿Qué dice el artículo 398 de la constitución política del estado boliviano?\"\n",
    "results = db.query(query_texts=[query], n_results=5)\n",
    "\n",
    "for i, doc in enumerate(results[\"documents\"][0]):\n",
    "    print(f\"Documento {i+1}\")\n",
    "    print(doc[:400])"
   ]
  },
  {
   "cell_type": "code",
   "execution_count": null,
   "id": "4ea1a041",
   "metadata": {},
   "outputs": [
    {
     "name": "stdout",
     "output_type": "stream",
     "text": [
      "vector_store_gemini: 426 documentos.\n",
      "426\n",
      "{'ids': ['introduccion_1', 'introduccion_2', 'artículo_1', 'artículo_2', 'artículo_3', 'artículo_4', 'artículo_5', 'artículo_6', 'artículo_7', 'artículo_8'], 'embeddings': array([[ 0.00245742,  0.04283391,  0.01778333, ...,  0.02235511,\n",
      "        -0.00752448, -0.00406222],\n",
      "       [-0.00149028,  0.01373982,  0.04177929, ...,  0.0159325 ,\n",
      "         0.01358084,  0.00048896],\n",
      "       [-0.00251971,  0.02007411,  0.03636278, ...,  0.01281254,\n",
      "         0.00248115, -0.01281189],\n",
      "       ...,\n",
      "       [-0.01256879,  0.01323783,  0.02546843, ...,  0.02831057,\n",
      "        -0.00088528, -0.02769176],\n",
      "       [-0.01420504,  0.01602528,  0.02913002, ...,  0.00889516,\n",
      "         0.00680231, -0.0045351 ],\n",
      "       [-0.01655631,  0.00083472,  0.02253124, ...,  0.02003035,\n",
      "         0.02303935,  0.00135051]], shape=(10, 3072)), 'documents': ['Título: Antecedentes Legales\\nSubtítulo: None\\nLa Constitución Política del Estado, promulgada el 7 de febrero de 2009, consta de 5 Partes: I. BASES FUNDAMENTALES DEL ESTADO II. DERECHOS, DEBERES Y GARANTÍAS III. ESTRUCTURA Y ORGANIZACIÓN FUNCIONAL DEL ESTADO IV. ESTRUCTURA Y ORGANIZACIÓN TERRITORIAL DEL ESTADO V. JERARQUÍA NORMATIVA Y REFORMA DE LA CONSTITUCIÓN El anteproyecto de la Constitución vigente, fue elaborado por la Asamblea Constituyente 2006 – 2007, revisada y sancionada por el Congreso de la República en octubre de 2008. Aprobada mediante Referéndum Constitucional el 25 de enero de 2009 y promulgada el 7 de febrero de 2009, en un acto público en la ciudad de El Alto, del Departamento de La Paz. La Constitución vigente, sustituye a la Constitución Política del Estado sancionada por la Asamblea Constituyente 1966 – 1967 y promulgada el 2 de febrero de 1967. La cual tuvo una vigencia de más de 40 años, desde 1967 a 2009, y reformada en dos ocasiones según las siguientes normas: • Ley de Necesidad de Reforma de la Constitución Política del Estado: Ley Nº 1473 de 1 de abril de 1993; • Ley de Reforma a la Constitución Política del Estado: Ley Nº 1585 de 12 de agosto de 1994; • Ley de Adecuaciones y Concordancias de la Constitución Política del Estado (texto completo): Ley Nº 1615 de 6 de febrero de 1995;• Ley de Necesidad de Reforma de la Constitución Política del Estado: Ley Nº 2410 de 1ro de agosto de 2002; • Ley de Reforma a la Constitución Política del Estrado: Ley Nº 2631 de 20 de febrero de 2004; • Ley de Incorporación al Texto de la Constitución Política del Estado (texto completo) Ley Nº 2650 de 13 de abril de 2004; • Ley de Reforma a la Constitución Política del Estado: Ley Nº 3089 de 6 de julio de 2005; • Ley Interpretativa del Artículo 109 de la Constitución Política del Estado: Ley Nº 3090 de 6 de julio de 2005.', 'Título: Constitución Política del Estado\\nSubtítulo: Preámbulo\\nEn tiempos inmemoriales se erigieron montañas, se desplazaron ríos, se formaron lagos. Nuestra amazonia, nuestro chaco, nuestro altiplano y nuestros llanos y valles se cubrieron de verdores y flores. Poblamos esta sagrada Madre Tierra con rostros diferentes, y comprendimos desde entonces la pluralidad vigente de todas las cosas y nuestra diversidad como seres y culturas. Así conformamos nuestros pueblos, y jamás comprendimos el racismo hasta que lo sufrimos desde los funestos tiempos de la colonia. El pueblo boliviano, de composición plural, desde la profundidad de la historia, inspirado en las luchas del pasado, en la sublevación indígena anticolonial, en la independencia, en las luchas populares de liberación, en las marchas indígenas, sociales y sindicales, en las guerras del agua y de octubre, en las luchas por la tierra y territorio, y con la memoria de nuestros mártires, construimos un nuevo Estado. Un Estado basado en el respeto e igualdad entre todos, con principios de soberanía, dignidad, complementariedad, solidaridad, armonía y equidad en la distribución y redistribución del producto social, donde predomine la búsqueda del vivir bien; con respeto a la pluralidad económica, social, jurídica, política y cultural de los habitantes de esta tierra; en convivencia colectiva con acceso al agua, trabajo, educación, salud y vivienda para todos. Dejamos en el pasado el Estado colonial, republicano y neoliberal. Asumimos el reto histórico de construir colectivamente el Estado Unitario Social de Derecho Plurinacional Comunitario, que integra y articula los propósitos de avanzar hacia una Bolivia democrática, productiva, portadora e inspiradora de la paz, comprometida con el desarrollo integral y con la libre determinación de los pueblos. Nosotros, mujeres y hombres, a través de la Asamblea Constituyente y con el poder originario del pueblo, manifestamos nuestro compromiso con la unidad e integridad del país. Cumpliendo el mandato de nuestros pueblos, con la fortaleza de nuestra Pachamama y gracias a Dios, refundamos Bolivia. Honor y gloria a los mártires de la gesta constituyente y liberadora, que han hecho posible esta nueva historia.', 'Parte Primera: Bases fundamentales del estado derechos, deberes y garantías\\nTítulo 1: Bases fundamentales del estado\\nCapítulo Primero: Modelo de Estado\\nSección None: None\\nArtículo 1: Modelol de Estado\\nBolivia se constituye en un Estado Unitario Social de Derecho Plurinacional Comunitario, libre, independiente, soberano, democrático, intercultural, descentralizado y con autonomías. Bolivia se funda en la pluralidad y el pluralismo político, económico, jurídico, cultural y lingüístico, dentro del proceso integrador del país.', 'Parte Primera: Bases fundamentales del estado derechos, deberes y garantías\\nTítulo 1: Bases fundamentales del estado\\nCapítulo Primero: Modelo de Estado\\nSección None: None\\nArtículo 2: Autodeterminación de Naciones y Pueblos Indígenas Originario Campesinas\\nDada la existencia precolonial de las naciones y pueblos indígena originario campesinos y su dominio ancestral sobre sus territorios, se garantiza su libre determinación en el marco de la unidad del Estado, que consiste en su derecho a la autonomía, al autogobierno, a su cultura, al reconocimiento de sus instituciones y a la consolidación de sus entidades territoriales, conforme a esta Constitución y la ley.', 'Parte Primera: Bases fundamentales del estado derechos, deberes y garantías\\nTítulo 1: Bases fundamentales del estado\\nCapítulo Primero: Modelo de Estado\\nSección None: None\\nArtículo 3: Conformación de la Nación Boliviana\\nLa nación boliviana está conformada por la totalidad de las bolivianas y los bolivianos, las naciones y pueblos indígena originario campesinos, y las comunidades interculturales y afrobolivianas que en conjunto constituyen el pueblo boliviano.', 'Parte Primera: Bases fundamentales del estado derechos, deberes y garantías\\nTítulo 1: Bases fundamentales del estado\\nCapítulo Primero: Modelo de Estado\\nSección None: None\\nArtículo 4: Religión y Cultos\\nEl Estado respeta y garantiza la libertad de religión y de creencias espirituales, de acuerdo con sus cosmovisiones. El Estado es independiente de la religión.', 'Parte Primera: Bases fundamentales del estado derechos, deberes y garantías\\nTítulo 1: Bases fundamentales del estado\\nCapítulo Primero: Modelo de Estado\\nSección None: None\\nArtículo 5: Idiomas Oficiales\\nI. Son idiomas oficiales del Estado el castellano y todos los idiomas de las naciones y pueblos indígena originario campesinos, que son el aymara, araona, baure, bésiro, canichana, cavineño, cayubaba, chácobo, chimán, ese ejja, guaraní, guarasu’we, guarayu, itonama, leco, machajuyai-kallawaya, machineri, maropa, mojeño-trinitario, mojeño-ignaciano, moré, mosetén, movima, pacawara, puquina, quechua, sirionó, tacana, tapiete, toromona, uru-chipaya, weenhayek, yaminawa, yuki, yuracaré y zamuco. II. El Gobierno plurinacional y los gobiernos departamentales deben utilizar al menos dos idiomas oficiales. Uno de ellos debe ser el castellano, y el otro se decidirá tomando en cuenta el uso, la conveniencia, las circunstancias, las necesidades y preferencias de la población en su totalidad o del territorio en cuestión. Los demás gobiernos autónomos deben utilizar los idiomas propios de su territorio, y uno de ellos debe ser el castellano.', 'Parte Primera: Bases fundamentales del estado derechos, deberes y garantías\\nTítulo 1: Bases fundamentales del estado\\nCapítulo Primero: Modelo de Estado\\nSección None: None\\nArtículo 6: Capital y Símbolosa Patrios\\nI. Sucre es la Capital de Bolivia. II. Los símbolos del Estado son la bandera tricolor rojo, amarillo y verde; el himno boliviano; el escudo de armas; la wiphala; la escarapela; la flor de la kantuta y la flor del patujú.', 'Parte Primera: Bases fundamentales del estado derechos, deberes y garantías\\nTítulo 1: Bases fundamentales del estado\\nCapítulo Segundo: Principios, Valores y Fines del Estado\\nSección None: None\\nArtículo 7: Soberanía del Pueblo\\nLa soberanía reside en el pueblo boliviano, se ejerce de forma directa y delegada. De ella emanan, por delegación, las funciones y atribuciones de los órganos del poder público; es inalienable e imprescriptible.', 'Parte Primera: Bases fundamentales del estado derechos, deberes y garantías\\nTítulo 1: Bases fundamentales del estado\\nCapítulo Segundo: Principios, Valores y Fines del Estado\\nSección None: None\\nArtículo 8: Principios Ético-morales y Valores del Estado\\nI. El Estado asume y promueve como principios ético-morales de la sociedad plural: ama qhilla, ama llulla, ama suwa (no seas flojo, no seas mentiroso ni seas ladrón), suma qamaña (vivir bien), ñandereko (vida armoniosa), teko kavi (vida buena), ivi maraei (tierra sin mal) y qhapaj ñan (camino o vida noble). II. El Estado se sustenta en los valores de unidad, igualdad, inclusión, dignidad, libertad, solidaridad, reciprocidad, respeto, complementariedad, armonía, transparencia, equilibrio, igualdad de oportunidades, equidad social y de género en la participación, bienestar común, responsabilidad, justicia social, distribución y redistribución de los productos y bienes sociales, para vivir bien.'], 'uris': None, 'included': ['metadatas', 'documents', 'embeddings'], 'data': None, 'metadatas': [None, None, None, None, None, None, None, None, None, None]}\n"
     ]
    }
   ],
   "source": [
    "print(\"vector_store:\", db.count(), \"documentos.\")\n",
    "print(db.count())\n",
    "print(db.peek())"
   ]
  },
  {
   "cell_type": "markdown",
   "id": "574f1161",
   "metadata": {},
   "source": [
    "## Similarity Search"
   ]
  },
  {
   "cell_type": "code",
   "execution_count": null,
   "id": "788d09a5",
   "metadata": {},
   "outputs": [],
   "source": [
    "from numpy import dot\n",
    "from numpy.linalg import norm\n",
    "\n",
    "def print_documents_distances(results, show_score=False):\n",
    "    if show_score:\n",
    "        for i, (doc, score) in enumerate(zip(results[\"documents\"][0], results[\"distances\"][0])):\n",
    "            print(f\"{'-'*80}\")\n",
    "            print(f\"Documento {i+1} | score={round(score, 4)}\")\n",
    "            print(doc[:400])\n",
    "            print(\"\\n\")\n",
    "    else:\n",
    "        for i, doc in enumerate(results[\"documents\"][0]):\n",
    "            print(f\"{'-'*80}\")\n",
    "            print(f\"Documento {i+1}\")\n",
    "            print(doc[:400])\n",
    "            print(\"\\n\")\n",
    "\n",
    "def print_documents_similarity(results, show_score=False):\n",
    "    if show_score:\n",
    "        for i, (doc, dist) in enumerate(zip(results[\"documents\"][0], results[\"distances\"][0])):\n",
    "            similarity = 1 - dist  # convertir distancia a similitud\n",
    "            print(f\"{'-'*80}\")\n",
    "            print(f\"Documento {i+1} | similitud={round(similarity,4)}\")\n",
    "            print(doc[:400])\n",
    "            print(\"\\n\")\n",
    "    else:\n",
    "        for i, doc in enumerate(results[\"documents\"][0]):\n",
    "            print(f\"{'-'*80}\")\n",
    "            print(f\"Documento {i+1}\")\n",
    "            print(doc[:400])\n",
    "            print(\"\\n\")\n"
   ]
  },
  {
   "cell_type": "code",
   "execution_count": null,
   "id": "1e57d30b",
   "metadata": {},
   "outputs": [
    {
     "name": "stdout",
     "output_type": "stream",
     "text": [
      "\n",
      "--------------------------------------------------------------------------------\n",
      "📄 Documento 1 | score=0.4547\n",
      "Parte Cuarta: Estructura y organización económica del Estado\n",
      "Título 2: Medio Ambiente, Recursos Naturales, Tierra y Territorio\n",
      "Capítulo Noveno: Tierra y territorio\n",
      "Sección None: None\n",
      "Artículo 398: opción A para el Referendo Dirimitorio (Prohibición del Latifundio y la Doble Titulación)\n",
      "Se prohíbe el latifundio y la doble titulación por ser contrarios al interés colectivo y al desarrollo del país. \n",
      "\n",
      "--------------------------------------------------------------------------------\n",
      "📄 Documento 2 | score=0.4579\n",
      "Parte Cuarta: Estructura y organización económica del Estado\n",
      "Título 2: Medio Ambiente, Recursos Naturales, Tierra y Territorio\n",
      "Capítulo Noveno: Tierra y territorio\n",
      "Sección None: None\n",
      "Artículo 398: opción B para el Referendo Dirimitorio (Prohibición del Latifundio y la Doble Titulación)\n",
      "Se prohíbe el latifundio y la doble titulación por ser contrarios al interés colectivo y al desarrollo del país. \n",
      "\n",
      "--------------------------------------------------------------------------------\n",
      "📄 Documento 3 | score=0.4876\n",
      "Parte Primera: Bases fundamentales del estado derechos, deberes y garantías\n",
      "Título 2: Derechos Fundamentales y Garantías\n",
      "Capítulo Sexto: Educación, interculturalidad y derechos culturales\n",
      "Sección 3: Culturas\n",
      "Artículo 98: Interculturalidad y Diversidad Cultural\n",
      "I. La diversidad cultural constituye la base esencial del Estado Plurinacional Comunitario. La interculturalidad es el instrumento para la \n",
      "\n",
      "--------------------------------------------------------------------------------\n",
      "📄 Documento 4 | score=0.4916\n",
      "Parte Tercera: Estructura y organización territorial del estado\n",
      "Título 1: Organización territorial del estado\n",
      "Capítulo Octavo: Distribución de competencias\n",
      "Sección None: None\n",
      "Artículo 298: Competencias Privativas y Exclusivas del Nivel Central del Estado\n",
      "I. Son competencias privativas del nivel central del Estado: 1. Sistema financiero. 2. Política monetaria, Banco Central, sistema monetario, y la\n",
      "\n",
      "--------------------------------------------------------------------------------\n",
      "📄 Documento 5 | score=0.4938\n",
      "Parte Cuarta: Estructura y organización económica del Estado\n",
      "Título 2: Medio Ambiente, Recursos Naturales, Tierra y Territorio\n",
      "Capítulo Noveno: Tierra y territorio\n",
      "Sección None: None\n",
      "Artículo 395: Dotación de Tierras Fiscales y Políticas de Desarrollo Rural Sustentable\n",
      "I. Las tierras fiscales serán dotadas a indígena originario campesinos, comunidades interculturales originarias, afrobolivianos y \n"
     ]
    }
   ],
   "source": [
    "\n",
    "query = \"¿Qué dice el artículo 398 de la constitución política del estado boliviano?\"\n",
    "results = db.query(query_texts=[query], n_results=5)\n",
    "print_documents_distances(results, show_score=True)"
   ]
  },
  {
   "cell_type": "code",
   "execution_count": null,
   "id": "86ba0b38",
   "metadata": {},
   "outputs": [
    {
     "name": "stdout",
     "output_type": "stream",
     "text": [
      "\n",
      "--------------------------------------------------------------------------------\n",
      "📄 Documento 1 | similitud=0.5453\n",
      "Parte Cuarta: Estructura y organización económica del Estado\n",
      "Título 2: Medio Ambiente, Recursos Naturales, Tierra y Territorio\n",
      "Capítulo Noveno: Tierra y territorio\n",
      "Sección None: None\n",
      "Artículo 398: opción A para el Referendo Dirimitorio (Prohibición del Latifundio y la Doble Titulación)\n",
      "Se prohíbe el latifundio y la doble titulación por ser contrarios al interés colectivo y al desarrollo del país. \n",
      "\n",
      "--------------------------------------------------------------------------------\n",
      "📄 Documento 2 | similitud=0.5421\n",
      "Parte Cuarta: Estructura y organización económica del Estado\n",
      "Título 2: Medio Ambiente, Recursos Naturales, Tierra y Territorio\n",
      "Capítulo Noveno: Tierra y territorio\n",
      "Sección None: None\n",
      "Artículo 398: opción B para el Referendo Dirimitorio (Prohibición del Latifundio y la Doble Titulación)\n",
      "Se prohíbe el latifundio y la doble titulación por ser contrarios al interés colectivo y al desarrollo del país. \n",
      "\n",
      "--------------------------------------------------------------------------------\n",
      "📄 Documento 3 | similitud=0.5124\n",
      "Parte Primera: Bases fundamentales del estado derechos, deberes y garantías\n",
      "Título 2: Derechos Fundamentales y Garantías\n",
      "Capítulo Sexto: Educación, interculturalidad y derechos culturales\n",
      "Sección 3: Culturas\n",
      "Artículo 98: Interculturalidad y Diversidad Cultural\n",
      "I. La diversidad cultural constituye la base esencial del Estado Plurinacional Comunitario. La interculturalidad es el instrumento para la \n",
      "\n",
      "--------------------------------------------------------------------------------\n",
      "📄 Documento 4 | similitud=0.5084\n",
      "Parte Tercera: Estructura y organización territorial del estado\n",
      "Título 1: Organización territorial del estado\n",
      "Capítulo Octavo: Distribución de competencias\n",
      "Sección None: None\n",
      "Artículo 298: Competencias Privativas y Exclusivas del Nivel Central del Estado\n",
      "I. Son competencias privativas del nivel central del Estado: 1. Sistema financiero. 2. Política monetaria, Banco Central, sistema monetario, y la\n",
      "\n",
      "--------------------------------------------------------------------------------\n",
      "📄 Documento 5 | similitud=0.5062\n",
      "Parte Cuarta: Estructura y organización económica del Estado\n",
      "Título 2: Medio Ambiente, Recursos Naturales, Tierra y Territorio\n",
      "Capítulo Noveno: Tierra y territorio\n",
      "Sección None: None\n",
      "Artículo 395: Dotación de Tierras Fiscales y Políticas de Desarrollo Rural Sustentable\n",
      "I. Las tierras fiscales serán dotadas a indígena originario campesinos, comunidades interculturales originarias, afrobolivianos y \n"
     ]
    }
   ],
   "source": [
    "print_documents_similarity(results, show_score=True)"
   ]
  },
  {
   "cell_type": "code",
   "execution_count": null,
   "id": "f6b40c0a",
   "metadata": {},
   "outputs": [
    {
     "name": "stdout",
     "output_type": "stream",
     "text": [
      "🔹 Similaridad de documento_1 con el query: 0.7726\n",
      "🔹 Similaridad de documento_2 con el query: 0.7711\n",
      "🔹 Similaridad de documento_3 con el query: 0.7562\n",
      "🔹 Similaridad de documento_4 con el query: 0.7542\n",
      "🔹 Similaridad de documento_5 con el query: 0.7531\n"
     ]
    }
   ],
   "source": [
    "embedding_adapter = GeminiEmbeddingFunction()\n",
    "query_embeddings = embedding_adapter.embed_query(query)[0]\n",
    "\n",
    "docs_texts = results[\"documents\"][0]\n",
    "\n",
    "docs_embeddings = [embedding_adapter(text)[0] for text in docs_texts]\n",
    "\n",
    "for i, doc_emb in enumerate(docs_embeddings):\n",
    "    similarity = np.dot(query_embeddings, doc_emb) / (\n",
    "        np.linalg.norm(query_embeddings) * np.linalg.norm(doc_emb)\n",
    "    )\n",
    "    print(f\"Similaridad de documento_{i+1} con el query: {round(similarity,4)}\")"
   ]
  },
  {
   "cell_type": "markdown",
   "id": "8595926e",
   "metadata": {},
   "source": [
    "# Retrievers"
   ]
  },
  {
   "cell_type": "markdown",
   "id": "874848ac",
   "metadata": {},
   "source": [
    "### Vector Store-backed retriever"
   ]
  },
  {
   "cell_type": "code",
   "execution_count": null,
   "id": "7ab66ef4",
   "metadata": {},
   "outputs": [],
   "source": [
    "import numpy as np\n",
    "\n",
    "class ChromaGeminiRetriever:\n",
    "    def __init__(self, chroma_collection, embedding_function, k=4, score_threshold=None):\n",
    "        self.collection = chroma_collection\n",
    "        self.embedding_function = embedding_function\n",
    "        self.k = k\n",
    "        self.score_threshold = score_threshold\n",
    "\n",
    "    def retrieve(self, query):\n",
    "        results = self.collection.query(query_texts=[query], n_results=self.k)\n",
    "\n",
    "        if self.score_threshold is not None and \"distances\" in results:\n",
    "            filtered_docs = []\n",
    "            filtered_scores = []\n",
    "            for doc, score in zip(results[\"documents\"][0], results[\"distances\"][0]):\n",
    "                if score <= self.score_threshold:\n",
    "                    filtered_docs.append(doc)\n",
    "                    filtered_scores.append(score)\n",
    "            results[\"documents\"][0] = filtered_docs\n",
    "            results[\"distances\"][0] = filtered_scores\n",
    "\n",
    "        return results\n",
    "\n",
    "    def invoke(self, query):\n",
    "        return self.retrieve(query)"
   ]
  },
  {
   "cell_type": "code",
   "execution_count": null,
   "id": "344bec82",
   "metadata": {},
   "outputs": [],
   "source": [
    "embedding_function = GeminiEmbeddingFunction()\n",
    "retriever_gemini = ChromaGeminiRetriever(\n",
    "    chroma_collection=db,\n",
    "    embedding_function=embedding_function,\n",
    "    k=5,                      \n",
    "    score_threshold=None     \n",
    ")"
   ]
  },
  {
   "cell_type": "code",
   "execution_count": null,
   "id": "883cdcc6",
   "metadata": {},
   "outputs": [
    {
     "name": "stdout",
     "output_type": "stream",
     "text": [
      "\n",
      "--------------------------------------------------------------------------------\n",
      "📄 Documento 1 | similitud=0.5453\n",
      "Parte Cuarta: Estructura y organización económica del Estado\n",
      "Título 2: Medio Ambiente, Recursos Naturales, Tierra y Territorio\n",
      "Capítulo Noveno: Tierra y territorio\n",
      "Sección None: None\n",
      "Artículo 398: opción A para el Referendo Dirimitorio (Prohibición del Latifundio y la Doble Titulación)\n",
      "Se prohíbe el latifundio y la doble titulación por ser contrarios al interés colectivo y al desarrollo del país. \n",
      "\n",
      "--------------------------------------------------------------------------------\n",
      "📄 Documento 2 | similitud=0.5421\n",
      "Parte Cuarta: Estructura y organización económica del Estado\n",
      "Título 2: Medio Ambiente, Recursos Naturales, Tierra y Territorio\n",
      "Capítulo Noveno: Tierra y territorio\n",
      "Sección None: None\n",
      "Artículo 398: opción B para el Referendo Dirimitorio (Prohibición del Latifundio y la Doble Titulación)\n",
      "Se prohíbe el latifundio y la doble titulación por ser contrarios al interés colectivo y al desarrollo del país. \n",
      "\n",
      "--------------------------------------------------------------------------------\n",
      "📄 Documento 3 | similitud=0.5124\n",
      "Parte Primera: Bases fundamentales del estado derechos, deberes y garantías\n",
      "Título 2: Derechos Fundamentales y Garantías\n",
      "Capítulo Sexto: Educación, interculturalidad y derechos culturales\n",
      "Sección 3: Culturas\n",
      "Artículo 98: Interculturalidad y Diversidad Cultural\n",
      "I. La diversidad cultural constituye la base esencial del Estado Plurinacional Comunitario. La interculturalidad es el instrumento para la \n",
      "\n",
      "--------------------------------------------------------------------------------\n",
      "📄 Documento 4 | similitud=0.5084\n",
      "Parte Tercera: Estructura y organización territorial del estado\n",
      "Título 1: Organización territorial del estado\n",
      "Capítulo Octavo: Distribución de competencias\n",
      "Sección None: None\n",
      "Artículo 298: Competencias Privativas y Exclusivas del Nivel Central del Estado\n",
      "I. Son competencias privativas del nivel central del Estado: 1. Sistema financiero. 2. Política monetaria, Banco Central, sistema monetario, y la\n",
      "\n",
      "--------------------------------------------------------------------------------\n",
      "📄 Documento 5 | similitud=0.5062\n",
      "Parte Cuarta: Estructura y organización económica del Estado\n",
      "Título 2: Medio Ambiente, Recursos Naturales, Tierra y Territorio\n",
      "Capítulo Noveno: Tierra y territorio\n",
      "Sección None: None\n",
      "Artículo 395: Dotación de Tierras Fiscales y Políticas de Desarrollo Rural Sustentable\n",
      "I. Las tierras fiscales serán dotadas a indígena originario campesinos, comunidades interculturales originarias, afrobolivianos y \n"
     ]
    }
   ],
   "source": [
    "query = \"¿Qué dice el artículo 398 de la constitución política del estado boliviano?\"\n",
    "relevant_docs = retriever_gemini.invoke(query)\n",
    "print_documents_similarity(relevant_docs, show_score=True)"
   ]
  },
  {
   "cell_type": "markdown",
   "id": "1de44845",
   "metadata": {},
   "source": [
    "### ChatModel"
   ]
  },
  {
   "cell_type": "code",
   "execution_count": null,
   "id": "4270d606",
   "metadata": {},
   "outputs": [],
   "source": [
    "class ChatGemini:\n",
    "    def __init__(self, model=\"gemini-2.5-flash-lite\", temperature=0.3, memory=None):\n",
    "        self.model = model\n",
    "        self.temperature = temperature\n",
    "        self.memory = memory\n",
    "\n",
    "    def invoke(self, prompt):\n",
    "        # Incluir memoria\n",
    "        if self.memory and self.memory.history:\n",
    "            context = self.memory.get_context()\n",
    "            prompt = f\"{context}\\n\\nUsuario: {prompt}\\nAsistente:\"\n",
    "        \n",
    "        response = gemini_client.models.generate_content(\n",
    "            model=self.model,\n",
    "            contents=prompt,\n",
    "            config={\n",
    "                \"temperature\": self.temperature,\n",
    "                \"max_output_tokens\": 1024\n",
    "            }\n",
    "        )\n",
    "\n",
    "        if self.memory:\n",
    "            self.memory.add_message(\"user\", prompt)\n",
    "            self.memory.add_message(\"assistant\", response.text)\n",
    "\n",
    "        return response.text"
   ]
  },
  {
   "cell_type": "code",
   "execution_count": 45,
   "id": "bd308537",
   "metadata": {},
   "outputs": [],
   "source": [
    "# test\n",
    "prompt_test = \"¿Qué dice el artículo 398 de la Constitución Política del estado boliviano?\"\n",
    "llm = ChatGemini()\n",
    "response = llm.invoke(prompt_test)"
   ]
  },
  {
   "cell_type": "code",
   "execution_count": 46,
   "id": "1098e8ca",
   "metadata": {},
   "outputs": [
    {
     "name": "stdout",
     "output_type": "stream",
     "text": [
      "El artículo 398 de la Constitución Política del Estado Plurinacional de Bolivia se refiere a la **propiedad de los recursos naturales y la participación de las comunidades indígenas y campesinas en su aprovechamiento**.\n",
      "\n",
      "Aquí te presento el contenido del artículo:\n",
      "\n",
      "**Artículo 398.**\n",
      "\"Los recursos naturales son de carácter estratégico y de interés soberano de las bolivianas y los bolivianos. El Estado, a través de las entidades y empresas públicas, se encargará de su exploración, explotación, industrialización, distribución y comercialización, en los términos que establezca la ley.\n",
      "\n",
      "Las comunidades indígenas y campesinas, como titulares de la tierra, participarán en el aprovechamiento de los recursos naturales existentes en ella, en los términos que establezca la ley.\"\n",
      "\n",
      "**En resumen, el artículo 398 establece dos puntos clave:**\n",
      "\n",
      "1.  **Soberanía y Estrategia de los Recursos Naturales:** Los recursos naturales son considerados de gran importancia estratégica y pertenecen soberanamente a todas las bolivianas y bolivianos. El Estado tiene la responsabilidad principal de gestionar su ciclo completo, desde la exploración hasta la comercialización, a través de sus entidades y empresas públicas.\n",
      "2.  **Participación de Comunidades Indígenas y Campesinas:** Las comunidades indígenas y campesinas, al ser consideradas titulares de la tierra, tienen derecho a participar en el aprovechamiento de los recursos naturales que se encuentren en sus territorios. La forma y los términos de esta participación serán definidos por la ley.\n",
      "\n",
      "Es importante recordar que la Constitución establece los principios generales, y las leyes específicas son las que detallan cómo se implementan estos derechos y responsabilidades.\n"
     ]
    }
   ],
   "source": [
    "print(response)"
   ]
  },
  {
   "cell_type": "markdown",
   "id": "89f9379c",
   "metadata": {},
   "source": [
    "### Memory"
   ]
  },
  {
   "cell_type": "code",
   "execution_count": null,
   "id": "657fb9e0",
   "metadata": {},
   "outputs": [],
   "source": [
    "from datetime import datetime\n",
    "\n",
    "class ConversationMemory:\n",
    "    def __init__(self, max_turns=10):\n",
    "        self.history = []\n",
    "        self.max_turns = max_turns\n",
    "\n",
    "    def add_message(self, role, content):\n",
    "        # Agregar el mensaje al historial user o assistant\n",
    "        self.history.append({\n",
    "            \"role\": role,\n",
    "            \"content\": content,\n",
    "            \"timestamp\": datetime.now().isoformat()\n",
    "        })\n",
    "\n",
    "        if len(self.history) > self.max_turns * 2:\n",
    "            self.history = self.history[-self.max_turns*2:]\n",
    "\n",
    "    def get_context(self):\n",
    "        if not self.history:\n",
    "            return \"No hay historial previo.\"\n",
    "        return \"\\n\".join([f\"{m['role'].capitalize()}: {m['content']}\" for m in self.history])\n",
    "\n",
    "    def clear(self):\n",
    "        self.history = []\n"
   ]
  },
  {
   "cell_type": "code",
   "execution_count": null,
   "id": "6d303d68",
   "metadata": {},
   "outputs": [],
   "source": [
    "def reset_chat_session(llm):\n",
    "    if llm.memory:\n",
    "        llm.memory.clear()\n",
    "        print(\" Memoria temporal del chat borrada.\")\n",
    "    else:\n",
    "        print(\"No hay memoria activa para borrar.\")"
   ]
  },
  {
   "cell_type": "code",
   "execution_count": null,
   "id": "70268bee",
   "metadata": {},
   "outputs": [],
   "source": [
    "# Para resetear la memoria\n",
    "reset_chat_session(llm)"
   ]
  },
  {
   "cell_type": "markdown",
   "id": "cda6dc45",
   "metadata": {},
   "source": [
    "### PromptTemplate"
   ]
  },
  {
   "cell_type": "code",
   "execution_count": 49,
   "id": "c062651b",
   "metadata": {},
   "outputs": [],
   "source": [
    "standalone_question_template = \"\"\"\n",
    "Dada la siguiente conversación y una pregunta de seguimiento,\n",
    "reformula la pregunta de seguimiento para que sea una pregunta independiente,\n",
    "manteniendo su significado original y en el mismo idioma (español).\n",
    "\n",
    "Historial de chat:\n",
    "{chat_history}\n",
    "\n",
    "Pregunta de seguimiento:\n",
    "{question}\n",
    "\n",
    "Pregunta independiente:\n",
    "\"\"\""
   ]
  },
  {
   "cell_type": "code",
   "execution_count": 53,
   "id": "5697e0db",
   "metadata": {},
   "outputs": [],
   "source": [
    "def build_reformulation_prompt(memory, question):\n",
    "    chat_history = memory.get_context() if memory else \"No hay historial previo.\"\n",
    "    prompt = standalone_question_template.format(\n",
    "        chat_history=chat_history,\n",
    "        question=question\n",
    "    )\n",
    "    return prompt"
   ]
  },
  {
   "cell_type": "code",
   "execution_count": 54,
   "id": "82189f92",
   "metadata": {},
   "outputs": [
    {
     "name": "stdout",
     "output_type": "stream",
     "text": [
      "\n",
      "Dada la siguiente conversación y una pregunta de seguimiento,\n",
      "reformula la pregunta de seguimiento para que sea una pregunta independiente,\n",
      "manteniendo su significado original y en el mismo idioma (español).\n",
      "\n",
      "Historial de chat:\n",
      "User: ¿Qué dice el artículo 7 de la Constitución Política del Estado boliviano?\n",
      "Assistant: El Artículo 7 establece los principios fundamentales del Estado Plurinacional de Bolivia.\n",
      "\n",
      "Pregunta de seguimiento:\n",
      "¿Y qué pasa si no se respetan esos derechos?\n",
      "\n",
      "Pregunta independiente:\n",
      "\n"
     ]
    }
   ],
   "source": [
    "#test \n",
    "memory = ConversationMemory(max_turns=5)\n",
    "\n",
    "memory.add_message(\"user\", \"¿Qué dice el artículo 7 de la Constitución Política del Estado boliviano?\")\n",
    "memory.add_message(\"assistant\", \"El Artículo 7 establece los principios fundamentales del Estado Plurinacional de Bolivia.\")\n",
    "\n",
    "nueva_pregunta = \"¿Y qué pasa si no se respetan esos derechos?\"\n",
    "\n",
    "prompt_reformulado = build_reformulation_prompt(memory, nueva_pregunta)\n",
    "print(prompt_reformulado)"
   ]
  },
  {
   "cell_type": "code",
   "execution_count": null,
   "id": "ed3b98dd",
   "metadata": {},
   "outputs": [],
   "source": [
    "respuesta_reformulada = llm.invoke(prompt_reformulado)\n",
    "print(respuesta_reformulada)"
   ]
  },
  {
   "cell_type": "markdown",
   "id": "ff1b7636",
   "metadata": {},
   "source": [
    "### ChatPromptTemplate"
   ]
  },
  {
   "cell_type": "code",
   "execution_count": null,
   "id": "511927b5",
   "metadata": {},
   "outputs": [],
   "source": [
    "def answer_template(language=\"spanish\"):\n",
    "    template = f\"\"\"Eres un asistente especializado en la Constitución Política del Estado Plurinacional de Bolivia.\n",
    "Responde la siguiente pregunta utilizando únicamente la información proporcionada en el contexto (delimitado por <context>).\n",
    "Tu respuesta debe estar en el idioma del final.\n",
    "\n",
    "Si la información no es suficiente o no se encuentra en el contexto, responde claramente:\n",
    "\"No tengo información suficiente en la Constitución para responder a esta pregunta.\"\n",
    "\n",
    "<context>\n",
    "{{context}}\n",
    "</context>\n",
    "\n",
    "Pregunta: {{question}}\n",
    "\n",
    "Idioma: {language}.\n",
    "\"\"\"\n",
    "    return template"
   ]
  },
  {
   "cell_type": "code",
   "execution_count": null,
   "id": "a7e2fa7f",
   "metadata": {},
   "outputs": [],
   "source": [
    "def build_answer_prompt(memory, context, question, language=\"Spanish\"):\n",
    "    chat_template = answer_template(language=language)\n",
    "    chat_history = memory.get_context() if memory else \"No hay historial previo.\"\n",
    "\n",
    "    prompt = chat_template.format(\n",
    "        context=context,\n",
    "        chat_history=chat_history,\n",
    "        question=question\n",
    "    )\n",
    "    return prompt"
   ]
  },
  {
   "cell_type": "code",
   "execution_count": null,
   "id": "83a262cc",
   "metadata": {},
   "outputs": [],
   "source": [
    "memory = ConversationMemory(max_turns=5)\n",
    "memory.add_message(\"user\", \"¿Qué dice el artículo 7 de la Constitución?\")\n",
    "memory.add_message(\"assistant\", \"El Artículo 7 establece los principios fundamentales del Estado boliviano.\")\n",
    "\n",
    "pregunta_final = \"¿Qué sucede si no se respetan los derechos fundamentales establecidos en el artículo 7?\"\n",
    "\n",
    "resultados = retriever_gemini.invoke(pregunta_final)\n",
    "contexto = \"\\n\".join(resultados[\"documents\"][0])\n",
    "prompt_final = build_answer_prompt(memory, contexto, pregunta_final, language=\"Spanish\")\n",
    "print(prompt_final)"
   ]
  },
  {
   "cell_type": "code",
   "execution_count": null,
   "id": "1929016f",
   "metadata": {},
   "outputs": [],
   "source": [
    "respuesta = llm.invoke(prompt_final)\n",
    "print(\"\\n🔹 RESPUESTA DEL MODELO 🔹\")\n",
    "print(respuesta)"
   ]
  }
 ],
 "metadata": {
  "kernelspec": {
   "display_name": "Python 3",
   "language": "python",
   "name": "python3"
  },
  "language_info": {
   "codemirror_mode": {
    "name": "ipython",
    "version": 3
   },
   "file_extension": ".py",
   "mimetype": "text/x-python",
   "name": "python",
   "nbconvert_exporter": "python",
   "pygments_lexer": "ipython3",
   "version": "3.13.4"
  }
 },
 "nbformat": 4,
 "nbformat_minor": 5
}
