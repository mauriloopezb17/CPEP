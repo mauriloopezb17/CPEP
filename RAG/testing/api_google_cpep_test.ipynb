{
 "cells": [
  {
   "cell_type": "code",
   "execution_count": null,
   "id": "2e70fbf2",
   "metadata": {},
   "outputs": [],
   "source": [
    "#pip install -q -U google-genai"
   ]
  },
  {
   "cell_type": "markdown",
   "id": "91d90b7f",
   "metadata": {},
   "source": [
    "# Importacion de librerias"
   ]
  },
  {
   "cell_type": "code",
   "execution_count": 1,
   "id": "ff4ef17e",
   "metadata": {},
   "outputs": [],
   "source": [
    "import warnings\n",
    "warnings.filterwarnings(\"ignore\", category=FutureWarning)\n",
    "\n",
    "# Librerias basicas\n",
    "import os, tempfile, glob, random, json\n",
    "from pathlib import Path\n",
    "import numpy as np\n",
    "from itertools import combinations\n",
    "from uuid import uuid4\n",
    "from PIL import Image\n",
    "\n",
    "from IPython.display import Markdown\n",
    "from getpass import getpass\n",
    "\n",
    "# Para el entorno de google\n",
    "from google import genai\n",
    "from google.genai import types\n",
    "\n",
    "# Langchain \n",
    "from langchain_google_genai import ChatGoogleGenerativeAI, GoogleGenerativeAIEmbeddings\n",
    "\n",
    "from langchain_core.prompts import PromptTemplate, ChatPromptTemplate\n",
    "from langchain_core.runnables import RunnableLambda, RunnableParallel, RunnablePassthrough, RunnableSequence\n",
    "from langchain_core.messages import AIMessage, HumanMessage, get_buffer_string, ChatMessage\n",
    "from langchain_core.documents import Document\n",
    "from langchain_core.output_parsers import StrOutputParser\n",
    "from langchain_community.document_transformers import EmbeddingsRedundantFilter,LongContextReorder\n",
    "from langchain_community.chat_message_histories import StreamlitChatMessageHistory\n",
    "from operator import itemgetter\n",
    "from langchain_core.prompts.base import format_document\n",
    "\n",
    "\n",
    "# Document Loaders\n",
    "from langchain_community.document_loaders import (\n",
    "    PyPDFLoader,\n",
    "    TextLoader,\n",
    "    DirectoryLoader,\n",
    "    CSVLoader,\n",
    "    UnstructuredExcelLoader,\n",
    "    Docx2txtLoader,\n",
    "    JSONLoader\n",
    ")\n",
    "\n",
    "# Text Splitter\n",
    "from langchain_text_splitters import RecursiveCharacterTextSplitter, CharacterTextSplitter\n",
    "\n",
    "# Chroma: vectorstore\n",
    "from langchain_chroma import Chroma\n"
   ]
  },
  {
   "cell_type": "markdown",
   "id": "59208250",
   "metadata": {},
   "source": [
    "## Api key de google gemini"
   ]
  },
  {
   "cell_type": "code",
   "execution_count": 27,
   "id": "4b3de133",
   "metadata": {},
   "outputs": [],
   "source": [
    "os.environ[\"GOOGLE_API_KEY\"] = \"api_key\""
   ]
  },
  {
   "cell_type": "code",
   "execution_count": null,
   "id": "37de9632",
   "metadata": {},
   "outputs": [],
   "source": [
    "#client = genai.Client(api_key=\"api_key\")"
   ]
  },
  {
   "cell_type": "code",
   "execution_count": null,
   "id": "c40abca3",
   "metadata": {},
   "outputs": [],
   "source": [
    "from google import genai\n",
    "\n",
    "client = genai.Client()\n",
    "\n",
    "result = client.models.embed_content(\n",
    "        model=\"gemini-embedding-001\",\n",
    "        contents=\"What is the meaning of life?\")\n",
    "\n",
    "print(result.embeddings)"
   ]
  },
  {
   "cell_type": "markdown",
   "id": "0f9d36db",
   "metadata": {},
   "source": [
    "# Cargado de datos"
   ]
  },
  {
   "cell_type": "markdown",
   "id": "18d8cfbf",
   "metadata": {},
   "source": [
    "## Cargado del JSON"
   ]
  },
  {
   "cell_type": "code",
   "execution_count": 3,
   "id": "e06b71bd",
   "metadata": {},
   "outputs": [],
   "source": [
    "with open(\"../resources/cpe.json\", \"r\", encoding=\"utf-8\") as f:\n",
    "    data = json.load(f)\n",
    "\n",
    "docs = []"
   ]
  },
  {
   "cell_type": "code",
   "execution_count": 4,
   "id": "66f8a17e",
   "metadata": {},
   "outputs": [
    {
     "name": "stdout",
     "output_type": "stream",
     "text": [
      "Se cargaron 426 documentos desde el JSON.\n"
     ]
    }
   ],
   "source": [
    "for item in data:\n",
    "    tipo = item.get(\"tipo\", \"\").capitalize()\n",
    "    text = \"\"\n",
    "\n",
    "    if tipo == \"Introduccion\":\n",
    "        text = f\"Título: {item.get('titulo', '')}\\n\" \\\n",
    "                f\"Subtítulo: {item.get('subtitulo', '')}\\n\" \\\n",
    "                f\"{item.get('contenido', '')}\"\n",
    "\n",
    "    elif tipo == \"Articulo\":\n",
    "        text = (\n",
    "            f\"Parte {item.get('parte_num', '')}: {item.get('parte_nom', '')}\\n\"\n",
    "            f\"Título {item.get('titulo_num', '')}: {item.get('titulo_nom', '')}\\n\"\n",
    "            f\"Capítulo {item.get('capitulo_num', '')}: {item.get('capitulo_nom', '')}\\n\"\n",
    "            f\"Sección {item.get('seccion_num', '')}: {item.get('seccion_nom', '')}\\n\"\n",
    "            f\"Artículo {item.get('art_num', '')}: {item.get('nombre_juridico', '')}\\n\"\n",
    "            f\"{item.get('contenido', '')}\"\n",
    "        )\n",
    "        \n",
    "    elif tipo == \"Disposición\":\n",
    "        text = (\n",
    "            f\"Disposición {item.get('disposicion', '')}\\n\"\n",
    "            f\"Nombre jurídico: {item.get('nombre_juridico', '')}\\n\"\n",
    "            f\"{item.get('contenido', '')}\"\n",
    "        )\n",
    "\n",
    "    # Pongo este else, porque sino me sale error en page_content=text, porque es posible que text este vacio\n",
    "    else:\n",
    "        text = item.get(\"contenido\", \"\")\n",
    "\n",
    "    docs.append(Document(page_content=text, metadata={\"tipo\": tipo}))\n",
    "\n",
    "print(f\"Se cargaron {len(docs)} documentos desde el JSON.\")"
   ]
  },
  {
   "cell_type": "code",
   "execution_count": 5,
   "id": "a9fa9f2e",
   "metadata": {},
   "outputs": [
    {
     "name": "stdout",
     "output_type": "stream",
     "text": [
      "test:  261\n",
      "page_content='Parte Segunda: Estructura y organización funcional del estado\n",
      "Título 8: Relaciones internacionales, fronteras, integración y reivindicación marítima\n",
      "Capítulo Primero: Relaciones Internacionales\n",
      "Sección None: None\n",
      "Artículo 260: Denuncia de los Tratados Internacionales\n",
      "I. La denuncia de los tratados internacionales seguirá los procedimientos establecidos en el propio tratado internacional, las normas generales del Derecho internacional, y los procedimientos establecidos en la Constitución y la ley para su ratificación. II. La denuncia de los tratados ratificados deberá ser aprobada por la Asamblea Legislativa Plurinacional antes de ser ejecutada por la Presidenta o Presidente del Estado. III. Los tratados aprobados por referendo deberán ser sometidos a un nuevo referendo antes de su denuncia por la Presidenta o Presidente del Estado.' metadata={'tipo': 'Articulo'}\n"
     ]
    }
   ],
   "source": [
    "# Solamente para testear que se hayan cargado los documentos correctamente\n",
    "import random\n",
    "random_document_id = random.choice(range(len(docs)))\n",
    "\n",
    "print(\"test: \", random_document_id)\n",
    "print(docs[random_document_id])"
   ]
  },
  {
   "cell_type": "markdown",
   "id": "ca54b279",
   "metadata": {},
   "source": [
    "## Embedding part"
   ]
  },
  {
   "cell_type": "code",
   "execution_count": 6,
   "id": "d3eeda94",
   "metadata": {},
   "outputs": [],
   "source": [
    "model_embedding = GoogleGenerativeAIEmbeddings(\n",
    "    model=\"models/embedding-001\",\n",
    "    task_type=\"retrieval_document\"\n",
    ")"
   ]
  },
  {
   "cell_type": "markdown",
   "id": "84ee63ed",
   "metadata": {},
   "source": [
    "## Create Vector Store"
   ]
  },
  {
   "cell_type": "code",
   "execution_count": 7,
   "id": "8979a104",
   "metadata": {},
   "outputs": [],
   "source": [
    "def create_vectorstore(collection_name, model_embedding, vectorstore_name):\n",
    "    persist_directory = (\"./\" + vectorstore_name)\n",
    "    vector_store = Chroma(\n",
    "        collection_name = collection_name,\n",
    "        embedding_function=model_embedding,\n",
    "        persist_directory = persist_directory\n",
    "    )\n",
    "    return vector_store, vectorstore_name"
   ]
  },
  {
   "cell_type": "code",
   "execution_count": 8,
   "id": "6347aca4",
   "metadata": {},
   "outputs": [
    {
     "name": "stdout",
     "output_type": "stream",
     "text": [
      "vector_store_gemini: 0 documentos.\n"
     ]
    }
   ],
   "source": [
    "create_new_vectorstore = True # Cambiar a true si queremos volver a crear la bd vectorial\n",
    "if create_new_vectorstore:\n",
    "    vector_store_gemini,_ = create_vectorstore(\n",
    "        collection_name = \"cpep_gemini\",\n",
    "        model_embedding = model_embedding,\n",
    "        vectorstore_name= \"vectordb/cpep_gemini\"\n",
    "    )\n",
    "    print(\"vector_store_gemini:\",vector_store_gemini._collection.count(),\"documentos.\")"
   ]
  },
  {
   "cell_type": "markdown",
   "id": "987a4673",
   "metadata": {},
   "source": [
    "## Asignamiento de IDs"
   ]
  },
  {
   "cell_type": "code",
   "execution_count": 9,
   "id": "3501d721",
   "metadata": {},
   "outputs": [],
   "source": [
    "ids = []\n",
    "metas = []\n",
    "cont = 0\n",
    "\n",
    "for i in range(len(docs)):\n",
    "    if (i<2):\n",
    "        ids.append(f\"introduccion_{i+1}\")\n",
    "        metas.append({\"tipo\": \"introduccion\", \"número\": i+1})\n",
    "    elif(i<399):\n",
    "        ids.append(f\"artículo_{i-1}\")\n",
    "        metas.append({\"tipo\": \"artículo\", \"número\": i-1})\n",
    "    elif(i==399):\n",
    "        ids.append(f\"artículo_398_A\")\n",
    "        metas.append({\"tipo\": \"artículo\", \"número\": \"398_A\"})\n",
    "    elif(i==400):\n",
    "        ids.append(f\"artículo_398_B\")\n",
    "        metas.append({\"tipo\": \"artículo\", \"número\": \"398_B\"})\n",
    "    elif(i<414):\n",
    "        ids.append(f\"artículo_{i-2}\")\n",
    "        metas.append({\"tipo\": \"artículo\", \"número\": i-2})\n",
    "    else:\n",
    "        cont += 1\n",
    "        ids.append(f\"disposición_{cont}\")\n",
    "        metas.append({\"tipo\": \"disposicion\", \"número\": cont})\n",
    "\n",
    "assert len(docs) == len(ids) == len(metas)"
   ]
  },
  {
   "cell_type": "code",
   "execution_count": 10,
   "id": "e486d39d",
   "metadata": {},
   "outputs": [
    {
     "name": "stdout",
     "output_type": "stream",
     "text": [
      "Promedio: 866.018779342723  | Máximo: 5162\n"
     ]
    }
   ],
   "source": [
    "import numpy as np\n",
    "lengths = [len(d.page_content) for d in docs]\n",
    "print(\"Promedio:\", np.mean(lengths), \" | Máximo:\", max(lengths))"
   ]
  },
  {
   "cell_type": "markdown",
   "id": "271a1ab2",
   "metadata": {},
   "source": [
    "## Add to vector store"
   ]
  },
  {
   "cell_type": "code",
   "execution_count": 11,
   "id": "10d4fef0",
   "metadata": {},
   "outputs": [
    {
     "name": "stdout",
     "output_type": "stream",
     "text": [
      "vector_store_gemini: 426 documentos.\n"
     ]
    }
   ],
   "source": [
    "vector_store_gemini.add_documents(documents=docs, ids=ids)\n",
    "print(\"vector_store_gemini:\", vector_store_gemini._collection.count(), \"documentos.\")"
   ]
  },
  {
   "cell_type": "code",
   "execution_count": 12,
   "id": "4ea1a041",
   "metadata": {},
   "outputs": [
    {
     "name": "stdout",
     "output_type": "stream",
     "text": [
      "426\n",
      "{'ids': ['introduccion_1', 'introduccion_2', 'artículo_1', 'artículo_2', 'artículo_3', 'artículo_4', 'artículo_5', 'artículo_6', 'artículo_7', 'artículo_8'], 'embeddings': array([[ 0.03481974,  0.02267552, -0.05910448, ...,  0.07081398,\n",
      "        -0.00729247, -0.01907829],\n",
      "       [ 0.02480937,  0.00854049, -0.05155088, ...,  0.06905004,\n",
      "         0.01012001, -0.03217785],\n",
      "       [ 0.03369951, -0.02515825, -0.06354076, ...,  0.08418227,\n",
      "         0.00432602, -0.02403576],\n",
      "       ...,\n",
      "       [ 0.05015473, -0.01955299, -0.04484588, ...,  0.07034896,\n",
      "         0.01142905, -0.00240585],\n",
      "       [ 0.02327036,  0.00135682, -0.02365066, ...,  0.08782235,\n",
      "        -0.01484509, -0.00636925],\n",
      "       [ 0.02374903,  0.01135887, -0.04797747, ...,  0.05730618,\n",
      "        -0.01343114, -0.02842696]], shape=(10, 768)), 'documents': ['Título: Antecedentes Legales\\nSubtítulo: None\\nLa Constitución Política del Estado, promulgada el 7 de febrero de 2009, consta de 5 Partes: I. BASES FUNDAMENTALES DEL ESTADO II. DERECHOS, DEBERES Y GARANTÍAS III. ESTRUCTURA Y ORGANIZACIÓN FUNCIONAL DEL ESTADO IV. ESTRUCTURA Y ORGANIZACIÓN TERRITORIAL DEL ESTADO V. JERARQUÍA NORMATIVA Y REFORMA DE LA CONSTITUCIÓN El anteproyecto de la Constitución vigente, fue elaborado por la Asamblea Constituyente 2006 – 2007, revisada y sancionada por el Congreso de la República en octubre de 2008. Aprobada mediante Referéndum Constitucional el 25 de enero de 2009 y promulgada el 7 de febrero de 2009, en un acto público en la ciudad de El Alto, del Departamento de La Paz. La Constitución vigente, sustituye a la Constitución Política del Estado sancionada por la Asamblea Constituyente 1966 – 1967 y promulgada el 2 de febrero de 1967. La cual tuvo una vigencia de más de 40 años, desde 1967 a 2009, y reformada en dos ocasiones según las siguientes normas: • Ley de Necesidad de Reforma de la Constitución Política del Estado: Ley Nº 1473 de 1 de abril de 1993; • Ley de Reforma a la Constitución Política del Estado: Ley Nº 1585 de 12 de agosto de 1994; • Ley de Adecuaciones y Concordancias de la Constitución Política del Estado (texto completo): Ley Nº 1615 de 6 de febrero de 1995;• Ley de Necesidad de Reforma de la Constitución Política del Estado: Ley Nº 2410 de 1ro de agosto de 2002; • Ley de Reforma a la Constitución Política del Estrado: Ley Nº 2631 de 20 de febrero de 2004; • Ley de Incorporación al Texto de la Constitución Política del Estado (texto completo) Ley Nº 2650 de 13 de abril de 2004; • Ley de Reforma a la Constitución Política del Estado: Ley Nº 3089 de 6 de julio de 2005; • Ley Interpretativa del Artículo 109 de la Constitución Política del Estado: Ley Nº 3090 de 6 de julio de 2005.', 'Título: Constitución Política del Estado\\nSubtítulo: Preámbulo\\nEn tiempos inmemoriales se erigieron montañas, se desplazaron ríos, se formaron lagos. Nuestra amazonia, nuestro chaco, nuestro altiplano y nuestros llanos y valles se cubrieron de verdores y flores. Poblamos esta sagrada Madre Tierra con rostros diferentes, y comprendimos desde entonces la pluralidad vigente de todas las cosas y nuestra diversidad como seres y culturas. Así conformamos nuestros pueblos, y jamás comprendimos el racismo hasta que lo sufrimos desde los funestos tiempos de la colonia. El pueblo boliviano, de composición plural, desde la profundidad de la historia, inspirado en las luchas del pasado, en la sublevación indígena anticolonial, en la independencia, en las luchas populares de liberación, en las marchas indígenas, sociales y sindicales, en las guerras del agua y de octubre, en las luchas por la tierra y territorio, y con la memoria de nuestros mártires, construimos un nuevo Estado. Un Estado basado en el respeto e igualdad entre todos, con principios de soberanía, dignidad, complementariedad, solidaridad, armonía y equidad en la distribución y redistribución del producto social, donde predomine la búsqueda del vivir bien; con respeto a la pluralidad económica, social, jurídica, política y cultural de los habitantes de esta tierra; en convivencia colectiva con acceso al agua, trabajo, educación, salud y vivienda para todos. Dejamos en el pasado el Estado colonial, republicano y neoliberal. Asumimos el reto histórico de construir colectivamente el Estado Unitario Social de Derecho Plurinacional Comunitario, que integra y articula los propósitos de avanzar hacia una Bolivia democrática, productiva, portadora e inspiradora de la paz, comprometida con el desarrollo integral y con la libre determinación de los pueblos. Nosotros, mujeres y hombres, a través de la Asamblea Constituyente y con el poder originario del pueblo, manifestamos nuestro compromiso con la unidad e integridad del país. Cumpliendo el mandato de nuestros pueblos, con la fortaleza de nuestra Pachamama y gracias a Dios, refundamos Bolivia. Honor y gloria a los mártires de la gesta constituyente y liberadora, que han hecho posible esta nueva historia.', 'Parte Primera: Bases fundamentales del estado derechos, deberes y garantías\\nTítulo 1: Bases fundamentales del estado\\nCapítulo Primero: Modelo de Estado\\nSección None: None\\nArtículo 1: Modelol de Estado\\nBolivia se constituye en un Estado Unitario Social de Derecho Plurinacional Comunitario, libre, independiente, soberano, democrático, intercultural, descentralizado y con autonomías. Bolivia se funda en la pluralidad y el pluralismo político, económico, jurídico, cultural y lingüístico, dentro del proceso integrador del país.', 'Parte Primera: Bases fundamentales del estado derechos, deberes y garantías\\nTítulo 1: Bases fundamentales del estado\\nCapítulo Primero: Modelo de Estado\\nSección None: None\\nArtículo 2: Autodeterminación de Naciones y Pueblos Indígenas Originario Campesinas\\nDada la existencia precolonial de las naciones y pueblos indígena originario campesinos y su dominio ancestral sobre sus territorios, se garantiza su libre determinación en el marco de la unidad del Estado, que consiste en su derecho a la autonomía, al autogobierno, a su cultura, al reconocimiento de sus instituciones y a la consolidación de sus entidades territoriales, conforme a esta Constitución y la ley.', 'Parte Primera: Bases fundamentales del estado derechos, deberes y garantías\\nTítulo 1: Bases fundamentales del estado\\nCapítulo Primero: Modelo de Estado\\nSección None: None\\nArtículo 3: Conformación de la Nación Boliviana\\nLa nación boliviana está conformada por la totalidad de las bolivianas y los bolivianos, las naciones y pueblos indígena originario campesinos, y las comunidades interculturales y afrobolivianas que en conjunto constituyen el pueblo boliviano.', 'Parte Primera: Bases fundamentales del estado derechos, deberes y garantías\\nTítulo 1: Bases fundamentales del estado\\nCapítulo Primero: Modelo de Estado\\nSección None: None\\nArtículo 4: Religión y Cultos\\nEl Estado respeta y garantiza la libertad de religión y de creencias espirituales, de acuerdo con sus cosmovisiones. El Estado es independiente de la religión.', 'Parte Primera: Bases fundamentales del estado derechos, deberes y garantías\\nTítulo 1: Bases fundamentales del estado\\nCapítulo Primero: Modelo de Estado\\nSección None: None\\nArtículo 5: Idiomas Oficiales\\nI. Son idiomas oficiales del Estado el castellano y todos los idiomas de las naciones y pueblos indígena originario campesinos, que son el aymara, araona, baure, bésiro, canichana, cavineño, cayubaba, chácobo, chimán, ese ejja, guaraní, guarasu’we, guarayu, itonama, leco, machajuyai-kallawaya, machineri, maropa, mojeño-trinitario, mojeño-ignaciano, moré, mosetén, movima, pacawara, puquina, quechua, sirionó, tacana, tapiete, toromona, uru-chipaya, weenhayek, yaminawa, yuki, yuracaré y zamuco. II. El Gobierno plurinacional y los gobiernos departamentales deben utilizar al menos dos idiomas oficiales. Uno de ellos debe ser el castellano, y el otro se decidirá tomando en cuenta el uso, la conveniencia, las circunstancias, las necesidades y preferencias de la población en su totalidad o del territorio en cuestión. Los demás gobiernos autónomos deben utilizar los idiomas propios de su territorio, y uno de ellos debe ser el castellano.', 'Parte Primera: Bases fundamentales del estado derechos, deberes y garantías\\nTítulo 1: Bases fundamentales del estado\\nCapítulo Primero: Modelo de Estado\\nSección None: None\\nArtículo 6: Capital y Símbolosa Patrios\\nI. Sucre es la Capital de Bolivia. II. Los símbolos del Estado son la bandera tricolor rojo, amarillo y verde; el himno boliviano; el escudo de armas; la wiphala; la escarapela; la flor de la kantuta y la flor del patujú.', 'Parte Primera: Bases fundamentales del estado derechos, deberes y garantías\\nTítulo 1: Bases fundamentales del estado\\nCapítulo Segundo: Principios, Valores y Fines del Estado\\nSección None: None\\nArtículo 7: Soberanía del Pueblo\\nLa soberanía reside en el pueblo boliviano, se ejerce de forma directa y delegada. De ella emanan, por delegación, las funciones y atribuciones de los órganos del poder público; es inalienable e imprescriptible.', 'Parte Primera: Bases fundamentales del estado derechos, deberes y garantías\\nTítulo 1: Bases fundamentales del estado\\nCapítulo Segundo: Principios, Valores y Fines del Estado\\nSección None: None\\nArtículo 8: Principios Ético-morales y Valores del Estado\\nI. El Estado asume y promueve como principios ético-morales de la sociedad plural: ama qhilla, ama llulla, ama suwa (no seas flojo, no seas mentiroso ni seas ladrón), suma qamaña (vivir bien), ñandereko (vida armoniosa), teko kavi (vida buena), ivi maraei (tierra sin mal) y qhapaj ñan (camino o vida noble). II. El Estado se sustenta en los valores de unidad, igualdad, inclusión, dignidad, libertad, solidaridad, reciprocidad, respeto, complementariedad, armonía, transparencia, equilibrio, igualdad de oportunidades, equidad social y de género en la participación, bienestar común, responsabilidad, justicia social, distribución y redistribución de los productos y bienes sociales, para vivir bien.'], 'uris': None, 'included': ['metadatas', 'documents', 'embeddings'], 'data': None, 'metadatas': [{'tipo': 'Introduccion'}, {'tipo': 'Introduccion'}, {'tipo': 'Articulo'}, {'tipo': 'Articulo'}, {'tipo': 'Articulo'}, {'tipo': 'Articulo'}, {'tipo': 'Articulo'}, {'tipo': 'Articulo'}, {'tipo': 'Articulo'}, {'tipo': 'Articulo'}]}\n"
     ]
    }
   ],
   "source": [
    "print(vector_store_gemini._collection.count())\n",
    "print(vector_store_gemini._collection.peek())"
   ]
  },
  {
   "cell_type": "markdown",
   "id": "aeb8e97f",
   "metadata": {},
   "source": [
    "## Call the vector store"
   ]
  },
  {
   "cell_type": "code",
   "execution_count": 13,
   "id": "848c2765",
   "metadata": {},
   "outputs": [],
   "source": [
    "persist_directory = \"vectordb/cpep_gemini\"\n",
    "collection_name = \"cpep_gemini\""
   ]
  },
  {
   "cell_type": "code",
   "execution_count": 14,
   "id": "e83ad34e",
   "metadata": {},
   "outputs": [],
   "source": [
    "vector_store_gemini = Chroma(\n",
    "    collection_name=collection_name,\n",
    "    embedding_function=model_embedding,\n",
    "    persist_directory=persist_directory\n",
    ")"
   ]
  },
  {
   "cell_type": "code",
   "execution_count": 16,
   "id": "4be3869c",
   "metadata": {},
   "outputs": [
    {
     "name": "stdout",
     "output_type": "stream",
     "text": [
      "vector_store_gemini: 426 documentos.\n",
      "426\n",
      "{'ids': ['introduccion_1', 'introduccion_2', 'artículo_1', 'artículo_2', 'artículo_3', 'artículo_4', 'artículo_5', 'artículo_6', 'artículo_7', 'artículo_8'], 'embeddings': array([[ 0.03481974,  0.02267552, -0.05910448, ...,  0.07081398,\n",
      "        -0.00729247, -0.01907829],\n",
      "       [ 0.02480937,  0.00854049, -0.05155088, ...,  0.06905004,\n",
      "         0.01012001, -0.03217785],\n",
      "       [ 0.03369951, -0.02515825, -0.06354076, ...,  0.08418227,\n",
      "         0.00432602, -0.02403576],\n",
      "       ...,\n",
      "       [ 0.05015473, -0.01955299, -0.04484588, ...,  0.07034896,\n",
      "         0.01142905, -0.00240585],\n",
      "       [ 0.02327036,  0.00135682, -0.02365066, ...,  0.08782235,\n",
      "        -0.01484509, -0.00636925],\n",
      "       [ 0.02374903,  0.01135887, -0.04797747, ...,  0.05730618,\n",
      "        -0.01343114, -0.02842696]], shape=(10, 768)), 'documents': ['Título: Antecedentes Legales\\nSubtítulo: None\\nLa Constitución Política del Estado, promulgada el 7 de febrero de 2009, consta de 5 Partes: I. BASES FUNDAMENTALES DEL ESTADO II. DERECHOS, DEBERES Y GARANTÍAS III. ESTRUCTURA Y ORGANIZACIÓN FUNCIONAL DEL ESTADO IV. ESTRUCTURA Y ORGANIZACIÓN TERRITORIAL DEL ESTADO V. JERARQUÍA NORMATIVA Y REFORMA DE LA CONSTITUCIÓN El anteproyecto de la Constitución vigente, fue elaborado por la Asamblea Constituyente 2006 – 2007, revisada y sancionada por el Congreso de la República en octubre de 2008. Aprobada mediante Referéndum Constitucional el 25 de enero de 2009 y promulgada el 7 de febrero de 2009, en un acto público en la ciudad de El Alto, del Departamento de La Paz. La Constitución vigente, sustituye a la Constitución Política del Estado sancionada por la Asamblea Constituyente 1966 – 1967 y promulgada el 2 de febrero de 1967. La cual tuvo una vigencia de más de 40 años, desde 1967 a 2009, y reformada en dos ocasiones según las siguientes normas: • Ley de Necesidad de Reforma de la Constitución Política del Estado: Ley Nº 1473 de 1 de abril de 1993; • Ley de Reforma a la Constitución Política del Estado: Ley Nº 1585 de 12 de agosto de 1994; • Ley de Adecuaciones y Concordancias de la Constitución Política del Estado (texto completo): Ley Nº 1615 de 6 de febrero de 1995;• Ley de Necesidad de Reforma de la Constitución Política del Estado: Ley Nº 2410 de 1ro de agosto de 2002; • Ley de Reforma a la Constitución Política del Estrado: Ley Nº 2631 de 20 de febrero de 2004; • Ley de Incorporación al Texto de la Constitución Política del Estado (texto completo) Ley Nº 2650 de 13 de abril de 2004; • Ley de Reforma a la Constitución Política del Estado: Ley Nº 3089 de 6 de julio de 2005; • Ley Interpretativa del Artículo 109 de la Constitución Política del Estado: Ley Nº 3090 de 6 de julio de 2005.', 'Título: Constitución Política del Estado\\nSubtítulo: Preámbulo\\nEn tiempos inmemoriales se erigieron montañas, se desplazaron ríos, se formaron lagos. Nuestra amazonia, nuestro chaco, nuestro altiplano y nuestros llanos y valles se cubrieron de verdores y flores. Poblamos esta sagrada Madre Tierra con rostros diferentes, y comprendimos desde entonces la pluralidad vigente de todas las cosas y nuestra diversidad como seres y culturas. Así conformamos nuestros pueblos, y jamás comprendimos el racismo hasta que lo sufrimos desde los funestos tiempos de la colonia. El pueblo boliviano, de composición plural, desde la profundidad de la historia, inspirado en las luchas del pasado, en la sublevación indígena anticolonial, en la independencia, en las luchas populares de liberación, en las marchas indígenas, sociales y sindicales, en las guerras del agua y de octubre, en las luchas por la tierra y territorio, y con la memoria de nuestros mártires, construimos un nuevo Estado. Un Estado basado en el respeto e igualdad entre todos, con principios de soberanía, dignidad, complementariedad, solidaridad, armonía y equidad en la distribución y redistribución del producto social, donde predomine la búsqueda del vivir bien; con respeto a la pluralidad económica, social, jurídica, política y cultural de los habitantes de esta tierra; en convivencia colectiva con acceso al agua, trabajo, educación, salud y vivienda para todos. Dejamos en el pasado el Estado colonial, republicano y neoliberal. Asumimos el reto histórico de construir colectivamente el Estado Unitario Social de Derecho Plurinacional Comunitario, que integra y articula los propósitos de avanzar hacia una Bolivia democrática, productiva, portadora e inspiradora de la paz, comprometida con el desarrollo integral y con la libre determinación de los pueblos. Nosotros, mujeres y hombres, a través de la Asamblea Constituyente y con el poder originario del pueblo, manifestamos nuestro compromiso con la unidad e integridad del país. Cumpliendo el mandato de nuestros pueblos, con la fortaleza de nuestra Pachamama y gracias a Dios, refundamos Bolivia. Honor y gloria a los mártires de la gesta constituyente y liberadora, que han hecho posible esta nueva historia.', 'Parte Primera: Bases fundamentales del estado derechos, deberes y garantías\\nTítulo 1: Bases fundamentales del estado\\nCapítulo Primero: Modelo de Estado\\nSección None: None\\nArtículo 1: Modelol de Estado\\nBolivia se constituye en un Estado Unitario Social de Derecho Plurinacional Comunitario, libre, independiente, soberano, democrático, intercultural, descentralizado y con autonomías. Bolivia se funda en la pluralidad y el pluralismo político, económico, jurídico, cultural y lingüístico, dentro del proceso integrador del país.', 'Parte Primera: Bases fundamentales del estado derechos, deberes y garantías\\nTítulo 1: Bases fundamentales del estado\\nCapítulo Primero: Modelo de Estado\\nSección None: None\\nArtículo 2: Autodeterminación de Naciones y Pueblos Indígenas Originario Campesinas\\nDada la existencia precolonial de las naciones y pueblos indígena originario campesinos y su dominio ancestral sobre sus territorios, se garantiza su libre determinación en el marco de la unidad del Estado, que consiste en su derecho a la autonomía, al autogobierno, a su cultura, al reconocimiento de sus instituciones y a la consolidación de sus entidades territoriales, conforme a esta Constitución y la ley.', 'Parte Primera: Bases fundamentales del estado derechos, deberes y garantías\\nTítulo 1: Bases fundamentales del estado\\nCapítulo Primero: Modelo de Estado\\nSección None: None\\nArtículo 3: Conformación de la Nación Boliviana\\nLa nación boliviana está conformada por la totalidad de las bolivianas y los bolivianos, las naciones y pueblos indígena originario campesinos, y las comunidades interculturales y afrobolivianas que en conjunto constituyen el pueblo boliviano.', 'Parte Primera: Bases fundamentales del estado derechos, deberes y garantías\\nTítulo 1: Bases fundamentales del estado\\nCapítulo Primero: Modelo de Estado\\nSección None: None\\nArtículo 4: Religión y Cultos\\nEl Estado respeta y garantiza la libertad de religión y de creencias espirituales, de acuerdo con sus cosmovisiones. El Estado es independiente de la religión.', 'Parte Primera: Bases fundamentales del estado derechos, deberes y garantías\\nTítulo 1: Bases fundamentales del estado\\nCapítulo Primero: Modelo de Estado\\nSección None: None\\nArtículo 5: Idiomas Oficiales\\nI. Son idiomas oficiales del Estado el castellano y todos los idiomas de las naciones y pueblos indígena originario campesinos, que son el aymara, araona, baure, bésiro, canichana, cavineño, cayubaba, chácobo, chimán, ese ejja, guaraní, guarasu’we, guarayu, itonama, leco, machajuyai-kallawaya, machineri, maropa, mojeño-trinitario, mojeño-ignaciano, moré, mosetén, movima, pacawara, puquina, quechua, sirionó, tacana, tapiete, toromona, uru-chipaya, weenhayek, yaminawa, yuki, yuracaré y zamuco. II. El Gobierno plurinacional y los gobiernos departamentales deben utilizar al menos dos idiomas oficiales. Uno de ellos debe ser el castellano, y el otro se decidirá tomando en cuenta el uso, la conveniencia, las circunstancias, las necesidades y preferencias de la población en su totalidad o del territorio en cuestión. Los demás gobiernos autónomos deben utilizar los idiomas propios de su territorio, y uno de ellos debe ser el castellano.', 'Parte Primera: Bases fundamentales del estado derechos, deberes y garantías\\nTítulo 1: Bases fundamentales del estado\\nCapítulo Primero: Modelo de Estado\\nSección None: None\\nArtículo 6: Capital y Símbolosa Patrios\\nI. Sucre es la Capital de Bolivia. II. Los símbolos del Estado son la bandera tricolor rojo, amarillo y verde; el himno boliviano; el escudo de armas; la wiphala; la escarapela; la flor de la kantuta y la flor del patujú.', 'Parte Primera: Bases fundamentales del estado derechos, deberes y garantías\\nTítulo 1: Bases fundamentales del estado\\nCapítulo Segundo: Principios, Valores y Fines del Estado\\nSección None: None\\nArtículo 7: Soberanía del Pueblo\\nLa soberanía reside en el pueblo boliviano, se ejerce de forma directa y delegada. De ella emanan, por delegación, las funciones y atribuciones de los órganos del poder público; es inalienable e imprescriptible.', 'Parte Primera: Bases fundamentales del estado derechos, deberes y garantías\\nTítulo 1: Bases fundamentales del estado\\nCapítulo Segundo: Principios, Valores y Fines del Estado\\nSección None: None\\nArtículo 8: Principios Ético-morales y Valores del Estado\\nI. El Estado asume y promueve como principios ético-morales de la sociedad plural: ama qhilla, ama llulla, ama suwa (no seas flojo, no seas mentiroso ni seas ladrón), suma qamaña (vivir bien), ñandereko (vida armoniosa), teko kavi (vida buena), ivi maraei (tierra sin mal) y qhapaj ñan (camino o vida noble). II. El Estado se sustenta en los valores de unidad, igualdad, inclusión, dignidad, libertad, solidaridad, reciprocidad, respeto, complementariedad, armonía, transparencia, equilibrio, igualdad de oportunidades, equidad social y de género en la participación, bienestar común, responsabilidad, justicia social, distribución y redistribución de los productos y bienes sociales, para vivir bien.'], 'uris': None, 'included': ['metadatas', 'documents', 'embeddings'], 'data': None, 'metadatas': [{'tipo': 'Introduccion'}, {'tipo': 'Introduccion'}, {'tipo': 'Articulo'}, {'tipo': 'Articulo'}, {'tipo': 'Articulo'}, {'tipo': 'Articulo'}, {'tipo': 'Articulo'}, {'tipo': 'Articulo'}, {'tipo': 'Articulo'}, {'tipo': 'Articulo'}]}\n"
     ]
    }
   ],
   "source": [
    "print(\"vector_store_gemini:\", vector_store_gemini._collection.count(), \"documentos.\")\n",
    "print(vector_store_gemini._collection.count())\n",
    "print(vector_store_gemini._collection.peek())"
   ]
  },
  {
   "cell_type": "markdown",
   "id": "169faeb9",
   "metadata": {},
   "source": [
    "## Similarity Search"
   ]
  },
  {
   "cell_type": "code",
   "execution_count": 17,
   "id": "dc3b0321",
   "metadata": {},
   "outputs": [],
   "source": [
    "def print_documents(docs,search_with_score=False):\n",
    "    if search_with_score:\n",
    "        print(\n",
    "            f\"\\n{'-' * 100}\\n\".join(\n",
    "                [f\"Document {i+1}:\\n\\n\" + doc[0].page_content +\"\\n\\nscore:\"+str(round(doc[-1],3))+\"\\n\" \n",
    "                for i, doc in enumerate(docs)]\n",
    "            )\n",
    "        )\n",
    "    else:\n",
    "        # used for similarity_search or max_marginal_relevance_search\n",
    "        print(\n",
    "            f\"\\n{'-' * 100}\\n\".join(\n",
    "                [f\"Document {i+1}:\\n\\n\" + doc.page_content \n",
    "                for i, doc in enumerate(docs)]\n",
    "            )\n",
    "        )  "
   ]
  },
  {
   "cell_type": "code",
   "execution_count": 24,
   "id": "60bf6f94",
   "metadata": {},
   "outputs": [
    {
     "name": "stdout",
     "output_type": "stream",
     "text": [
      "Document 1:\n",
      "\n",
      "Disposición Abrogatoria\n",
      "Nombre jurídico: None\n",
      "Queda abrogada la Constitución Política del Estado de 1967 y sus reformas posteriores.\n",
      "\n",
      "score:0.329\n",
      "\n",
      "----------------------------------------------------------------------------------------------------\n",
      "Document 2:\n",
      "\n",
      "Disposición Final\n",
      "Nombre jurídico: None\n",
      "Esta Constitución, aprobada en referendo por el pueblo boliviano entrará en vigencia el día de su publicación en la Gaceta Oficial.\n",
      "\n",
      "score:0.348\n",
      "\n",
      "----------------------------------------------------------------------------------------------------\n",
      "Document 3:\n",
      "\n",
      "Parte Cuarta: Estructura y organización económica del Estado\n",
      "Título 2: Medio Ambiente, Recursos Naturales, Tierra y Territorio\n",
      "Capítulo Primero: Medio Ambiente\n",
      "Sección None: None\n",
      "Artículo 344: Prohibición a la Fabricación y Uso de Armas Químicas, Biológicas y Nucleares\n",
      ". Se prohíbe la fabricación y uso de armas químicas, biológicas y nucleares en el territorio boliviano, así como la internación, tránsito y depósito de residuos nucleares y desechos tóxicos. II. El Estado regulará la internación, producción, comercialización y empleo de técnicas, métodos, insumos y sustancias que afecten a la salud y al medio ambiente.\n",
      "\n",
      "score:0.368\n",
      "\n",
      "----------------------------------------------------------------------------------------------------\n",
      "Document 4:\n",
      "\n",
      "Parte Primera: Bases fundamentales del estado derechos, deberes y garantías\n",
      "Título 5: Nacionalidad y ciudadanía\n",
      "Capítulo Segundo: Ciudadanía\n",
      "Sección None: None\n",
      "Artículo 144: Ejercicio y Suspensión de la Ciudadanía\n",
      "I. Son ciudadanas y ciudadanos todas las bolivianas y todos los bolivianos, y ejercerán su ciudadanía a partir de los 18 años de edad, cualesquiera sean sus niveles de instrucción, ocupación o renta. II. La ciudadanía consiste: 1. En concurrir como elector o elegible a la formación y al ejercicio de funciones en los órganos del poder público, y 2. En el derecho a ejercer funciones públicas sin otro requisito que la idoneidad, salvo las excepciones establecidas en la Ley II. Los derechos de ciudadanía se suspenden por las causales y en la forma prevista en el artículo 28 de esta Constitución.\n",
      "\n",
      "score:0.372\n",
      "\n",
      "----------------------------------------------------------------------------------------------------\n",
      "Document 5:\n",
      "\n",
      "Parte Segunda: Estructura y organización funcional del estado\n",
      "Título 4: Órgano Electoral\n",
      "Capítulo Segundo: Representación Política\n",
      "Sección None: None\n",
      "Artículo 212: Restricciones a la Postulación a Varios Cargos Electivos\n",
      "Ninguna candidata ni ningún candidato podrán postularse simultáneamente a más de un cargo electivo, ni por más de una circunscripción electoral al mismo tiempo.\n",
      "\n",
      "score:0.373\n",
      "\n"
     ]
    }
   ],
   "source": [
    "query = '¿Qué dice el artículo 320 de la constitución política del estado Boliviano?'\n",
    "docs_withScores = vector_store_gemini.similarity_search_with_score(query,k=5)\n",
    "\n",
    "print_documents(docs_withScores,search_with_score=True)"
   ]
  },
  {
   "cell_type": "code",
   "execution_count": 25,
   "id": "6b58f906",
   "metadata": {},
   "outputs": [
    {
     "name": "stdout",
     "output_type": "stream",
     "text": [
      "Similarty of document_0 to the query: 0.8357\n",
      "Similarty of document_1 to the query: 0.8259\n",
      "Similarty of document_2 to the query: 0.8162\n",
      "Similarty of document_3 to the query: 0.8139\n",
      "Similarty of document_4 to the query: 0.8133\n"
     ]
    }
   ],
   "source": [
    "query_embeddings = model_embedding.embed_query(query)\n",
    "docs_embeddings = model_embedding.embed_documents(\n",
    "    [docs_withScores[i][0].page_content \n",
    "    for i in range(len(docs_withScores))\n",
    "    ]\n",
    ")\n",
    "\n",
    "for i in range(len(docs_embeddings)):\n",
    "    dot_product = round(np.dot(query_embeddings, docs_embeddings[i]),4)\n",
    "    print(f\"Similarty of document_{i} to the query: {dot_product}\")"
   ]
  },
  {
   "cell_type": "code",
   "execution_count": 26,
   "id": "3246d28f",
   "metadata": {},
   "outputs": [
    {
     "name": "stdout",
     "output_type": "stream",
     "text": [
      "page_content='Parte Cuarta: Estructura y organización económica del Estado\n",
      "Título 1: Organización económica del Estado\n",
      "Capítulo Tercero: Políticas económicas\n",
      "Sección None: None\n",
      "Artículo 320: Priorización de la Inversión Boliviana e Inversión Extranjera\n",
      "I. La inversión boliviana se priorizará frente a la inversión extranjera. II. Toda inversión extranjera estará sometida a la jurisdicción, a las leyes y a las autoridades bolivianas, y nadie podrá invocar situación de excepción, ni apelar a reclamaciones diplomáticas para obtener un tratamiento más favorable. III. Las relaciones económicas con estados o empresas extranjeras se realizarán en condiciones de independencia, respeto mutuo y equidad. No se podrá otorgar a Estados o empresas extranjeras condiciones más beneficiosas que las establecidas para los bolivianos. IV. El Estado es independiente en todas las decisiones de política económica interna, y no aceptará imposiciones ni condicionamientos sobre esta política por parte de estados, bancos o instituciones financieras bolivianas o extranjeras, entidades multilaterales ni empresas transnacionales. V. Las políticas públicas promocionarán el consumo interno de productos hechos en Bolivia.' metadata={'tipo': 'Articulo'}\n"
     ]
    }
   ],
   "source": [
    "print(docs[321])"
   ]
  },
  {
   "cell_type": "markdown",
   "id": "8595926e",
   "metadata": {},
   "source": [
    "# Retrievers"
   ]
  },
  {
   "cell_type": "markdown",
   "id": "874848ac",
   "metadata": {},
   "source": [
    "## Vector Store-backed retriever"
   ]
  }
 ],
 "metadata": {
  "kernelspec": {
   "display_name": "Python 3",
   "language": "python",
   "name": "python3"
  },
  "language_info": {
   "codemirror_mode": {
    "name": "ipython",
    "version": 3
   },
   "file_extension": ".py",
   "mimetype": "text/x-python",
   "name": "python",
   "nbconvert_exporter": "python",
   "pygments_lexer": "ipython3",
   "version": "3.13.4"
  }
 },
 "nbformat": 4,
 "nbformat_minor": 5
}
