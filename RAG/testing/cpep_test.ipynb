{
 "cells": [
  {
   "cell_type": "code",
   "execution_count": 1,
   "id": "03ef1205",
   "metadata": {},
   "outputs": [],
   "source": [
    "import warnings\n",
    "warnings.filterwarnings(\"ignore\", category=FutureWarning)\n",
    "\n",
    "import os, tempfile, glob, random, json\n",
    "from pathlib import Path\n",
    "from IPython.display import Markdown\n",
    "from PIL import Image\n",
    "from getpass import getpass\n",
    "import numpy as np\n",
    "from itertools import combinations\n",
    "import tiktoken\n",
    "from uuid import uuid4\n",
    "# Embedding model\n",
    "from FlagEmbedding import BGEM3FlagModel\n",
    "\n",
    "# LLM: openai and google_genai\n",
    "import openai\n",
    "from langchain_openai import OpenAI, OpenAIEmbeddings, ChatOpenAI\n",
    "from langchain_google_genai import ChatGoogleGenerativeAI\n",
    "from langchain_google_genai import GoogleGenerativeAIEmbeddings\n",
    "\n",
    "# LLM: HuggingFace\n",
    "from langchain_community.embeddings import HuggingFaceInferenceAPIEmbeddings\n",
    "from langchain_community.llms import HuggingFaceHub\n",
    "\n",
    "# LLM: Ollama\n",
    "from langchain_ollama import ChatOllama\n",
    "\n",
    "# langchain prompts, memory, chains...\n",
    "from langchain_core.prompts import PromptTemplate, ChatPromptTemplate\n",
    "from langchain_core.runnables import RunnableSequence\n",
    "from langchain_community.chat_message_histories import StreamlitChatMessageHistory\n",
    "from operator import itemgetter\n",
    "from langchain_core.runnables import RunnablePassthrough\n",
    "from langchain_core.runnables import RunnableLambda, RunnableParallel, RunnablePassthrough\n",
    "from langchain_core.documents import Document\n",
    "from langchain_core.prompts.base import format_document\n",
    "from langchain_core.messages import AIMessage, HumanMessage, get_buffer_string\n",
    "from langchain_core.messages import ChatMessage, HumanMessage\n",
    "from langchain.embeddings.base import Embeddings\n",
    "\n",
    "# Document loaders\n",
    "from langchain_community.document_loaders import (\n",
    "    PyPDFLoader,\n",
    "    TextLoader,\n",
    "    DirectoryLoader,\n",
    "    CSVLoader,\n",
    "    UnstructuredExcelLoader,\n",
    "    Docx2txtLoader,\n",
    "    JSONLoader\n",
    ")\n",
    "\n",
    "# Text Splitter\n",
    "from langchain_text_splitters import RecursiveCharacterTextSplitter, CharacterTextSplitter\n",
    "\n",
    "# OutputParser\n",
    "from langchain_core.output_parsers import StrOutputParser\n",
    "\n",
    "# Chroma: vectorstore\n",
    "from langchain_community.vectorstores import Chroma\n",
    "\n",
    "# Contextual Compression\n",
    "\n",
    "#from langchain.retrievers import DocumentCompressorPipeline\n",
    "\n",
    "from langchain_text_splitters import CharacterTextSplitter\n",
    "from langchain_community.document_transformers import EmbeddingsRedundantFilter,LongContextReorder\n",
    "\n",
    "#from langchain.retrievers import EmbeddingsFilter\n",
    "#from langchain.retrievers import ContextualCompressionRetriever\n",
    "\n",
    "# Cohere\n",
    "from langchain_community.llms import Cohere"
   ]
  },
  {
   "cell_type": "markdown",
   "id": "da8d0467",
   "metadata": {},
   "source": [
    "### Creamos la clase necesaria para poder trabajar con el modelo de embedding"
   ]
  },
  {
   "cell_type": "code",
   "execution_count": 2,
   "id": "903bb21a",
   "metadata": {},
   "outputs": [],
   "source": [
    "class BGEM3Langchain(Embeddings):\n",
    "    def __init__(self, model):\n",
    "        self.model = model\n",
    "\n",
    "    def embed_documents(self, texts):\n",
    "        results = self.model.encode(texts, return_dense=True, return_sparse=False, return_colbert_vecs=False)\n",
    "        # Solamente devolvemos el embedding por densidad, ya que, estos son los que funcionan en chromadb\n",
    "        return results[\"dense_vecs\"].tolist()\n",
    "\n",
    "    def embed_query(self, text):\n",
    "        result = self.model.encode([text], return_dense=True, return_sparse=False, return_colbert_vecs=False)\n",
    "        return result[\"dense_vecs\"][0].tolist()"
   ]
  },
  {
   "cell_type": "markdown",
   "id": "7127798d",
   "metadata": {},
   "source": [
    "### Cargamos el JSON CPEP"
   ]
  },
  {
   "cell_type": "code",
   "execution_count": 3,
   "id": "c632510a",
   "metadata": {},
   "outputs": [],
   "source": [
    "with open(\"../resources/cpe.json\", \"r\", encoding=\"utf-8\") as f:\n",
    "    data = json.load(f)\n",
    "\n",
    "docs = []"
   ]
  },
  {
   "cell_type": "code",
   "execution_count": 4,
   "id": "ac074496",
   "metadata": {},
   "outputs": [
    {
     "name": "stdout",
     "output_type": "stream",
     "text": [
      "Se cargaron 426 documentos desde el JSON.\n"
     ]
    }
   ],
   "source": [
    "for item in data:\n",
    "    tipo = item.get(\"tipo\", \"\").capitalize()\n",
    "\n",
    "    if tipo == \"Introduccion\":\n",
    "        text = f\"Título: {item.get('titulo', '')}\\n\" \\\n",
    "                f\"Subtítulo: {item.get('subtitulo', '')}\\n\\n\" \\\n",
    "                f\"{item.get('contenido', '')}\"\n",
    "\n",
    "    elif tipo == \"Articulo\":\n",
    "        text = (\n",
    "            f\"Parte {item.get('parte_num', '')}: {item.get('parte_nom', '')}\\n\"\n",
    "            f\"Título {item.get('titulo_num', '')}: {item.get('titulo_nom', '')}\\n\"\n",
    "            f\"Capítulo {item.get('capitulo_num', '')}: {item.get('capitulo_nom', '')}\\n\"\n",
    "            f\"Sección {item.get('seccion_num', '')}: {item.get('seccion_nom', '')}\\n\"\n",
    "            f\"Artículo {item.get('art_num', '')}: {item.get('nombre_juridico', '')}\\n\\n\"\n",
    "            f\"{item.get('contenido', '')}\"\n",
    "        )\n",
    "        \n",
    "    elif tipo == \"Disposición\":\n",
    "        text = (\n",
    "            f\"Disposición {item.get('disposicion', '')}\\n\"\n",
    "            f\"Nombre jurídico: {item.get('nombre_juridico', '')}\\n\\n\"\n",
    "            f\"{item.get('contenido', '')}\"\n",
    "        )\n",
    "\n",
    "    # Pongo este else, porque sino me sale error en page_content=text, porque es posible que text este vacio\n",
    "    else:\n",
    "        text = item.get(\"contenido\", \"\")\n",
    "\n",
    "    docs.append(Document(page_content=text, metadata={\"tipo\": tipo}))\n",
    "\n",
    "print(f\"Se cargaron {len(docs)} documentos desde el JSON.\")"
   ]
  },
  {
   "cell_type": "code",
   "execution_count": 5,
   "id": "2b810d35",
   "metadata": {},
   "outputs": [
    {
     "name": "stdout",
     "output_type": "stream",
     "text": [
      "test:  59\n",
      "page_content='Parte Primera: Bases fundamentales del estado derechos, deberes y garantías\n",
      "Título 2: Derechos Fundamentales y Garantías\n",
      "Capítulo Quinto: Derechos sociales y económicos\n",
      "Sección 5: Derechos de la niñez, adolescencia y juventud\n",
      "Artículo 58: Definiciones de Niño, Niña y Adolescente\n",
      "\n",
      "Se considera niña, niño o adolescente a toda persona menor de edad. Las niñas, niños y adolescentes son titulares de los derechos reconocidos en la Constitución, con los límites establecidos en ésta, y de los derechos específicos inherentes a su proceso de desarrollo; a su identidad étnica, sociocultural, de género y generacional; y a la satisfacción de sus necesidades, intereses y aspiraciones.' metadata={'tipo': 'Articulo'}\n"
     ]
    }
   ],
   "source": [
    "import random\n",
    "random_document_id = random.choice(range(len(docs)))\n",
    "\n",
    "print(\"test: \", random_document_id)\n",
    "print(docs[random_document_id])"
   ]
  },
  {
   "cell_type": "code",
   "execution_count": 6,
   "id": "023778dc",
   "metadata": {},
   "outputs": [
    {
     "data": {
      "application/vnd.jupyter.widget-view+json": {
       "model_id": "3609eb1f472445d188d9ca5ddc4f44d8",
       "version_major": 2,
       "version_minor": 0
      },
      "text/plain": [
       "Fetching 30 files:   0%|          | 0/30 [00:00<?, ?it/s]"
      ]
     },
     "metadata": {},
     "output_type": "display_data"
    }
   ],
   "source": [
    "# Embedding Model\n",
    "model_embedding = BGEM3FlagModel('BAAI/bge-m3',  use_fp16=True)\n",
    "embedding_adapter = BGEM3Langchain(model_embedding)"
   ]
  },
  {
   "cell_type": "code",
   "execution_count": 7,
   "id": "817d7bc8",
   "metadata": {},
   "outputs": [],
   "source": [
    "LOCAL_VECTOR_STORE_DIR = Path(\"./data\").resolve().parent.joinpath(\"data\", \"vector_stores\")"
   ]
  },
  {
   "cell_type": "code",
   "execution_count": 7,
   "id": "aa5816c8",
   "metadata": {},
   "outputs": [],
   "source": [
    "def create_vectorstore(collection_name, model_embedding, vectorstore_name):\n",
    "    persist_directory = (\"./\" + vectorstore_name)\n",
    "    vector_store = Chroma(\n",
    "        collection_name = collection_name,\n",
    "        embedding_function=model_embedding,\n",
    "        persist_directory = persist_directory\n",
    "    )\n",
    "    return vector_store, vectorstore_name"
   ]
  },
  {
   "cell_type": "code",
   "execution_count": 8,
   "id": "34f62af6",
   "metadata": {},
   "outputs": [
    {
     "name": "stderr",
     "output_type": "stream",
     "text": [
      "C:\\Users\\mauri\\AppData\\Local\\Temp\\ipykernel_10236\\739684382.py:3: LangChainDeprecationWarning: The class `Chroma` was deprecated in LangChain 0.2.9 and will be removed in 1.0. An updated version of the class exists in the `langchain-chroma package and should be used instead. To use it run `pip install -U `langchain-chroma` and import as `from `langchain_chroma import Chroma``.\n",
      "  vector_store = Chroma(\n"
     ]
    },
    {
     "name": "stdout",
     "output_type": "stream",
     "text": [
      "vector_store_bgem3: 0 documentos.\n"
     ]
    }
   ],
   "source": [
    "create_new_vectorstore = True # Cambiar a true si queremos volver a crear la bd vectorial\n",
    "if create_new_vectorstore:\n",
    "    vector_store_bgem3,_ = create_vectorstore(\n",
    "        collection_name = \"cpep_bgem3\",\n",
    "        model_embedding = embedding_adapter,\n",
    "        vectorstore_name= \"vectordb/cpep_bgem3\"\n",
    "    )\n",
    "    print(\"vector_store_bgem3:\",vector_store_bgem3._collection.count(),\"documentos.\")"
   ]
  },
  {
   "cell_type": "code",
   "execution_count": 10,
   "id": "e08c82de",
   "metadata": {},
   "outputs": [
    {
     "ename": "NameError",
     "evalue": "name 'vector_store_bgem3' is not defined",
     "output_type": "error",
     "traceback": [
      "\u001b[31m---------------------------------------------------------------------------\u001b[39m",
      "\u001b[31mNameError\u001b[39m                                 Traceback (most recent call last)",
      "\u001b[36mCell\u001b[39m\u001b[36m \u001b[39m\u001b[32mIn[10]\u001b[39m\u001b[32m, line 4\u001b[39m\n\u001b[32m      1\u001b[39m \u001b[38;5;66;03m# Ids aleatorios evita colisiones, pero no tiene significado semantico\u001b[39;00m\n\u001b[32m      2\u001b[39m uuids = [\u001b[38;5;28mstr\u001b[39m(uuid4()) \u001b[38;5;28;01mfor\u001b[39;00m _ \u001b[38;5;129;01min\u001b[39;00m \u001b[38;5;28mrange\u001b[39m(\u001b[38;5;28mlen\u001b[39m(docs))]\n\u001b[32m----> \u001b[39m\u001b[32m4\u001b[39m \u001b[43mvector_store_bgem3\u001b[49m.add_documents(documents=docs, ids=uuids)\n\u001b[32m      5\u001b[39m \u001b[38;5;28mprint\u001b[39m(\u001b[33m\"\u001b[39m\u001b[33mvector_store_bgem3:\u001b[39m\u001b[33m\"\u001b[39m,vector_store_bgem3._collection.count(),\u001b[33m\"\u001b[39m\u001b[33mdocumentos.\u001b[39m\u001b[33m\"\u001b[39m)\n",
      "\u001b[31mNameError\u001b[39m: name 'vector_store_bgem3' is not defined"
     ]
    }
   ],
   "source": [
    "# Ids aleatorios evita colisiones, pero no tiene significado semantico\n",
    "uuids = [str(uuid4()) for _ in range(len(docs))]\n",
    "\n",
    "vector_store_bgem3.add_documents(documents=docs, ids=uuids)\n",
    "print(\"vector_store_bgem3:\",vector_store_bgem3._collection.count(),\"documentos.\")"
   ]
  },
  {
   "cell_type": "code",
   "execution_count": 9,
   "id": "d1137654",
   "metadata": {},
   "outputs": [],
   "source": [
    "ids = []\n",
    "metas = []\n",
    "cont = 0\n",
    "\n",
    "for i in range(len(docs)):\n",
    "    if (i<2):\n",
    "        ids.append(f\"introduccion_{i+1}\")\n",
    "        metas.append({\"tipo\": \"introduccion\", \"número\": i+1})\n",
    "    elif(i<399):\n",
    "        ids.append(f\"artículo_{i-1}\")\n",
    "        metas.append({\"tipo\": \"artículo\", \"número\": i-1})\n",
    "    elif(i==399):\n",
    "        ids.append(f\"disposición_398_A\")\n",
    "        metas.append({\"tipo\": \"disposicion\", \"número\": \"398_A\"})\n",
    "    elif(i==400):\n",
    "        ids.append(f\"disposición_398_B\")\n",
    "        metas.append({\"tipo\": \"disposicion\", \"número\": \"398_B\"})\n",
    "    elif(i<414):\n",
    "        ids.append(f\"artículo_{i-2}\")\n",
    "        metas.append({\"tipo\": \"artículo\", \"número\": i-2})\n",
    "    else:\n",
    "        cont += 1\n",
    "        ids.append(f\"disposición_{cont}\")\n",
    "        metas.append({\"tipo\": \"disposicion\", \"número\": cont})\n",
    "\n",
    "assert len(docs) == len(ids) == len(metas)"
   ]
  },
  {
   "cell_type": "code",
   "execution_count": 10,
   "id": "4e4beb6d",
   "metadata": {},
   "outputs": [
    {
     "name": "stderr",
     "output_type": "stream",
     "text": [
      "pre tokenize: 100%|██████████| 2/2 [00:00<00:00, 36.65it/s]\n",
      "You're using a XLMRobertaTokenizerFast tokenizer. Please note that with a fast tokenizer, using the `__call__` method is faster than using a method to encode the text followed by a call to the `pad` method to get a padded encoding.\n",
      "Inference Embeddings: 100%|██████████| 2/2 [00:03<00:00,  1.55s/it]\n"
     ]
    },
    {
     "name": "stdout",
     "output_type": "stream",
     "text": [
      "vector_store_bgem3: 426 documentos.\n"
     ]
    }
   ],
   "source": [
    "vector_store_bgem3.add_documents(documents=docs, ids=ids)\n",
    "print(\"vector_store_bgem3:\",vector_store_bgem3._collection.count(),\"documentos.\")"
   ]
  },
  {
   "cell_type": "code",
   "execution_count": 11,
   "id": "1b26d399",
   "metadata": {},
   "outputs": [
    {
     "name": "stdout",
     "output_type": "stream",
     "text": [
      "426\n",
      "{'ids': ['introduccion_1', 'introduccion_2', 'artículo_1', 'artículo_2', 'artículo_3', 'artículo_4', 'artículo_5', 'artículo_6', 'artículo_7', 'artículo_8'], 'embeddings': array([[ 0.04119873,  0.03131104, -0.01198578, ...,  0.01422882,\n",
      "        -0.00476074, -0.02758789],\n",
      "       [ 0.037323  ,  0.00144005, -0.04879761, ...,  0.00862885,\n",
      "         0.00226021, -0.008255  ],\n",
      "       [ 0.05194092, -0.00133228, -0.01771545, ...,  0.00419235,\n",
      "         0.00993347, -0.03488159],\n",
      "       ...,\n",
      "       [ 0.05209351,  0.03167725, -0.04049683, ...,  0.00888824,\n",
      "         0.04806519, -0.01847839],\n",
      "       [ 0.03866577,  0.02000427, -0.02864075, ...,  0.01675415,\n",
      "        -0.01379395, -0.02059937],\n",
      "       [ 0.01986694, -0.00522232,  0.01384735, ...,  0.00788879,\n",
      "         0.02572632, -0.037323  ]], shape=(10, 1024)), 'documents': ['Título: Antecedentes Legales\\nSubtítulo: None\\n\\nLa Constitución Política del Estado, promulgada el 7 de febrero de 2009, consta de 5 Partes: I. BASES FUNDAMENTALES DEL ESTADO II. DERECHOS, DEBERES Y GARANTÍAS III. ESTRUCTURA Y ORGANIZACIÓN FUNCIONAL DEL ESTADO IV. ESTRUCTURA Y ORGANIZACIÓN TERRITORIAL DEL ESTADO V. JERARQUÍA NORMATIVA Y REFORMA DE LA CONSTITUCIÓN El anteproyecto de la Constitución vigente, fue elaborado por la Asamblea Constituyente 2006 – 2007, revisada y sancionada por el Congreso de la República en octubre de 2008. Aprobada mediante Referéndum Constitucional el 25 de enero de 2009 y promulgada el 7 de febrero de 2009, en un acto público en la ciudad de El Alto, del Departamento de La Paz. La Constitución vigente, sustituye a la Constitución Política del Estado sancionada por la Asamblea Constituyente 1966 – 1967 y promulgada el 2 de febrero de 1967. La cual tuvo una vigencia de más de 40 años, desde 1967 a 2009, y reformada en dos ocasiones según las siguientes normas: • Ley de Necesidad de Reforma de la Constitución Política del Estado: Ley Nº 1473 de 1 de abril de 1993; • Ley de Reforma a la Constitución Política del Estado: Ley Nº 1585 de 12 de agosto de 1994; • Ley de Adecuaciones y Concordancias de la Constitución Política del Estado (texto completo): Ley Nº 1615 de 6 de febrero de 1995;• Ley de Necesidad de Reforma de la Constitución Política del Estado: Ley Nº 2410 de 1ro de agosto de 2002; • Ley de Reforma a la Constitución Política del Estrado: Ley Nº 2631 de 20 de febrero de 2004; • Ley de Incorporación al Texto de la Constitución Política del Estado (texto completo) Ley Nº 2650 de 13 de abril de 2004; • Ley de Reforma a la Constitución Política del Estado: Ley Nº 3089 de 6 de julio de 2005; • Ley Interpretativa del Artículo 109 de la Constitución Política del Estado: Ley Nº 3090 de 6 de julio de 2005.', 'Título: Constitución Política del Estado\\nSubtítulo: Preámbulo\\n\\nEn tiempos inmemoriales se erigieron montañas, se desplazaron ríos, se formaron lagos. Nuestra amazonia, nuestro chaco, nuestro altiplano y nuestros llanos y valles se cubrieron de verdores y flores. Poblamos esta sagrada Madre Tierra con rostros diferentes, y comprendimos desde entonces la pluralidad vigente de todas las cosas y nuestra diversidad como seres y culturas. Así conformamos nuestros pueblos, y jamás comprendimos el racismo hasta que lo sufrimos desde los funestos tiempos de la colonia. El pueblo boliviano, de composición plural, desde la profundidad de la historia, inspirado en las luchas del pasado, en la sublevación indígena anticolonial, en la independencia, en las luchas populares de liberación, en las marchas indígenas, sociales y sindicales, en las guerras del agua y de octubre, en las luchas por la tierra y territorio, y con la memoria de nuestros mártires, construimos un nuevo Estado. Un Estado basado en el respeto e igualdad entre todos, con principios de soberanía, dignidad, complementariedad, solidaridad, armonía y equidad en la distribución y redistribución del producto social, donde predomine la búsqueda del vivir bien; con respeto a la pluralidad económica, social, jurídica, política y cultural de los habitantes de esta tierra; en convivencia colectiva con acceso al agua, trabajo, educación, salud y vivienda para todos. Dejamos en el pasado el Estado colonial, republicano y neoliberal. Asumimos el reto histórico de construir colectivamente el Estado Unitario Social de Derecho Plurinacional Comunitario, que integra y articula los propósitos de avanzar hacia una Bolivia democrática, productiva, portadora e inspiradora de la paz, comprometida con el desarrollo integral y con la libre determinación de los pueblos. Nosotros, mujeres y hombres, a través de la Asamblea Constituyente y con el poder originario del pueblo, manifestamos nuestro compromiso con la unidad e integridad del país. Cumpliendo el mandato de nuestros pueblos, con la fortaleza de nuestra Pachamama y gracias a Dios, refundamos Bolivia. Honor y gloria a los mártires de la gesta constituyente y liberadora, que han hecho posible esta nueva historia.', 'Parte Primera: Bases fundamentales del estado derechos, deberes y garantías\\nTítulo 1: Bases fundamentales del estado\\nCapítulo Primero: Modelo de Estado\\nSección None: None\\nArtículo 1: Modelol de Estado\\n\\nBolivia se constituye en un Estado Unitario Social de Derecho Plurinacional Comunitario, libre, independiente, soberano, democrático, intercultural, descentralizado y con autonomías. Bolivia se funda en la pluralidad y el pluralismo político, económico, jurídico, cultural y lingüístico, dentro del proceso integrador del país.', 'Parte Primera: Bases fundamentales del estado derechos, deberes y garantías\\nTítulo 1: Bases fundamentales del estado\\nCapítulo Primero: Modelo de Estado\\nSección None: None\\nArtículo 2: Autodeterminación de Naciones y Pueblos Indígenas Originario Campesinas\\n\\nDada la existencia precolonial de las naciones y pueblos indígena originario campesinos y su dominio ancestral sobre sus territorios, se garantiza su libre determinación en el marco de la unidad del Estado, que consiste en su derecho a la autonomía, al autogobierno, a su cultura, al reconocimiento de sus instituciones y a la consolidación de sus entidades territoriales, conforme a esta Constitución y la ley.', 'Parte Primera: Bases fundamentales del estado derechos, deberes y garantías\\nTítulo 1: Bases fundamentales del estado\\nCapítulo Primero: Modelo de Estado\\nSección None: None\\nArtículo 3: Conformación de la Nación Boliviana\\n\\nLa nación boliviana está conformada por la totalidad de las bolivianas y los bolivianos, las naciones y pueblos indígena originario campesinos, y las comunidades interculturales y afrobolivianas que en conjunto constituyen el pueblo boliviano.', 'Parte Primera: Bases fundamentales del estado derechos, deberes y garantías\\nTítulo 1: Bases fundamentales del estado\\nCapítulo Primero: Modelo de Estado\\nSección None: None\\nArtículo 4: Religión y Cultos\\n\\nEl Estado respeta y garantiza la libertad de religión y de creencias espirituales, de acuerdo con sus cosmovisiones. El Estado es independiente de la religión.', 'Parte Primera: Bases fundamentales del estado derechos, deberes y garantías\\nTítulo 1: Bases fundamentales del estado\\nCapítulo Primero: Modelo de Estado\\nSección None: None\\nArtículo 5: Idiomas Oficiales\\n\\nI. Son idiomas oficiales del Estado el castellano y todos los idiomas de las naciones y pueblos indígena originario campesinos, que son el aymara, araona, baure, bésiro, canichana, cavineño, cayubaba, chácobo, chimán, ese ejja, guaraní, guarasu’we, guarayu, itonama, leco, machajuyai-kallawaya, machineri, maropa, mojeño-trinitario, mojeño-ignaciano, moré, mosetén, movima, pacawara, puquina, quechua, sirionó, tacana, tapiete, toromona, uru-chipaya, weenhayek, yaminawa, yuki, yuracaré y zamuco. II. El Gobierno plurinacional y los gobiernos departamentales deben utilizar al menos dos idiomas oficiales. Uno de ellos debe ser el castellano, y el otro se decidirá tomando en cuenta el uso, la conveniencia, las circunstancias, las necesidades y preferencias de la población en su totalidad o del territorio en cuestión. Los demás gobiernos autónomos deben utilizar los idiomas propios de su territorio, y uno de ellos debe ser el castellano.', 'Parte Primera: Bases fundamentales del estado derechos, deberes y garantías\\nTítulo 1: Bases fundamentales del estado\\nCapítulo Primero: Modelo de Estado\\nSección None: None\\nArtículo 6: Capital y Símbolosa Patrios\\n\\nI. Sucre es la Capital de Bolivia. II. Los símbolos del Estado son la bandera tricolor rojo, amarillo y verde; el himno boliviano; el escudo de armas; la wiphala; la escarapela; la flor de la kantuta y la flor del patujú.', 'Parte Primera: Bases fundamentales del estado derechos, deberes y garantías\\nTítulo 1: Bases fundamentales del estado\\nCapítulo Segundo: Principios, Valores y Fines del Estado\\nSección None: None\\nArtículo 7: Soberanía del Pueblo\\n\\nLa soberanía reside en el pueblo boliviano, se ejerce de forma directa y delegada. De ella emanan, por delegación, las funciones y atribuciones de los órganos del poder público; es inalienable e imprescriptible.', 'Parte Primera: Bases fundamentales del estado derechos, deberes y garantías\\nTítulo 1: Bases fundamentales del estado\\nCapítulo Segundo: Principios, Valores y Fines del Estado\\nSección None: None\\nArtículo 8: Principios Ético-morales y Valores del Estado\\n\\nI. El Estado asume y promueve como principios ético-morales de la sociedad plural: ama qhilla, ama llulla, ama suwa (no seas flojo, no seas mentiroso ni seas ladrón), suma qamaña (vivir bien), ñandereko (vida armoniosa), teko kavi (vida buena), ivi maraei (tierra sin mal) y qhapaj ñan (camino o vida noble). II. El Estado se sustenta en los valores de unidad, igualdad, inclusión, dignidad, libertad, solidaridad, reciprocidad, respeto, complementariedad, armonía, transparencia, equilibrio, igualdad de oportunidades, equidad social y de género en la participación, bienestar común, responsabilidad, justicia social, distribución y redistribución de los productos y bienes sociales, para vivir bien.'], 'uris': None, 'included': ['metadatas', 'documents', 'embeddings'], 'data': None, 'metadatas': [{'tipo': 'Introduccion'}, {'tipo': 'Introduccion'}, {'tipo': 'Articulo'}, {'tipo': 'Articulo'}, {'tipo': 'Articulo'}, {'tipo': 'Articulo'}, {'tipo': 'Articulo'}, {'tipo': 'Articulo'}, {'tipo': 'Articulo'}, {'tipo': 'Articulo'}]}\n"
     ]
    }
   ],
   "source": [
    "print(vector_store_bgem3._collection.count())\n",
    "print(vector_store_bgem3._collection.peek())"
   ]
  },
  {
   "cell_type": "markdown",
   "id": "c4ead0fa",
   "metadata": {},
   "source": [
    "### Similarity Search"
   ]
  },
  {
   "cell_type": "code",
   "execution_count": 12,
   "id": "7bae1b66",
   "metadata": {},
   "outputs": [],
   "source": [
    "def print_documents(docs,search_with_score=False):\n",
    "    if search_with_score:\n",
    "        print(\n",
    "            f\"\\n{'-' * 100}\\n\".join(\n",
    "                [f\"Document {i+1}:\\n\\n\" + doc[0].page_content +\"\\n\\nscore:\"+str(round(doc[-1],3))+\"\\n\" \n",
    "                for i, doc in enumerate(docs)]\n",
    "            )\n",
    "        )\n",
    "    else:\n",
    "        # used for similarity_search or max_marginal_relevance_search\n",
    "        print(\n",
    "            f\"\\n{'-' * 100}\\n\".join(\n",
    "                [f\"Document {i+1}:\\n\\n\" + doc.page_content \n",
    "                for i, doc in enumerate(docs)]\n",
    "            )\n",
    "        )  "
   ]
  },
  {
   "cell_type": "code",
   "execution_count": 13,
   "id": "c24487ba",
   "metadata": {},
   "outputs": [
    {
     "name": "stdout",
     "output_type": "stream",
     "text": [
      "Document 1:\n",
      "\n",
      "Parte Primera: Bases fundamentales del estado derechos, deberes y garantías\n",
      "Título 1: Bases fundamentales del estado\n",
      "Capítulo Primero: Modelo de Estado\n",
      "Sección None: None\n",
      "Artículo 1: Modelol de Estado\n",
      "\n",
      "Bolivia se constituye en un Estado Unitario Social de Derecho Plurinacional Comunitario, libre, independiente, soberano, democrático, intercultural, descentralizado y con autonomías. Bolivia se funda en la pluralidad y el pluralismo político, económico, jurídico, cultural y lingüístico, dentro del proceso integrador del país.\n",
      "\n",
      "score:0.77\n",
      "\n",
      "----------------------------------------------------------------------------------------------------\n",
      "Document 2:\n",
      "\n",
      "Parte Primera: Bases fundamentales del estado derechos, deberes y garantías\n",
      "Título 1: Bases fundamentales del estado\n",
      "Capítulo Segundo: Principios, Valores y Fines del Estado\n",
      "Sección None: None\n",
      "Artículo 10: Carácter Pacifista del Estado\n",
      "\n",
      "I. Bolivia es un Estado pacifista, que promueve la cultura de la paz y el derecho a la paz, así como la cooperación entre los pueblos de la región y del mundo, a fin de contribuir al conocimiento mutuo, al desarrollo equitativo y a la promoción de la interculturalidad, con pleno respeto a la soberanía de los estados. II. Bolivia rechaza toda guerra de agresión como instrumento de solución a los diferendos y conflictos entre estados y se reserva el derecho a la legítima defensa en caso de agresión que comprometa la independencia y la integridad del Estado. III. Se prohíbe la instalación de bases militares extranjeras en territorio boliviano.\n",
      "\n",
      "score:0.801\n",
      "\n",
      "----------------------------------------------------------------------------------------------------\n",
      "Document 3:\n",
      "\n",
      "Parte Primera: Bases fundamentales del estado derechos, deberes y garantías\n",
      "Título 1: Bases fundamentales del estado\n",
      "Capítulo Tercero: Sistema de Gobierno\n",
      "Sección None: None\n",
      "Artículo 11: Forma de Gobierno\n",
      "\n",
      "I. La República de Bolivia adopta para su gobierno la forma democrática participativa, representativa y comunitaria, con equivalencia de condiciones entre hombres y mujeres. II. La democracia se ejerce de las siguientes formas, que serán desarrolladas por la ley: 1. Directa y participativa, por medio del referendo, la iniciativa legislativa ciudadana, la revocatoria de mandato, la asamblea, el cabildo y la consulta previa.. Las asambleas y cabildos tendrán carácter deliberativo conforme a Ley. 2. Representativa, por medio de la elección de representantes por voto universal, directo y secreto, conforme a Ley. 3. Comunitaria, por medio de la elección, designación o nominación de autoridades y representantes por normas y procedimientos propios de las naciones y pueblos indígena originario campesinos, entre otros, conforme a Ley.\n",
      "\n",
      "score:0.835\n",
      "\n",
      "----------------------------------------------------------------------------------------------------\n",
      "Document 4:\n",
      "\n",
      "Parte Primera: Bases fundamentales del estado derechos, deberes y garantías\n",
      "Título 1: Bases fundamentales del estado\n",
      "Capítulo Primero: Modelo de Estado\n",
      "Sección None: None\n",
      "Artículo 3: Conformación de la Nación Boliviana\n",
      "\n",
      "La nación boliviana está conformada por la totalidad de las bolivianas y los bolivianos, las naciones y pueblos indígena originario campesinos, y las comunidades interculturales y afrobolivianas que en conjunto constituyen el pueblo boliviano.\n",
      "\n",
      "score:0.841\n",
      "\n",
      "----------------------------------------------------------------------------------------------------\n",
      "Document 5:\n",
      "\n",
      "Parte Tercera: Estructura y organización territorial del estado\n",
      "Título 1: Organización territorial del estado\n",
      "Capítulo Primero: Disposiciones generales\n",
      "Sección None: None\n",
      "Artículo 269: Organización Territorial del Estado y Delimitación de Unidades Territoriales\n",
      "\n",
      "I. Bolivia se organiza territorialmente en departamentos, provincias, municipios y territorios indígena originario campesinos. II. La creación, modificación y delimitación de las unidades territoriales se hará por voluntad democrática de sus habitantes, de acuerdo a las condiciones establecidas en la Constitución y la ley. III. Las regiones formarán parte de la organización territorial, en los términos y las condiciones que determinen la ley.\n",
      "\n",
      "score:0.845\n",
      "\n"
     ]
    }
   ],
   "source": [
    "query = '¿Qué dice el artículo 1 de la constitución política del estado Boliviano?'\n",
    "docs_withScores = vector_store_bgem3.similarity_search_with_score(query,k=5)\n",
    "\n",
    "print_documents(docs_withScores,search_with_score=True)"
   ]
  },
  {
   "cell_type": "code",
   "execution_count": 14,
   "id": "8583b578",
   "metadata": {},
   "outputs": [
    {
     "name": "stdout",
     "output_type": "stream",
     "text": [
      "Similarty of document_0 to the query: 0.6149\n",
      "Similarty of document_1 to the query: 0.5992\n",
      "Similarty of document_2 to the query: 0.5826\n",
      "Similarty of document_3 to the query: 0.5797\n",
      "Similarty of document_4 to the query: 0.5777\n"
     ]
    }
   ],
   "source": [
    "query_embeddings = embedding_adapter.embed_query(query)\n",
    "docs_embeddings = embedding_adapter.embed_documents(\n",
    "    [docs_withScores[i][0].page_content \n",
    "    for i in range(len(docs_withScores))\n",
    "    ]\n",
    ")\n",
    "\n",
    "for i in range(len(docs_embeddings)):\n",
    "    dot_product = round(np.dot(query_embeddings, docs_embeddings[i]),4)\n",
    "    print(f\"Similarty of document_{i} to the query: {dot_product}\")"
   ]
  },
  {
   "cell_type": "markdown",
   "id": "851613c0",
   "metadata": {},
   "source": [
    "### Maximum marginal relevance search (MMR) search"
   ]
  },
  {
   "cell_type": "code",
   "execution_count": 15,
   "id": "ffd4a138",
   "metadata": {},
   "outputs": [
    {
     "name": "stdout",
     "output_type": "stream",
     "text": [
      "Document 1:\n",
      "\n",
      "Parte Primera: Bases fundamentales del estado derechos, deberes y garantías\n",
      "Título 1: Bases fundamentales del estado\n",
      "Capítulo Primero: Modelo de Estado\n",
      "Sección None: None\n",
      "Artículo 1: Modelol de Estado\n",
      "\n",
      "Bolivia se constituye en un Estado Unitario Social de Derecho Plurinacional Comunitario, libre, independiente, soberano, democrático, intercultural, descentralizado y con autonomías. Bolivia se funda en la pluralidad y el pluralismo político, económico, jurídico, cultural y lingüístico, dentro del proceso integrador del país.\n",
      "----------------------------------------------------------------------------------------------------\n",
      "Document 2:\n",
      "\n",
      "Parte Segunda: Estructura y organización funcional del estado\n",
      "Título 7: Fuerzas Armadas y Policía Boliviana\n",
      "Capítulo Primero: Fuerzas Armadas\n",
      "Sección None: None\n",
      "Artículo 249: Servicio Militar Obligatorio\n",
      "\n",
      "Todo boliviano estará obligado a prestar servicio militar, de acuerdo con la ley.\n",
      "----------------------------------------------------------------------------------------------------\n",
      "Document 3:\n",
      "\n",
      "Parte Cuarta: Estructura y organización económica del Estado\n",
      "Título 2: Medio Ambiente, Recursos Naturales, Tierra y Territorio\n",
      "Capítulo Primero: Medio Ambiente\n",
      "Sección None: None\n",
      "Artículo 344: Prohibición a la Fabricación y Uso de Armas Químicas, Biológicas y Nucleares\n",
      "\n",
      ". Se prohíbe la fabricación y uso de armas químicas, biológicas y nucleares en el territorio boliviano, así como la internación, tránsito y depósito de residuos nucleares y desechos tóxicos. II. El Estado regulará la internación, producción, comercialización y empleo de técnicas, métodos, insumos y sustancias que afecten a la salud y al medio ambiente.\n",
      "----------------------------------------------------------------------------------------------------\n",
      "Document 4:\n",
      "\n",
      "Parte Cuarta: Estructura y organización económica del Estado\n",
      "Título 1: Organización económica del Estado\n",
      "Capítulo Tercero: Políticas económicas\n",
      "Sección None: None\n",
      "Artículo 320: Priorización de la Inversión Boliviana e Inversión Extranjera\n",
      "\n",
      "I. La inversión boliviana se priorizará frente a la inversión extranjera. II. Toda inversión extranjera estará sometida a la jurisdicción, a las leyes y a las autoridades bolivianas, y nadie podrá invocar situación de excepción, ni apelar a reclamaciones diplomáticas para obtener un tratamiento más favorable. III. Las relaciones económicas con estados o empresas extranjeras se realizarán en condiciones de independencia, respeto mutuo y equidad. No se podrá otorgar a Estados o empresas extranjeras condiciones más beneficiosas que las establecidas para los bolivianos. IV. El Estado es independiente en todas las decisiones de política económica interna, y no aceptará imposiciones ni condicionamientos sobre esta política por parte de estados, bancos o instituciones financieras bolivianas o extranjeras, entidades multilaterales ni empresas transnacionales. V. Las políticas públicas promocionarán el consumo interno de productos hechos en Bolivia.\n"
     ]
    }
   ],
   "source": [
    "query = '¿Qué dice el artículo 1 de la constitución política del estado Boliviano?'\n",
    "docs_MMR = vector_store_bgem3.max_marginal_relevance_search(query,k=4)\n",
    "\n",
    "print_documents(docs_MMR)"
   ]
  },
  {
   "cell_type": "markdown",
   "id": "17894c23",
   "metadata": {},
   "source": [
    "## Retrievers"
   ]
  },
  {
   "cell_type": "markdown",
   "id": "0925e1ec",
   "metadata": {},
   "source": [
    "### Vectorstore-backed retriever"
   ]
  },
  {
   "cell_type": "code",
   "execution_count": 16,
   "id": "dcbb73fe",
   "metadata": {},
   "outputs": [],
   "source": [
    "def Vectorstore_backed_retriever(vectorstore,search_type=\"similarity\",k=4,score_threshold=None):\n",
    "    \"\"\"create a vectorsore-backed retriever\n",
    "    Parameters: \n",
    "        search_type: Defines the type of search that the Retriever should perform.\n",
    "            Can be \"similarity\" (default), \"mmr\", or \"similarity_score_threshold\"\n",
    "        k: number of documents to return (Default: 4) \n",
    "        score_threshold: Minimum relevance threshold for similarity_score_threshold (default=None)\n",
    "    \"\"\"\n",
    "    search_kwargs={}\n",
    "    if k is not None:\n",
    "        search_kwargs['k'] = k\n",
    "    if score_threshold is not None:\n",
    "        search_kwargs['score_threshold'] = score_threshold\n",
    "\n",
    "    retriever = vectorstore.as_retriever(\n",
    "        search_type=search_type,\n",
    "        search_kwargs=search_kwargs\n",
    "    )\n",
    "    return retriever"
   ]
  },
  {
   "cell_type": "code",
   "execution_count": 149,
   "id": "33439a1a",
   "metadata": {},
   "outputs": [],
   "source": [
    "# similarity search\n",
    "base_retriever_bgem3 = Vectorstore_backed_retriever(vector_store_bgem3, \"similarity\", k=3)\n",
    "#base_retriever_OpenAI = Vectorstore_backed_retriever(vector_store_OpenAI,\"similarity\",k=10)\n",
    "#base_retriever_google = Vectorstore_backed_retriever(vector_store_google,\"similarity\",k=10)\n",
    "#base_retriever_HF = Vectorstore_backed_retriever(vector_store_HF,\"similarity\",k=10)\n",
    "\n",
    "# # MMMR seach\n",
    "# base_retriever_OpenAI = Vectorstore_backed_retriever(vector_store_OpenAI,\"mmr\",k=10)\n",
    "# base_retriever_google = Vectorstore_backed_retriever(vector_store_google,\"mmr\",k=10)\n",
    "# base_retriever_HF = Vectorstore_backed_retriever(vector_store_HF,\"mmr\",k=10)\n",
    "\n",
    "# # similarity_score_threshold search\n",
    "# base_retriever_OpenAI = Vectorstore_backed_retriever(vector_store_OpenAI,\"similarity_score_threshold\",score_threshold=0.5,k=10)\n",
    "# base_retriever_google = Vectorstore_backed_retriever(vector_store_google,\"similarity_score_threshold\",score_threshold=0.5,k=10)\n",
    "# base_retriever_HF = Vectorstore_backed_retriever(vector_store_HF,\"similarity_score_threshold\",score_threshold=0.5,k=10)"
   ]
  },
  {
   "cell_type": "code",
   "execution_count": 150,
   "id": "893d9faf",
   "metadata": {},
   "outputs": [
    {
     "name": "stdout",
     "output_type": "stream",
     "text": [
      "Document 1:\n",
      "\n",
      "Parte Primera: Bases fundamentales del estado derechos, deberes y garantías\n",
      "Título 1: Bases fundamentales del estado\n",
      "Capítulo Primero: Modelo de Estado\n",
      "Sección None: None\n",
      "Artículo 1: Modelol de Estado\n",
      "\n",
      "Bolivia se constituye en un Estado Unitario Social de Derecho Plurinacional Comunitario, libre, independiente, soberano, democrático, intercultural, descentralizado y con autonomías. Bolivia se funda en la pluralidad y el pluralismo político, económico, jurídico, cultural y lingüístico, dentro del proceso integrador del país.\n",
      "----------------------------------------------------------------------------------------------------\n",
      "Document 2:\n",
      "\n",
      "Parte Primera: Bases fundamentales del estado derechos, deberes y garantías\n",
      "Título 1: Bases fundamentales del estado\n",
      "Capítulo Segundo: Principios, Valores y Fines del Estado\n",
      "Sección None: None\n",
      "Artículo 10: Carácter Pacifista del Estado\n",
      "\n",
      "I. Bolivia es un Estado pacifista, que promueve la cultura de la paz y el derecho a la paz, así como la cooperación entre los pueblos de la región y del mundo, a fin de contribuir al conocimiento mutuo, al desarrollo equitativo y a la promoción de la interculturalidad, con pleno respeto a la soberanía de los estados. II. Bolivia rechaza toda guerra de agresión como instrumento de solución a los diferendos y conflictos entre estados y se reserva el derecho a la legítima defensa en caso de agresión que comprometa la independencia y la integridad del Estado. III. Se prohíbe la instalación de bases militares extranjeras en territorio boliviano.\n",
      "----------------------------------------------------------------------------------------------------\n",
      "Document 3:\n",
      "\n",
      "Parte Primera: Bases fundamentales del estado derechos, deberes y garantías\n",
      "Título 1: Bases fundamentales del estado\n",
      "Capítulo Tercero: Sistema de Gobierno\n",
      "Sección None: None\n",
      "Artículo 11: Forma de Gobierno\n",
      "\n",
      "I. La República de Bolivia adopta para su gobierno la forma democrática participativa, representativa y comunitaria, con equivalencia de condiciones entre hombres y mujeres. II. La democracia se ejerce de las siguientes formas, que serán desarrolladas por la ley: 1. Directa y participativa, por medio del referendo, la iniciativa legislativa ciudadana, la revocatoria de mandato, la asamblea, el cabildo y la consulta previa.. Las asambleas y cabildos tendrán carácter deliberativo conforme a Ley. 2. Representativa, por medio de la elección de representantes por voto universal, directo y secreto, conforme a Ley. 3. Comunitaria, por medio de la elección, designación o nominación de autoridades y representantes por normas y procedimientos propios de las naciones y pueblos indígena originario campesinos, entre otros, conforme a Ley.\n"
     ]
    }
   ],
   "source": [
    "# Get relevant documents\n",
    "query = '¿Qué dice el artículo 1 de la constitución política del estado Boliviano?'\n",
    "relevant_docs = base_retriever_bgem3.invoke(query)\n",
    "\n",
    "print_documents(relevant_docs)"
   ]
  },
  {
   "cell_type": "markdown",
   "id": "6b7319b1",
   "metadata": {},
   "source": [
    "## ChatModel"
   ]
  },
  {
   "cell_type": "code",
   "execution_count": 131,
   "id": "4e75ddcc",
   "metadata": {},
   "outputs": [],
   "source": [
    "# LLM Model\n",
    "llm = ChatOllama(model=\"mistral:7b-instruct-v0.2-q8_0\")"
   ]
  },
  {
   "cell_type": "code",
   "execution_count": 133,
   "id": "1004f47b",
   "metadata": {},
   "outputs": [
    {
     "name": "stdout",
     "output_type": "stream",
     "text": [
      " La Inteligencia Artificial (IA) o \"Inteligencia Machine\" es una rama de la computación que se dedica al diseño y desarrollo de sistemas informáticos capaces de realizar tareas que hasta ahora solamente podían hacerlos los seres humanos con gran eficacia. Estas tareas incluyen aprender de experiencia, reconocer patrones y procesar lenguaje natural, entre otras.\n",
      "\n",
      "El objetivo de la IA es crear sistemas que puedan entender y responder a un entorno complejo y cambiante, similar a cómo lo hacemos los seres humanos. Esto se logra mediante el uso de algoritmos y técnicas matemáticas como aprendizaje profundo, aprendizaje automático, lógica matemática y optimización.\n",
      "\n",
      "La IA se utiliza en una variedad de aplicaciones, desde juegos como Go y Ajedrez, hasta sistemas de reconocimiento facial, asistencia médica, comercio electrónico y muchos más. El campo de la IA está en constante evolución y ofrece grandes oportunidades para el desarrollo de nuevas tecnologías que pueden transformar la manera en que vivimos y trabajamos.\n"
     ]
    }
   ],
   "source": [
    "import torch\n",
    "# Message test\n",
    "messages = [\n",
    "    ChatMessage(role=\"control\", content=\"thinking\"),\n",
    "    HumanMessage(\"¿Qué es la inteligencia artificial?\"),\n",
    "]\n",
    "\n",
    "\n",
    "torch.cuda.empty_cache()\n",
    "response = llm.invoke(\"¿Qué es la inteligencia artificial?\")\n",
    "print(response.content)"
   ]
  },
  {
   "cell_type": "markdown",
   "id": "2fc7defe",
   "metadata": {},
   "source": [
    "### Memory"
   ]
  },
  {
   "cell_type": "code",
   "execution_count": 80,
   "id": "1e519ae8",
   "metadata": {},
   "outputs": [],
   "source": [
    "from langgraph.checkpoint.memory import InMemorySaver\n",
    "from langgraph.graph import MessagesState, StateGraph, START, END\n",
    "from langchain_community.chat_models import ChatOllama"
   ]
  },
  {
   "cell_type": "code",
   "execution_count": 105,
   "id": "cc5185f3",
   "metadata": {},
   "outputs": [],
   "source": [
    "checkpointer = InMemorySaver()"
   ]
  },
  {
   "cell_type": "code",
   "execution_count": 106,
   "id": "4ad82e82",
   "metadata": {},
   "outputs": [],
   "source": [
    "def call_model(state: MessagesState):\n",
    "    response = llm.invoke(state[\"messages\"])\n",
    "    return {\"messages\": [response]}"
   ]
  },
  {
   "cell_type": "code",
   "execution_count": 107,
   "id": "b13ce16d",
   "metadata": {},
   "outputs": [
    {
     "data": {
      "text/plain": [
       "<langgraph.graph.state.StateGraph at 0x239da213a50>"
      ]
     },
     "execution_count": 107,
     "metadata": {},
     "output_type": "execute_result"
    }
   ],
   "source": [
    "builder = StateGraph(MessagesState)\n",
    "builder.add_node(\"call_model\", call_model)\n",
    "builder.add_edge(START, \"call_model\")\n",
    "builder.add_edge(\"call_model\", END)"
   ]
  },
  {
   "cell_type": "code",
   "execution_count": 108,
   "id": "098965b5",
   "metadata": {},
   "outputs": [],
   "source": [
    "graph = builder.compile(checkpointer=checkpointer)"
   ]
  },
  {
   "cell_type": "code",
   "execution_count": 109,
   "id": "86311edc",
   "metadata": {},
   "outputs": [],
   "source": [
    "config = {\"configurable\": {\"thread_id\": \"chat_temporal\"}}"
   ]
  },
  {
   "cell_type": "code",
   "execution_count": 28,
   "id": "6aa07dbe",
   "metadata": {},
   "outputs": [
    {
     "data": {
      "text/plain": [
       "{'messages': [HumanMessage(content='Hola, ¿quién eres?', additional_kwargs={}, response_metadata={}, id='54ae8f3f-cb04-45a7-8f89-2c07bf12d1db'),\n",
       "  AIMessage(content=' Hola! Soy un asistente de IA programado por Mistral AI. ¿Cómo puedo ayudarte hoy?\\n\\nTengo la capacidad para respondete preguntas, organizar tareas, proporcionar información y hacer muchas cosas más. ¡Vamos a trabajar juntos!', additional_kwargs={}, response_metadata={'model': 'mistral:7b', 'created_at': '2025-10-22T23:04:48.6278032Z', 'done': True, 'done_reason': 'stop', 'total_duration': 11343189700, 'load_duration': 7909712300, 'prompt_eval_count': 13, 'prompt_eval_duration': 1974984600, 'eval_count': 79, 'eval_duration': 1443619000, 'model_name': 'mistral:7b', 'model_provider': 'ollama'}, id='lc_run--c9e90275-769e-4c8f-a61e-d23eaef8a093-0', usage_metadata={'input_tokens': 13, 'output_tokens': 79, 'total_tokens': 92})]}"
      ]
     },
     "execution_count": 28,
     "metadata": {},
     "output_type": "execute_result"
    }
   ],
   "source": [
    "graph.invoke(\n",
    "    {\"messages\": [{\"role\": \"user\", \"content\": \"Hola, ¿quién eres?\"}]},\n",
    "    config\n",
    ")"
   ]
  },
  {
   "cell_type": "code",
   "execution_count": 29,
   "id": "75d33c10",
   "metadata": {},
   "outputs": [
    {
     "data": {
      "text/plain": [
       "{'messages': [HumanMessage(content='Hola, ¿quién eres?', additional_kwargs={}, response_metadata={}, id='54ae8f3f-cb04-45a7-8f89-2c07bf12d1db'),\n",
       "  AIMessage(content=' Hola! Soy un asistente de IA programado por Mistral AI. ¿Cómo puedo ayudarte hoy?\\n\\nTengo la capacidad para respondete preguntas, organizar tareas, proporcionar información y hacer muchas cosas más. ¡Vamos a trabajar juntos!', additional_kwargs={}, response_metadata={'model': 'mistral:7b', 'created_at': '2025-10-22T23:04:48.6278032Z', 'done': True, 'done_reason': 'stop', 'total_duration': 11343189700, 'load_duration': 7909712300, 'prompt_eval_count': 13, 'prompt_eval_duration': 1974984600, 'eval_count': 79, 'eval_duration': 1443619000, 'model_name': 'mistral:7b', 'model_provider': 'ollama'}, id='lc_run--c9e90275-769e-4c8f-a61e-d23eaef8a093-0', usage_metadata={'input_tokens': 13, 'output_tokens': 79, 'total_tokens': 92}),\n",
       "  HumanMessage(content='¿Qué te dije antes?', additional_kwargs={}, response_metadata={}, id='1ab7c35e-a9a9-4714-b64a-58b9d86e853b'),\n",
       "  AIMessage(content=' Voy a repetir lo que le dije anteriormente: Hola! Soy un asistente de IA programado por Mistral AI. ¿Cómo puedo ayudarte hoy?\\n\\nTengo la capacidad para respondete preguntas, organizar tareas, proporcionar información y hacer muchas cosas más. ¡Vamos a trabajar juntos!', additional_kwargs={}, response_metadata={'model': 'mistral:7b', 'created_at': '2025-10-22T23:05:17.3513448Z', 'done': True, 'done_reason': 'stop', 'total_duration': 2067404300, 'load_duration': 26389100, 'prompt_eval_count': 104, 'prompt_eval_duration': 360506500, 'eval_count': 92, 'eval_duration': 1652803600, 'model_name': 'mistral:7b', 'model_provider': 'ollama'}, id='lc_run--0db21e75-aaf0-41ac-a2ed-5e3d8077bd3c-0', usage_metadata={'input_tokens': 104, 'output_tokens': 92, 'total_tokens': 196})]}"
      ]
     },
     "execution_count": 29,
     "metadata": {},
     "output_type": "execute_result"
    }
   ],
   "source": [
    "graph.invoke(\n",
    "    {\"messages\": [{\"role\": \"user\", \"content\": \"¿Qué te dije antes?\"}]},\n",
    "    config\n",
    ")"
   ]
  },
  {
   "cell_type": "code",
   "execution_count": 31,
   "id": "c5dbe1a6",
   "metadata": {},
   "outputs": [],
   "source": [
    "# Volver a llamar para limpiar la memoria del chat\n",
    "checkpointer = InMemorySaver()"
   ]
  },
  {
   "cell_type": "markdown",
   "id": "c3bb8954",
   "metadata": {},
   "source": [
    "### PromptTemplate"
   ]
  },
  {
   "cell_type": "code",
   "execution_count": 33,
   "id": "b5bb32d2",
   "metadata": {},
   "outputs": [],
   "source": [
    "standalone_question_template = \"\"\"\n",
    "Dada la siguiente conversación y una pregunta de seguimiento,\n",
    "reformula la pregunta de seguimiento para que sea una pregunta independiente,\n",
    "manteniendo su significado original y en el mismo idioma (español).\n",
    "\n",
    "Historial de chat:\n",
    "{chat_history}\n",
    "\n",
    "Pregunta de seguimiento:\n",
    "{question}\n",
    "\n",
    "Pregunta independiente:\n",
    "\"\"\"\n",
    "\n",
    "standalone_question_prompt = PromptTemplate(\n",
    "    input_variables=[\"chat_history\", \"question\"],\n",
    "    template=standalone_question_template\n",
    ")"
   ]
  },
  {
   "cell_type": "code",
   "execution_count": null,
   "id": "d203d976",
   "metadata": {},
   "outputs": [
    {
     "name": "stdout",
     "output_type": "stream",
     "text": [
      "Pregunta reformulada:\n",
      "\n",
      "Dada la siguiente conversación y una pregunta de seguimiento,\n",
      "reformula la pregunta de seguimiento para que sea una pregunta independiente,\n",
      "manteniendo su significado original y en el mismo idioma (español).\n",
      "\n",
      "Historial de chat:\n",
      "human: ¿Qué dice el artículo 7 de la constitucion politica del estado de Bolivia?\n",
      "ai:  El Artículo 7 de la Constitución Política del Estado Plurinacional de Bolivia establece los principios fundamentales del Estado boliviano:\n",
      "\n",
      "1. El Estado es sujeto de derecho, independiente, unitario, centralizado y democrático con personalidad jurídica propia.\n",
      "2. La soberanía popular es indivisible, inalienable e inviolable.\n",
      "3. La base del Estado es la nación boliviana plurinacional, integrada por todos los pueblos y nacionalidades de Bolivia.\n",
      "4. El Estado tiene como objeto el desarrollo integral de la personalidad colectiva de la nación boliviana plurinacional, basado en la igualdad, justicia social, libertad, solidaridad, democracia, paz, concordia y unión indissolubles.\n",
      "5. El Estado se organiza como Estado social de derecho, garantizando la igualdad frente a la ley, el respeto de los derechos humanos, las libertades individuales y colectivas, la propiedad privada, la protección del patrimonio cultural e histórico, la protección ambiental, la defensa de la soberanía nacional, la promoción de la justicia social, el respeto a los derechos de los pueblos indígenas y originarios, en especial los pueblos que tienen una lengua reconocida oficialmente, así como la defensa del Estado plurinacional de Bolivia ante cualquier amenaza externa o internamente.\n",
      "6. El Estado garantiza el funcionamiento y desarrollo democrático del Poder Público mediante el ejercicio de la sufragio universal, directo y secreto en los términos que establezca esta Constitución.\n",
      "7. La Constitución es la máxima norma jurídica del Estado boliviano y sus disposiciones tienen vigencia obligatoria para todos y cada uno de sus ciudadanos.\n",
      "8. El Estado se organiza en un poder ejecutivo, legislativo y judicial, cuyas funciones son separadas pero complementarias. Cada uno de los poderes tiene su propio ordenamiento constitucional y su estructura interna, conforme a lo dispuesto por esta Constitución.\n",
      "9. La autoridad del Estado se ejerce directamente en todo el territorio nacional, mediante las órdenes administrativas, de la policía, de la fuerza armada y de los servicios públicos de seguridad interna y externa.\n",
      "10. El Estado garantiza el funcionamiento democrático del sistema de gobierno municipal y departamental.\n",
      "11. La Constitución es la base de todo ordenamiento normativo, lo que no está dispuesto por ella o derivada de ella será inconstitucional.\n",
      "\n",
      "Pregunta de seguimiento:\n",
      "¿Y qué pasa si no se respetan esos derechos?\n",
      "\n",
      "Pregunta independiente:\n",
      "\n"
     ]
    }
   ],
   "source": [
    "graph.invoke(\n",
    "    {\"messages\": [{\"role\": \"user\", \"content\": \"¿Qué dice el artículo 7 de la constitucion politica del estado de Bolivia?\"}]},\n",
    "    config\n",
    ")\n",
    "\n",
    "nueva_pregunta = \"¿Y qué pasa si no se respetan esos derechos?\"\n",
    "\n",
    "state = graph.get_state(config)\n",
    "historial = state.values[\"messages\"]\n",
    "\n",
    "prompt_reformulado = standalone_question_prompt.format(\n",
    "    chat_history=\"\\n\".join([f\"{m.type}: {m.content}\" for m in historial]),\n",
    "    question=nueva_pregunta\n",
    ")\n",
    "\n",
    "print(\"Pregunta reformulada:\")\n",
    "print(prompt_reformulado)"
   ]
  },
  {
   "cell_type": "code",
   "execution_count": 51,
   "id": "17f6ca43",
   "metadata": {},
   "outputs": [
    {
     "name": "stdout",
     "output_type": "stream",
     "text": [
      "Pregunta generada por el propio modelo:\n",
      "\n",
      " ¿Qué sanciones legales implicarían la violación de los derechos establecidos en el Artículo 7 de la Constitución Política del Estado Plurinacional de Bolivia?\n"
     ]
    }
   ],
   "source": [
    "respuesta_reformulada = llm.invoke(prompt_reformulado)\n",
    "\n",
    "print(\"Pregunta generada por el propio modelo:\\n\")\n",
    "print(respuesta_reformulada.content)"
   ]
  },
  {
   "cell_type": "code",
   "execution_count": 136,
   "id": "c6b65980",
   "metadata": {},
   "outputs": [],
   "source": [
    "#Para borrar memoria del hilo\n",
    "thread_id = \"chat_temporal\"\n",
    "checkpointer.delete_thread(thread_id)"
   ]
  },
  {
   "cell_type": "markdown",
   "id": "de23edab",
   "metadata": {},
   "source": [
    "### ChatPromptTemplate"
   ]
  },
  {
   "cell_type": "code",
   "execution_count": 54,
   "id": "248f0124",
   "metadata": {},
   "outputs": [],
   "source": [
    "def answer_template(language=\"spanish\"):\n",
    "    template = f\"\"\"Eres un asistente especializado en la Constitución Política del Estado Plurinacional de Bolivia.\n",
    "Responde la siguiente pregunta utilizando únicamente la información proporcionada en el contexto (delimitado por <context></context>). \\\n",
    "Tu respuesta debe estar en el idioma del final. \n",
    "Si la información no es suficiente o no se encuentra en el contexto, responde claramente: \n",
    "\"No tengo información suficiente en la Constitución para responder a esta pregunta.\"\n",
    "\n",
    "<context>\n",
    "{{chat_history}}\n",
    "\n",
    "{{context}} \n",
    "</context>\n",
    "\n",
    "Pregunta: {{question}}\n",
    "\n",
    "Idioma: {language}.\n",
    "\"\"\"\n",
    "    return template"
   ]
  },
  {
   "cell_type": "code",
   "execution_count": 55,
   "id": "50466ef5",
   "metadata": {},
   "outputs": [],
   "source": [
    "chat_template = answer_template(language=\"Spanish\")"
   ]
  },
  {
   "cell_type": "code",
   "execution_count": null,
   "id": "2a06d625",
   "metadata": {},
   "outputs": [],
   "source": [
    "# En caso de no definirlo antes\n",
    "config = {\"configurable\": {\"thread_id\": \"chat_temporal\"}}"
   ]
  },
  {
   "cell_type": "code",
   "execution_count": null,
   "id": "d311f23c",
   "metadata": {},
   "outputs": [],
   "source": [
    "state = graph.get_state(config)\n",
    "historial = state.values[\"messages\"]\n",
    "chat_history = \"\\n\".join([f\"{m.type}: {m.content}\" for m in historial])\n",
    "contexto = \"\\n\".join([f\"{m.type}: {m.content}\" for m in historial]) # En este caso defino lo mismo para no dejarlo vacio y evitar errores, pero usualmente es el retrieved"
   ]
  },
  {
   "cell_type": "code",
   "execution_count": 57,
   "id": "092ca247",
   "metadata": {},
   "outputs": [],
   "source": [
    "pregunta_final = \"¿Qué sucede si no se respetan los derechos fundamentales establecidos en el artículo 7?\""
   ]
  },
  {
   "cell_type": "code",
   "execution_count": null,
   "id": "311e91fb",
   "metadata": {},
   "outputs": [],
   "source": [
    "prompt_final = chat_template.format(\n",
    "    context = contexto,\n",
    "    chat_history = chat_history,\n",
    "    question = pregunta_final\n",
    ")"
   ]
  },
  {
   "cell_type": "code",
   "execution_count": 63,
   "id": "e1d398f4",
   "metadata": {},
   "outputs": [
    {
     "name": "stdout",
     "output_type": "stream",
     "text": [
      "PROMPT FINAL ENVIADO:\n",
      "Eres un asistente especializado en la Constitución Política del Estado Plurinacional de Bolivia.\n",
      "Responde la siguiente pregunta utilizando únicamente la información proporcionada en el contexto (delimitado por <context></context>). Tu respuesta debe estar en el idioma del final. \n",
      "Si la información no es suficiente o no se encuentra en el contexto, responde claramente: \n",
      "\"No tengo información suficiente en la Constitución para responder a esta pregunta.\"\n",
      "\n",
      "<context>\n",
      "human: ¿Qué dice el artículo 7 de la constitucion politica del estado de Bolivia?\n",
      "ai:  El Artículo 7 de la Constitución Política del Estado Plurinacional de Bolivia establece los principios fundamentales del Estado boliviano:\n",
      "\n",
      "1. El Estado es sujeto de derecho, independiente, unitario, centralizado y democrático con personalidad jurídica propia.\n",
      "2. La soberanía popular es indivisible, inalienable e inviolable.\n",
      "3. La base del Estado es la nación boliviana plurinacional, integrada por todos los pueblos y nacionalidades de Bolivia.\n",
      "4. El Estado tiene como objeto el desarrollo integral de la personalidad colectiva de la nación boliviana plurinacional, basado en la igualdad, justicia social, libertad, solidaridad, democracia, paz, concordia y unión indissolubles.\n",
      "5. El Estado se organiza como Estado social de derecho, garantizando la igualdad frente a la ley, el respeto de los derechos humanos, las libertades individuales y colectivas, la propiedad privada, la protección del patrimonio cultural e histórico, la protección ambiental, la defensa de la soberanía nacional, la promoción de la justicia social, el respeto a los derechos de los pueblos indígenas y originarios, en especial los pueblos que tienen una lengua reconocida oficialmente, así como la defensa del Estado plurinacional de Bolivia ante cualquier amenaza externa o internamente.\n",
      "6. El Estado garantiza el funcionamiento y desarrollo democrático del Poder Público mediante el ejercicio de la sufragio universal, directo y secreto en los términos que establezca esta Constitución.\n",
      "7. La Constitución es la máxima norma jurídica del Estado boliviano y sus disposiciones tienen vigencia obligatoria para todos y cada uno de sus ciudadanos.\n",
      "8. El Estado se organiza en un poder ejecutivo, legislativo y judicial, cuyas funciones son separadas pero complementarias. Cada uno de los poderes tiene su propio ordenamiento constitucional y su estructura interna, conforme a lo dispuesto por esta Constitución.\n",
      "9. La autoridad del Estado se ejerce directamente en todo el territorio nacional, mediante las órdenes administrativas, de la policía, de la fuerza armada y de los servicios públicos de seguridad interna y externa.\n",
      "10. El Estado garantiza el funcionamiento democrático del sistema de gobierno municipal y departamental.\n",
      "11. La Constitución es la base de todo ordenamiento normativo, lo que no está dispuesto por ella o derivada de ella será inconstitucional.\n",
      "\n",
      "human: ¿Qué dice el artículo 7 de la constitucion politica del estado de Bolivia?\n",
      "ai:  El Artículo 7 de la Constitución Política del Estado Plurinacional de Bolivia establece los principios fundamentales del Estado boliviano:\n",
      "\n",
      "1. El Estado es sujeto de derecho, independiente, unitario, centralizado y democrático con personalidad jurídica propia.\n",
      "2. La soberanía popular es indivisible, inalienable e inviolable.\n",
      "3. La base del Estado es la nación boliviana plurinacional, integrada por todos los pueblos y nacionalidades de Bolivia.\n",
      "4. El Estado tiene como objeto el desarrollo integral de la personalidad colectiva de la nación boliviana plurinacional, basado en la igualdad, justicia social, libertad, solidaridad, democracia, paz, concordia y unión indissolubles.\n",
      "5. El Estado se organiza como Estado social de derecho, garantizando la igualdad frente a la ley, el respeto de los derechos humanos, las libertades individuales y colectivas, la propiedad privada, la protección del patrimonio cultural e histórico, la protección ambiental, la defensa de la soberanía nacional, la promoción de la justicia social, el respeto a los derechos de los pueblos indígenas y originarios, en especial los pueblos que tienen una lengua reconocida oficialmente, así como la defensa del Estado plurinacional de Bolivia ante cualquier amenaza externa o internamente.\n",
      "6. El Estado garantiza el funcionamiento y desarrollo democrático del Poder Público mediante el ejercicio de la sufragio universal, directo y secreto en los términos que establezca esta Constitución.\n",
      "7. La Constitución es la máxima norma jurídica del Estado boliviano y sus disposiciones tienen vigencia obligatoria para todos y cada uno de sus ciudadanos.\n",
      "8. El Estado se organiza en un poder ejecutivo, legislativo y judicial, cuyas funciones son separadas pero complementarias. Cada uno de los poderes tiene su propio ordenamiento constitucional y su estructura interna, conforme a lo dispuesto por esta Constitución.\n",
      "9. La autoridad del Estado se ejerce directamente en todo el territorio nacional, mediante las órdenes administrativas, de la policía, de la fuerza armada y de los servicios públicos de seguridad interna y externa.\n",
      "10. El Estado garantiza el funcionamiento democrático del sistema de gobierno municipal y departamental.\n",
      "11. La Constitución es la base de todo ordenamiento normativo, lo que no está dispuesto por ella o derivada de ella será inconstitucional. \n",
      "</context>\n",
      "\n",
      "Pregunta: ¿Qué sucede si no se respetan los derechos fundamentales establecidos en el artículo 7?\n",
      "\n",
      "Idioma: Spanish.\n",
      "\n"
     ]
    }
   ],
   "source": [
    "print(\"prompt enviado:\")\n",
    "print(prompt_final)"
   ]
  },
  {
   "cell_type": "code",
   "execution_count": 64,
   "id": "a88e9f0d",
   "metadata": {},
   "outputs": [
    {
     "name": "stdout",
     "output_type": "stream",
     "text": [
      "RESPUESTA DEL MODELO:\n",
      " Si no se respetan los derechos fundamentales establecidos en el artículo 7 de la Constitución Política del Estado Plurinacional de Bolivia, se violarían las bases y principios que rigen al Estado boliviano, lo que podría derivar en acciones legales o constitucionales correspondientes. En este caso, es importante señalar que la Constitución es la máxima norma jurídica del Estado boliviano y sus disposiciones tienen vigencia obligatoria para todos y cada uno de sus ciudadanos (artículo 7.11).\n"
     ]
    }
   ],
   "source": [
    "respuesta = llm.invoke(prompt_final)\n",
    "print(\"Respuesta:\")\n",
    "print(respuesta.content)"
   ]
  },
  {
   "cell_type": "code",
   "execution_count": 115,
   "id": "41ebd375",
   "metadata": {},
   "outputs": [],
   "source": [
    "#Para borrar memoria del hilo\n",
    "thread_id = \"chat_temporal\"\n",
    "checkpointer.delete_thread(thread_id)"
   ]
  },
  {
   "cell_type": "markdown",
   "id": "9fdaad92",
   "metadata": {},
   "source": [
    "## Conversational Retrieval Chain"
   ]
  },
  {
   "cell_type": "code",
   "execution_count": null,
   "id": "110f1bdf",
   "metadata": {},
   "outputs": [],
   "source": [
    "from typing import List, Dict\n",
    "\n",
    "class ConversationalRetrieval:\n",
    "    def __init__(self, retriever, llm, memory, question_rewriter=None, answer_prompt=None, config=None):\n",
    "        self.retriever = retriever\n",
    "        self.llm = llm\n",
    "        self.memory = memory\n",
    "        self.question_rewriter = question_rewriter\n",
    "        self.answer_prompt = answer_prompt\n",
    "        self.config = config or {\"configurable\": {\"thread_id\": \"default_thread\"}}\n",
    "\n",
    "    def condense_question(self, question: str, chat_history: List[Dict[str, str]]):\n",
    "        if not self.question_rewriter:\n",
    "            return question\n",
    "        prompt = f\"Reescribe la siguiente pregunta considerando el contexto previo:\\n\\nHistorial: {chat_history}\\n\\nPregunta: {question}\"\n",
    "        return self.question_rewriter.invoke(prompt).content\n",
    "\n",
    "    def retrieve_context(self, question: str):\n",
    "        return self.retriever.invoke(question)\n",
    "\n",
    "    def generate_answer(self, question: str, context_docs: List[str], chat_history: List[str] = []):\n",
    "        context_text = \"\\n\".join([doc.page_content for doc in context_docs])\n",
    "        chat_history_text = \"\\n\".join(chat_history) if chat_history else \"Sin historial previo.\"\n",
    "        \n",
    "        prompt = self.answer_prompt.format(\n",
    "            context=context_text,\n",
    "            chat_history=chat_history_text,\n",
    "            question=question\n",
    "        )\n",
    "        \n",
    "        return self.llm.invoke(prompt).content\n",
    "\n",
    "    def invoke(self, question: str):\n",
    "        try:\n",
    "            state = self.memory.get_state(self.config)\n",
    "            history_messages = state.values.get(\"messages\", [])\n",
    "            chat_history = [m.content for m in history_messages]\n",
    "        except Exception:\n",
    "            chat_history = []\n",
    "\n",
    "        condensed_q = self.condense_question(question, chat_history)\n",
    "\n",
    "        context_docs = self.retrieve_context(condensed_q)\n",
    "\n",
    "        answer = self.generate_answer(condensed_q, context_docs)\n",
    "\n",
    "        new_messages = [\n",
    "            {\"role\": \"user\", \"content\": question},\n",
    "            {\"role\": \"ai\", \"content\": answer}\n",
    "        ]\n",
    "        self.memory.update_state(self.config, {\"messages\": new_messages})\n",
    "\n",
    "        return {\"answer\": answer, \"source_documents\": context_docs}\n"
   ]
  },
  {
   "cell_type": "code",
   "execution_count": 134,
   "id": "963fc280",
   "metadata": {},
   "outputs": [],
   "source": [
    "retriever = Vectorstore_backed_retriever(vector_store_bgem3, \"similarity\", k=5)\n",
    "llm = ChatOllama(model=\"mistral:7b-instruct-v0.2-q8_0\")\n",
    "memory = graph\n",
    "question_rewriter = llm\n",
    "answer_prompt = chat_template"
   ]
  },
  {
   "cell_type": "code",
   "execution_count": 135,
   "id": "910d66a8",
   "metadata": {},
   "outputs": [],
   "source": [
    "custom_chain = ConversationalRetrieval(\n",
    "    retriever=retriever,\n",
    "    llm=llm,\n",
    "    memory=memory,\n",
    "    question_rewriter=question_rewriter,\n",
    "    answer_prompt=answer_prompt,\n",
    "    config=config\n",
    ")\n"
   ]
  },
  {
   "cell_type": "code",
   "execution_count": 152,
   "id": "80df6fa4",
   "metadata": {},
   "outputs": [],
   "source": [
    "#Para borrar memoria del hilo\n",
    "thread_id = \"chat_temporal\"\n",
    "checkpointer.delete_thread(thread_id)"
   ]
  },
  {
   "cell_type": "code",
   "execution_count": 157,
   "id": "03b7297e",
   "metadata": {},
   "outputs": [
    {
     "data": {
      "text/plain": [
       "StateSnapshot(values={'messages': [HumanMessage(content='¿Qué dice la constitución política del estado Boliviano acerca de los pueblos indígenas?', additional_kwargs={}, response_metadata={}, id='54769969-764a-4df2-9df1-310bc7fa40a9'), AIMessage(content=' Respuesta en español:\\n\\nSegún el contexto anterior, con un registro histórico vacío, te proveeré información sobre la Constitución de Bolivia y sus disposiciones relacionadas con los pueblos indígenas.\\n\\nLa Constitución actual de Bolivia, adoptada en 2009, reconoce y respeta los derechos colectivos de los pueblos indígenas. Acknowledges their cultural diversity, their ancestral territories, and their right to autonomy and self-governance (Article 15). Además, garantiza la protección y promoción de sus idiomas, costumbres, tradiciones y espiritualidad (Artículo 6).\\n\\nLa Constitución también establece medidas de acción afirmativa para abordar las desigualdades históricas que han enfrentado los pueblos indígenas. Esto incluye disposiciones relacionadas con la educación, el cuidado de salud y el desarrollo económico. Además, establece una Asamblea Consultiva Indígena Nacional como mecanismo de su participación en los procesos tomados todecía decisiones políticas (Artículo 16).\\n\\nPor lo tanto, la Constitución de Bolivia reconoce y protege los derechos de los pueblos indígenas, otorgándoles medidas especiales para abordar las desigualdades históricas y asegurando su participación activa en la vida política.\\n\\nIdioma: Spanish.', additional_kwargs={}, response_metadata={}, id='a9b84712-bbd2-41e8-94fa-8936769be4d1')]}, next=('call_model',), config={'configurable': {'thread_id': 'chat_temporal', 'checkpoint_ns': '', 'checkpoint_id': '1f0afd39-e0f7-67e4-8000-b438c95edf2a'}}, metadata={'source': 'update', 'step': 0, 'parents': {}}, created_at='2025-10-23T05:46:27.325941+00:00', parent_config=None, tasks=(PregelTask(id='7a733e76-a343-b0a5-3605-c6923283deeb', name='call_model', path=('__pregel_pull', 'call_model'), error=None, interrupts=(), state=None, result=None),), interrupts=())"
      ]
     },
     "execution_count": 157,
     "metadata": {},
     "output_type": "execute_result"
    }
   ],
   "source": [
    "graph.get_state(config) "
   ]
  },
  {
   "cell_type": "code",
   "execution_count": 155,
   "id": "8c37ecfe",
   "metadata": {},
   "outputs": [],
   "source": [
    "response_first = custom_chain.invoke(\"¿Qué dice la constitución política del estado Boliviano acerca de los pueblos indígenas?\")"
   ]
  },
  {
   "cell_type": "code",
   "execution_count": 156,
   "id": "54120718",
   "metadata": {},
   "outputs": [
    {
     "name": "stdout",
     "output_type": "stream",
     "text": [
      "[Document(metadata={'tipo': 'Articulo'}, page_content='Parte Primera: Bases fundamentales del estado derechos, deberes y garantías\\nTítulo 2: Derechos Fundamentales y Garantías\\nCapítulo Primero: Disposiciones Generales\\nSección None: None\\nArtículo 13: Principios de Integralidad, Indivisibilidad y Universalidad de los Derechos\\n\\nI. Los derechos reconocidos por esta Constitución son inviolables, universales, interdependientes, indivisibles y progresivos. El Estado tiene el deber de promoverlos, protegerlos y respetarlos. II. Los derechos que proclama esta Constitución no serán entendidos como negación de otros derechos no enunciados. III. La clasificación de los derechos establecida en esta Constitución no determina jerarquía alguna ni superioridad de unos derechos sobre otros. IV. Los tratados y convenios internacionales ratificados por la Asamblea Legislativa Plurinacional, que reconocen los derechos humanos y que prohíben su limitación en los Estados de Excepción prevalecen en el orden interno. Los derechos y deberes consagrados en esta Constitución se interpretarán de conformidad con los Tratados internacionales de derechos humanos ratificados por Bolivia.'), Document(metadata={'tipo': 'Articulo'}, page_content='Parte Primera: Bases fundamentales del estado derechos, deberes y garantías\\nTítulo 2: Derechos Fundamentales y Garantías\\nCapítulo Cuarto: Derechos de las naciones y pueblos indígena originario campesinos\\nSección None: None\\nArtículo 32: Derechos del Pueblo Afroboliviano\\n\\nEl pueblo afroboliviano goza, en todo lo que corresponda, de los derechos económicos, sociales, políticos y culturales reconocidos en la Constitución para las naciones y pueblos indígena originario campesinos.'), Document(metadata={'tipo': 'Articulo'}, page_content='Parte Primera: Bases fundamentales del estado derechos, deberes y garantías\\nTítulo 1: Bases fundamentales del estado\\nCapítulo Tercero: Sistema de Gobierno\\nSección None: None\\nArtículo 11: Forma de Gobierno\\n\\nI. La República de Bolivia adopta para su gobierno la forma democrática participativa, representativa y comunitaria, con equivalencia de condiciones entre hombres y mujeres. II. La democracia se ejerce de las siguientes formas, que serán desarrolladas por la ley: 1. Directa y participativa, por medio del referendo, la iniciativa legislativa ciudadana, la revocatoria de mandato, la asamblea, el cabildo y la consulta previa.. Las asambleas y cabildos tendrán carácter deliberativo conforme a Ley. 2. Representativa, por medio de la elección de representantes por voto universal, directo y secreto, conforme a Ley. 3. Comunitaria, por medio de la elección, designación o nominación de autoridades y representantes por normas y procedimientos propios de las naciones y pueblos indígena originario campesinos, entre otros, conforme a Ley.'), Document(metadata={'tipo': 'Introduccion'}, page_content='Título: Constitución Política del Estado\\nSubtítulo: Preámbulo\\n\\nEn tiempos inmemoriales se erigieron montañas, se desplazaron ríos, se formaron lagos. Nuestra amazonia, nuestro chaco, nuestro altiplano y nuestros llanos y valles se cubrieron de verdores y flores. Poblamos esta sagrada Madre Tierra con rostros diferentes, y comprendimos desde entonces la pluralidad vigente de todas las cosas y nuestra diversidad como seres y culturas. Así conformamos nuestros pueblos, y jamás comprendimos el racismo hasta que lo sufrimos desde los funestos tiempos de la colonia. El pueblo boliviano, de composición plural, desde la profundidad de la historia, inspirado en las luchas del pasado, en la sublevación indígena anticolonial, en la independencia, en las luchas populares de liberación, en las marchas indígenas, sociales y sindicales, en las guerras del agua y de octubre, en las luchas por la tierra y territorio, y con la memoria de nuestros mártires, construimos un nuevo Estado. Un Estado basado en el respeto e igualdad entre todos, con principios de soberanía, dignidad, complementariedad, solidaridad, armonía y equidad en la distribución y redistribución del producto social, donde predomine la búsqueda del vivir bien; con respeto a la pluralidad económica, social, jurídica, política y cultural de los habitantes de esta tierra; en convivencia colectiva con acceso al agua, trabajo, educación, salud y vivienda para todos. Dejamos en el pasado el Estado colonial, republicano y neoliberal. Asumimos el reto histórico de construir colectivamente el Estado Unitario Social de Derecho Plurinacional Comunitario, que integra y articula los propósitos de avanzar hacia una Bolivia democrática, productiva, portadora e inspiradora de la paz, comprometida con el desarrollo integral y con la libre determinación de los pueblos. Nosotros, mujeres y hombres, a través de la Asamblea Constituyente y con el poder originario del pueblo, manifestamos nuestro compromiso con la unidad e integridad del país. Cumpliendo el mandato de nuestros pueblos, con la fortaleza de nuestra Pachamama y gracias a Dios, refundamos Bolivia. Honor y gloria a los mártires de la gesta constituyente y liberadora, que han hecho posible esta nueva historia.'), Document(metadata={'tipo': 'Articulo'}, page_content='Parte Primera: Bases fundamentales del estado derechos, deberes y garantías\\nTítulo 2: Derechos Fundamentales y Garantías\\nCapítulo Cuarto: Derechos de las naciones y pueblos indígena originario campesinos\\nSección None: None\\nArtículo 30: Derechos de las Naciones y Pueblos Indígena Originario Campesinos\\n\\nI. Es nación y pueblo indígena originario campesino toda la colectividad humana que comparta identidad cultural, idioma, tradición histórica, instituciones, territorialidad y cosmovisión, cuya existencia es anterior a la invasión colonial española. II. En el marco de la unidad del Estado y de acuerdo con esta Constitución las naciones y pueblos indígena originario campesinos gozan de los siguientes derechos: 1. A existir libremente. 2. A su identidad cultural, creencia religiosa, espiritualidades, prácticas y costumbres, y a su propia cosmovisión. 3. A que la identidad cultural de cada uno de sus miembros, si así lo desea, se inscriba junto a la ciudadanía boliviana en su cédula de identidad, pasaporte u otros documentos de identificación con validez legal. 4. A la libre determinación y territorialidad. 5. A que sus instituciones sean parte de la estructura general del Estado. 6. A la titulación colectiva de tierras y territorios. 7. A la protección de sus lugares sagrados. 8. A crear y administrar sistemas, medios y redes de comunicación propios. 9. A que sus saberes y conocimientos tradicionales, su medicina tradicional, sus idiomas, sus rituales y sus símbolos y vestimentas sean valorados, respetados y promocionados. 10. A vivir en un medio ambiente sano, con manejo y aprovechamiento adecuado de los ecosistemas. 11. A la propiedad intelectual colectiva de sus saberes, ciencias y conocimientos, así como a su valoración, uso, promoción y desarrollo. 12. A una educación intracultural, intercultural y plurilingüe en todo el sistema educativo. 13. Al sistema de salud universal y gratuito que respete su cosmovisión y prácticas tradicionales. 14. Al ejercicio de sus sistemas políticos, jurídicos y económicos acorde a su cosmovisión. 15. A ser consultados mediante procedimientos apropiados, y en particular a través de sus instituciones, cada vez que se prevean medidas legislativas o administrativas susceptibles de afectarles. En este marco, se respetará y garantizará el derecho a la consulta previa obligatoria, realizada por el Estado, de buena fe y concertada, respecto a la explotación de los recursos naturales no renovables en el territorio que habitan. 16. A la participación en los beneficios de la explotación de los recursos naturales en sus territorios. 17. A la gestión territorial indígena autónoma, y al uso y aprovechamiento exclusivo de los recursos naturales renovables existentes en su territorio sin perjuicio de los derechos legítimamente adquiridos por terceros. 18. A la participación en los órganos e instituciones del Estado. III. El Estado garantiza, respeta y protege los derechos de las naciones y pueblos indígena originario campesinos consagrados en esta Constitución y la ley.')]\n"
     ]
    }
   ],
   "source": [
    "print(response_first['source_documents'])"
   ]
  },
  {
   "cell_type": "code",
   "execution_count": 158,
   "id": "99ba768d",
   "metadata": {},
   "outputs": [
    {
     "name": "stdout",
     "output_type": "stream",
     "text": [
      " Respuesta en español:\n",
      "\n",
      "Según el contexto anterior, con un registro histórico vacío, te proveeré información sobre la Constitución de Bolivia y sus disposiciones relacionadas con los pueblos indígenas.\n",
      "\n",
      "La Constitución actual de Bolivia, adoptada en 2009, reconoce y respeta los derechos colectivos de los pueblos indígenas. Acknowledges their cultural diversity, their ancestral territories, and their right to autonomy and self-governance (Article 15). Además, garantiza la protección y promoción de sus idiomas, costumbres, tradiciones y espiritualidad (Artículo 6).\n",
      "\n",
      "La Constitución también establece medidas de acción afirmativa para abordar las desigualdades históricas que han enfrentado los pueblos indígenas. Esto incluye disposiciones relacionadas con la educación, el cuidado de salud y el desarrollo económico. Además, establece una Asamblea Consultiva Indígena Nacional como mecanismo de su participación en los procesos tomados todecía decisiones políticas (Artículo 16).\n",
      "\n",
      "Por lo tanto, la Constitución de Bolivia reconoce y protege los derechos de los pueblos indígenas, otorgándoles medidas especiales para abordar las desigualdades históricas y asegurando su participación activa en la vida política.\n",
      "\n",
      "Idioma: Spanish.\n"
     ]
    }
   ],
   "source": [
    "print(response_first['answer'])"
   ]
  },
  {
   "cell_type": "code",
   "execution_count": 159,
   "id": "f28842ae",
   "metadata": {},
   "outputs": [],
   "source": [
    "response = custom_chain.invoke(\"Estas seguro que esos artículos hablan de esos temas?\")"
   ]
  },
  {
   "cell_type": "code",
   "execution_count": 160,
   "id": "6548787c",
   "metadata": {},
   "outputs": [
    {
     "name": "stdout",
     "output_type": "stream",
     "text": [
      " Respuesta en español: \n",
      "\n",
      "Sí, según el contexto proporcionado anteriormente, puedo confirmar que los Artículos 15 y 16 de la Constitución Boliviana abordan temas relacionados con derechos indígenas, diversidad cultural, territorios ancestrales, autonomía y autogobierno, protección de idiomas, costumbres, tradiciones, espiritualidad, acciones afirmativas, educación, atención sanitaria, desarrollo económico y su participación en decisiones políticas.\n",
      "\n",
      "Idioma original: English.\n",
      "\n",
      "English response: \n",
      "\n",
      "Answer in English:\n",
      "\n",
      "Yes, based on the provided context earlier, Articles 15 and 16 of the Bolivian Constitution do cover topics related to indigenous peoples' rights, cultural diversity, ancestral territories, autonomy and self-governance, language protection, customs, traditions, spirituality, affirmative actions, education, health care, economic development, and their participation in political decisions.\n"
     ]
    }
   ],
   "source": [
    "print(response[\"answer\"])"
   ]
  }
 ],
 "metadata": {
  "kernelspec": {
   "display_name": "Python 3",
   "language": "python",
   "name": "python3"
  },
  "language_info": {
   "codemirror_mode": {
    "name": "ipython",
    "version": 3
   },
   "file_extension": ".py",
   "mimetype": "text/x-python",
   "name": "python",
   "nbconvert_exporter": "python",
   "pygments_lexer": "ipython3",
   "version": "3.13.4"
  }
 },
 "nbformat": 4,
 "nbformat_minor": 5
}
