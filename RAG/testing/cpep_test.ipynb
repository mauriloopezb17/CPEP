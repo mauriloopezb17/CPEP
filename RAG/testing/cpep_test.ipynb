{
 "cells": [
  {
   "cell_type": "code",
   "execution_count": 1,
   "id": "03ef1205",
   "metadata": {},
   "outputs": [],
   "source": [
    "import warnings\n",
    "warnings.filterwarnings(\"ignore\", category=FutureWarning)\n",
    "\n",
    "import os, tempfile, glob, random, json\n",
    "from pathlib import Path\n",
    "from IPython.display import Markdown\n",
    "from PIL import Image\n",
    "from getpass import getpass\n",
    "import numpy as np\n",
    "from itertools import combinations\n",
    "import tiktoken\n",
    "from uuid import uuid4\n",
    "# Embedding model\n",
    "from FlagEmbedding import BGEM3FlagModel\n",
    "\n",
    "# LLM: openai and google_genai\n",
    "import openai\n",
    "from langchain_openai import OpenAI, OpenAIEmbeddings, ChatOpenAI\n",
    "from langchain_google_genai import ChatGoogleGenerativeAI\n",
    "from langchain_google_genai import GoogleGenerativeAIEmbeddings\n",
    "\n",
    "# LLM: HuggingFace\n",
    "from langchain_community.embeddings import HuggingFaceInferenceAPIEmbeddings\n",
    "from langchain_community.llms import HuggingFaceHub\n",
    "\n",
    "# LLM: Ollama\n",
    "from langchain_ollama import ChatOllama\n",
    "\n",
    "# langchain prompts, memory, chains...\n",
    "from langchain_core.prompts import PromptTemplate, ChatPromptTemplate\n",
    "from langchain_core.runnables import RunnableSequence\n",
    "from langchain_community.chat_message_histories import StreamlitChatMessageHistory\n",
    "from operator import itemgetter\n",
    "from langchain_core.runnables import RunnablePassthrough\n",
    "from langchain_core.runnables import RunnableLambda, RunnableParallel, RunnablePassthrough\n",
    "from langchain_core.documents import Document\n",
    "from langchain_core.prompts.base import format_document\n",
    "from langchain_core.messages import AIMessage, HumanMessage, get_buffer_string\n",
    "from langchain_core.messages import ChatMessage, HumanMessage\n",
    "from langchain.embeddings.base import Embeddings\n",
    "\n",
    "# Document loaders\n",
    "from langchain_community.document_loaders import (\n",
    "    PyPDFLoader,\n",
    "    TextLoader,\n",
    "    DirectoryLoader,\n",
    "    CSVLoader,\n",
    "    UnstructuredExcelLoader,\n",
    "    Docx2txtLoader,\n",
    "    JSONLoader\n",
    ")\n",
    "\n",
    "# Text Splitter\n",
    "from langchain_text_splitters import RecursiveCharacterTextSplitter, CharacterTextSplitter\n",
    "\n",
    "# OutputParser\n",
    "from langchain_core.output_parsers import StrOutputParser\n",
    "\n",
    "# Chroma: vectorstore\n",
    "from langchain_community.vectorstores import Chroma\n",
    "\n",
    "# Contextual Compression\n",
    "\n",
    "#from langchain.retrievers import DocumentCompressorPipeline\n",
    "\n",
    "from langchain_text_splitters import CharacterTextSplitter\n",
    "from langchain_community.document_transformers import EmbeddingsRedundantFilter,LongContextReorder\n",
    "\n",
    "#from langchain.retrievers import EmbeddingsFilter\n",
    "#from langchain.retrievers import ContextualCompressionRetriever\n",
    "\n",
    "# Cohere\n",
    "from langchain_community.llms import Cohere"
   ]
  },
  {
   "cell_type": "markdown",
   "id": "da8d0467",
   "metadata": {},
   "source": [
    "### Creamos la clase necesaria para poder trabajar con el modelo de embedding"
   ]
  },
  {
   "cell_type": "code",
   "execution_count": 2,
   "id": "903bb21a",
   "metadata": {},
   "outputs": [],
   "source": [
    "class BGEM3Langchain(Embeddings):\n",
    "    def __init__(self, model):\n",
    "        self.model = model\n",
    "\n",
    "    def embed_documents(self, texts):\n",
    "        results = self.model.encode(texts, return_dense=True, return_sparse=False, return_colbert_vecs=False)\n",
    "        # Solamente devolvemos el embedding por densidad, ya que, estos son los que funcionan en chromadb\n",
    "        return results[\"dense_vecs\"].tolist()\n",
    "\n",
    "    def embed_query(self, text):\n",
    "        result = self.model.encode([text], return_dense=True, return_sparse=False, return_colbert_vecs=False)\n",
    "        return result[\"dense_vecs\"][0].tolist()"
   ]
  },
  {
   "cell_type": "markdown",
   "id": "7127798d",
   "metadata": {},
   "source": [
    "### Cargamos el JSON CPEP"
   ]
  },
  {
   "cell_type": "code",
   "execution_count": 3,
   "id": "c632510a",
   "metadata": {},
   "outputs": [],
   "source": [
    "with open(\"../resources/cpe.json\", \"r\", encoding=\"utf-8\") as f:\n",
    "    data = json.load(f)\n",
    "\n",
    "docs = []"
   ]
  },
  {
   "cell_type": "code",
   "execution_count": 4,
   "id": "ac074496",
   "metadata": {},
   "outputs": [
    {
     "name": "stdout",
     "output_type": "stream",
     "text": [
      "Se cargaron 426 documentos desde el JSON.\n"
     ]
    }
   ],
   "source": [
    "for item in data:\n",
    "    tipo = item.get(\"tipo\", \"\").capitalize()\n",
    "\n",
    "    if tipo == \"Introduccion\":\n",
    "        text = f\"Título: {item.get('titulo', '')}\\n\" \\\n",
    "                f\"Subtítulo: {item.get('subtitulo', '')}\\n\\n\" \\\n",
    "                f\"{item.get('contenido', '')}\"\n",
    "\n",
    "    elif tipo == \"Articulo\":\n",
    "        text = (\n",
    "            f\"Parte {item.get('parte_num', '')}: {item.get('parte_nom', '')}\\n\"\n",
    "            f\"Título {item.get('titulo_num', '')}: {item.get('titulo_nom', '')}\\n\"\n",
    "            f\"Capítulo {item.get('capitulo_num', '')}: {item.get('capitulo_nom', '')}\\n\"\n",
    "            f\"Sección {item.get('seccion_num', '')}: {item.get('seccion_nom', '')}\\n\"\n",
    "            f\"Artículo {item.get('art_num', '')}: {item.get('nombre_juridico', '')}\\n\\n\"\n",
    "            f\"{item.get('contenido', '')}\"\n",
    "        )\n",
    "        \n",
    "    elif tipo == \"Disposición\":\n",
    "        text = (\n",
    "            f\"Disposición {item.get('disposicion', '')}\\n\"\n",
    "            f\"Nombre jurídico: {item.get('nombre_juridico', '')}\\n\\n\"\n",
    "            f\"{item.get('contenido', '')}\"\n",
    "        )\n",
    "\n",
    "    # Pongo este else, porque sino me sale error en page_content=text, porque es posible que text este vacio\n",
    "    else:\n",
    "        text = item.get(\"contenido\", \"\")\n",
    "\n",
    "    docs.append(Document(page_content=text, metadata={\"tipo\": tipo}))\n",
    "\n",
    "print(f\"Se cargaron {len(docs)} documentos desde el JSON.\")"
   ]
  },
  {
   "cell_type": "code",
   "execution_count": 5,
   "id": "2b810d35",
   "metadata": {},
   "outputs": [
    {
     "name": "stdout",
     "output_type": "stream",
     "text": [
      "test:  156\n",
      "page_content='Parte Segunda: Estructura y organización funcional del estado\n",
      "Título 1: Órgano legislativo\n",
      "Capítulo Primero: Composición y atribuciones de la asamblea legislativa plurinacional\n",
      "Sección None: None\n",
      "Artículo 155: Inauguración de Sesiones de la Asamblea Legislativa Plurinacional\n",
      "\n",
      "La Asamblea Legislativa Plurinacional inaugurará sus sesiones el 6 de Agosto en la Capital de Bolivia, salvo convocatoria expresa de su Presidenta o Presidente.' metadata={'tipo': 'Articulo'}\n"
     ]
    }
   ],
   "source": [
    "import random\n",
    "random_document_id = random.choice(range(len(docs)))\n",
    "\n",
    "print(\"test: \", random_document_id)\n",
    "print(docs[random_document_id])"
   ]
  },
  {
   "cell_type": "code",
   "execution_count": 6,
   "id": "023778dc",
   "metadata": {},
   "outputs": [
    {
     "data": {
      "application/vnd.jupyter.widget-view+json": {
       "model_id": "bda9aaa1ba24494e9f9374800357fb43",
       "version_major": 2,
       "version_minor": 0
      },
      "text/plain": [
       "Fetching 30 files:   0%|          | 0/30 [00:00<?, ?it/s]"
      ]
     },
     "metadata": {},
     "output_type": "display_data"
    }
   ],
   "source": [
    "# Embedding Model\n",
    "model_embedding = BGEM3FlagModel('BAAI/bge-m3',  use_fp16=True)\n",
    "embedding_adapter = BGEM3Langchain(model_embedding)"
   ]
  },
  {
   "cell_type": "code",
   "execution_count": 7,
   "id": "817d7bc8",
   "metadata": {},
   "outputs": [],
   "source": [
    "LOCAL_VECTOR_STORE_DIR = Path(\"./data\").resolve().parent.joinpath(\"data\", \"vector_stores\")"
   ]
  },
  {
   "cell_type": "code",
   "execution_count": 8,
   "id": "aa5816c8",
   "metadata": {},
   "outputs": [],
   "source": [
    "def create_vectorstore(collection_name, model_embedding, vectorstore_name):\n",
    "    persist_directory = (\"./\" + vectorstore_name)\n",
    "    vector_store = Chroma(\n",
    "        collection_name = collection_name,\n",
    "        embedding_function=model_embedding,\n",
    "        persist_directory = persist_directory\n",
    "    )\n",
    "    return vector_store, vectorstore_name"
   ]
  },
  {
   "cell_type": "code",
   "execution_count": 16,
   "id": "34f62af6",
   "metadata": {},
   "outputs": [
    {
     "name": "stderr",
     "output_type": "stream",
     "text": [
      "C:\\Users\\mauri\\AppData\\Local\\Temp\\ipykernel_19172\\739684382.py:3: LangChainDeprecationWarning: The class `Chroma` was deprecated in LangChain 0.2.9 and will be removed in 1.0. An updated version of the class exists in the `langchain-chroma package and should be used instead. To use it run `pip install -U `langchain-chroma` and import as `from `langchain_chroma import Chroma``.\n",
      "  vector_store = Chroma(\n"
     ]
    },
    {
     "name": "stdout",
     "output_type": "stream",
     "text": [
      "vector_store_bgem3: 0 documentos.\n"
     ]
    }
   ],
   "source": [
    "create_new_vectorstore = True # Cambiar a true si queremos volver a crear la bd vectorial\n",
    "if create_new_vectorstore:\n",
    "    vector_store_bgem3,_ = create_vectorstore(\n",
    "        collection_name = \"cpep_bgem3\",\n",
    "        model_embedding = embedding_adapter,\n",
    "        vectorstore_name= \"vectordb/cpep_bgem3\"\n",
    "    )\n",
    "    print(\"vector_store_bgem3:\",vector_store_bgem3._collection.count(),\"documentos.\")"
   ]
  },
  {
   "cell_type": "code",
   "execution_count": 10,
   "id": "e08c82de",
   "metadata": {},
   "outputs": [
    {
     "ename": "NameError",
     "evalue": "name 'vector_store_bgem3' is not defined",
     "output_type": "error",
     "traceback": [
      "\u001b[31m---------------------------------------------------------------------------\u001b[39m",
      "\u001b[31mNameError\u001b[39m                                 Traceback (most recent call last)",
      "\u001b[36mCell\u001b[39m\u001b[36m \u001b[39m\u001b[32mIn[10]\u001b[39m\u001b[32m, line 4\u001b[39m\n\u001b[32m      1\u001b[39m \u001b[38;5;66;03m# Ids aleatorios evita colisiones, pero no tiene significado semantico\u001b[39;00m\n\u001b[32m      2\u001b[39m uuids = [\u001b[38;5;28mstr\u001b[39m(uuid4()) \u001b[38;5;28;01mfor\u001b[39;00m _ \u001b[38;5;129;01min\u001b[39;00m \u001b[38;5;28mrange\u001b[39m(\u001b[38;5;28mlen\u001b[39m(docs))]\n\u001b[32m----> \u001b[39m\u001b[32m4\u001b[39m \u001b[43mvector_store_bgem3\u001b[49m.add_documents(documents=docs, ids=uuids)\n\u001b[32m      5\u001b[39m \u001b[38;5;28mprint\u001b[39m(\u001b[33m\"\u001b[39m\u001b[33mvector_store_bgem3:\u001b[39m\u001b[33m\"\u001b[39m,vector_store_bgem3._collection.count(),\u001b[33m\"\u001b[39m\u001b[33mdocumentos.\u001b[39m\u001b[33m\"\u001b[39m)\n",
      "\u001b[31mNameError\u001b[39m: name 'vector_store_bgem3' is not defined"
     ]
    }
   ],
   "source": [
    "# Ids aleatorios evita colisiones, pero no tiene significado semantico\n",
    "uuids = [str(uuid4()) for _ in range(len(docs))]\n",
    "\n",
    "vector_store_bgem3.add_documents(documents=docs, ids=uuids)\n",
    "print(\"vector_store_bgem3:\",vector_store_bgem3._collection.count(),\"documentos.\")"
   ]
  },
  {
   "cell_type": "code",
   "execution_count": 11,
   "id": "d1137654",
   "metadata": {},
   "outputs": [],
   "source": [
    "ids = []\n",
    "metas = []\n",
    "cont = 0\n",
    "\n",
    "for i in range(len(docs)):\n",
    "    if (i<2):\n",
    "        ids.append(f\"introduccion_{i+1}\")\n",
    "        metas.append({\"tipo\": \"introduccion\", \"número\": i+1})\n",
    "    elif(i<399):\n",
    "        ids.append(f\"artículo_{i-1}\")\n",
    "        metas.append({\"tipo\": \"artículo\", \"número\": i-1})\n",
    "    elif(i==399):\n",
    "        ids.append(f\"disposición_398_A\")\n",
    "        metas.append({\"tipo\": \"disposicion\", \"número\": \"398_A\"})\n",
    "    elif(i==400):\n",
    "        ids.append(f\"disposición_398_B\")\n",
    "        metas.append({\"tipo\": \"disposicion\", \"número\": \"398_B\"})\n",
    "    elif(i<414):\n",
    "        ids.append(f\"artículo_{i-2}\")\n",
    "        metas.append({\"tipo\": \"artículo\", \"número\": i-2})\n",
    "    else:\n",
    "        cont += 1\n",
    "        ids.append(f\"disposición_{cont}\")\n",
    "        metas.append({\"tipo\": \"disposicion\", \"número\": cont})\n",
    "\n",
    "assert len(docs) == len(ids) == len(metas)"
   ]
  },
  {
   "cell_type": "code",
   "execution_count": 17,
   "id": "4e4beb6d",
   "metadata": {},
   "outputs": [
    {
     "name": "stderr",
     "output_type": "stream",
     "text": [
      "pre tokenize: 100%|██████████| 2/2 [00:00<00:00, 27.44it/s]\n",
      "You're using a XLMRobertaTokenizerFast tokenizer. Please note that with a fast tokenizer, using the `__call__` method is faster than using a method to encode the text followed by a call to the `pad` method to get a padded encoding.\n",
      "Inference Embeddings: 100%|██████████| 2/2 [00:03<00:00,  1.56s/it]\n"
     ]
    },
    {
     "name": "stdout",
     "output_type": "stream",
     "text": [
      "vector_store_bgem3: 426 documentos.\n"
     ]
    }
   ],
   "source": [
    "vector_store_bgem3.add_documents(documents=docs, ids=ids)\n",
    "print(\"vector_store_bgem3:\",vector_store_bgem3._collection.count(),\"documentos.\")"
   ]
  },
  {
   "cell_type": "code",
   "execution_count": 18,
   "id": "1b26d399",
   "metadata": {},
   "outputs": [
    {
     "name": "stdout",
     "output_type": "stream",
     "text": [
      "426\n",
      "{'ids': ['introduccion_1', 'introduccion_2', 'artículo_1', 'artículo_2', 'artículo_3', 'artículo_4', 'artículo_5', 'artículo_6', 'artículo_7', 'artículo_8'], 'embeddings': array([[ 0.04119873,  0.03131104, -0.01198578, ...,  0.01422882,\n",
      "        -0.00476074, -0.02758789],\n",
      "       [ 0.037323  ,  0.00144005, -0.04879761, ...,  0.00862885,\n",
      "         0.00226021, -0.008255  ],\n",
      "       [ 0.05194092, -0.00133228, -0.01771545, ...,  0.00419235,\n",
      "         0.00993347, -0.03488159],\n",
      "       ...,\n",
      "       [ 0.05209351,  0.03167725, -0.04049683, ...,  0.00888824,\n",
      "         0.04806519, -0.01847839],\n",
      "       [ 0.03866577,  0.02000427, -0.02864075, ...,  0.01675415,\n",
      "        -0.01379395, -0.02059937],\n",
      "       [ 0.01986694, -0.00522232,  0.01384735, ...,  0.00788879,\n",
      "         0.02572632, -0.037323  ]], shape=(10, 1024)), 'documents': ['Título: Antecedentes Legales\\nSubtítulo: None\\n\\nLa Constitución Política del Estado, promulgada el 7 de febrero de 2009, consta de 5 Partes: I. BASES FUNDAMENTALES DEL ESTADO II. DERECHOS, DEBERES Y GARANTÍAS III. ESTRUCTURA Y ORGANIZACIÓN FUNCIONAL DEL ESTADO IV. ESTRUCTURA Y ORGANIZACIÓN TERRITORIAL DEL ESTADO V. JERARQUÍA NORMATIVA Y REFORMA DE LA CONSTITUCIÓN El anteproyecto de la Constitución vigente, fue elaborado por la Asamblea Constituyente 2006 – 2007, revisada y sancionada por el Congreso de la República en octubre de 2008. Aprobada mediante Referéndum Constitucional el 25 de enero de 2009 y promulgada el 7 de febrero de 2009, en un acto público en la ciudad de El Alto, del Departamento de La Paz. La Constitución vigente, sustituye a la Constitución Política del Estado sancionada por la Asamblea Constituyente 1966 – 1967 y promulgada el 2 de febrero de 1967. La cual tuvo una vigencia de más de 40 años, desde 1967 a 2009, y reformada en dos ocasiones según las siguientes normas: • Ley de Necesidad de Reforma de la Constitución Política del Estado: Ley Nº 1473 de 1 de abril de 1993; • Ley de Reforma a la Constitución Política del Estado: Ley Nº 1585 de 12 de agosto de 1994; • Ley de Adecuaciones y Concordancias de la Constitución Política del Estado (texto completo): Ley Nº 1615 de 6 de febrero de 1995;• Ley de Necesidad de Reforma de la Constitución Política del Estado: Ley Nº 2410 de 1ro de agosto de 2002; • Ley de Reforma a la Constitución Política del Estrado: Ley Nº 2631 de 20 de febrero de 2004; • Ley de Incorporación al Texto de la Constitución Política del Estado (texto completo) Ley Nº 2650 de 13 de abril de 2004; • Ley de Reforma a la Constitución Política del Estado: Ley Nº 3089 de 6 de julio de 2005; • Ley Interpretativa del Artículo 109 de la Constitución Política del Estado: Ley Nº 3090 de 6 de julio de 2005.', 'Título: Constitución Política del Estado\\nSubtítulo: Preámbulo\\n\\nEn tiempos inmemoriales se erigieron montañas, se desplazaron ríos, se formaron lagos. Nuestra amazonia, nuestro chaco, nuestro altiplano y nuestros llanos y valles se cubrieron de verdores y flores. Poblamos esta sagrada Madre Tierra con rostros diferentes, y comprendimos desde entonces la pluralidad vigente de todas las cosas y nuestra diversidad como seres y culturas. Así conformamos nuestros pueblos, y jamás comprendimos el racismo hasta que lo sufrimos desde los funestos tiempos de la colonia. El pueblo boliviano, de composición plural, desde la profundidad de la historia, inspirado en las luchas del pasado, en la sublevación indígena anticolonial, en la independencia, en las luchas populares de liberación, en las marchas indígenas, sociales y sindicales, en las guerras del agua y de octubre, en las luchas por la tierra y territorio, y con la memoria de nuestros mártires, construimos un nuevo Estado. Un Estado basado en el respeto e igualdad entre todos, con principios de soberanía, dignidad, complementariedad, solidaridad, armonía y equidad en la distribución y redistribución del producto social, donde predomine la búsqueda del vivir bien; con respeto a la pluralidad económica, social, jurídica, política y cultural de los habitantes de esta tierra; en convivencia colectiva con acceso al agua, trabajo, educación, salud y vivienda para todos. Dejamos en el pasado el Estado colonial, republicano y neoliberal. Asumimos el reto histórico de construir colectivamente el Estado Unitario Social de Derecho Plurinacional Comunitario, que integra y articula los propósitos de avanzar hacia una Bolivia democrática, productiva, portadora e inspiradora de la paz, comprometida con el desarrollo integral y con la libre determinación de los pueblos. Nosotros, mujeres y hombres, a través de la Asamblea Constituyente y con el poder originario del pueblo, manifestamos nuestro compromiso con la unidad e integridad del país. Cumpliendo el mandato de nuestros pueblos, con la fortaleza de nuestra Pachamama y gracias a Dios, refundamos Bolivia. Honor y gloria a los mártires de la gesta constituyente y liberadora, que han hecho posible esta nueva historia.', 'Parte Primera: Bases fundamentales del estado derechos, deberes y garantías\\nTítulo 1: Bases fundamentales del estado\\nCapítulo Primero: Modelo de Estado\\nSección None: None\\nArtículo 1: Modelol de Estado\\n\\nBolivia se constituye en un Estado Unitario Social de Derecho Plurinacional Comunitario, libre, independiente, soberano, democrático, intercultural, descentralizado y con autonomías. Bolivia se funda en la pluralidad y el pluralismo político, económico, jurídico, cultural y lingüístico, dentro del proceso integrador del país.', 'Parte Primera: Bases fundamentales del estado derechos, deberes y garantías\\nTítulo 1: Bases fundamentales del estado\\nCapítulo Primero: Modelo de Estado\\nSección None: None\\nArtículo 2: Autodeterminación de Naciones y Pueblos Indígenas Originario Campesinas\\n\\nDada la existencia precolonial de las naciones y pueblos indígena originario campesinos y su dominio ancestral sobre sus territorios, se garantiza su libre determinación en el marco de la unidad del Estado, que consiste en su derecho a la autonomía, al autogobierno, a su cultura, al reconocimiento de sus instituciones y a la consolidación de sus entidades territoriales, conforme a esta Constitución y la ley.', 'Parte Primera: Bases fundamentales del estado derechos, deberes y garantías\\nTítulo 1: Bases fundamentales del estado\\nCapítulo Primero: Modelo de Estado\\nSección None: None\\nArtículo 3: Conformación de la Nación Boliviana\\n\\nLa nación boliviana está conformada por la totalidad de las bolivianas y los bolivianos, las naciones y pueblos indígena originario campesinos, y las comunidades interculturales y afrobolivianas que en conjunto constituyen el pueblo boliviano.', 'Parte Primera: Bases fundamentales del estado derechos, deberes y garantías\\nTítulo 1: Bases fundamentales del estado\\nCapítulo Primero: Modelo de Estado\\nSección None: None\\nArtículo 4: Religión y Cultos\\n\\nEl Estado respeta y garantiza la libertad de religión y de creencias espirituales, de acuerdo con sus cosmovisiones. El Estado es independiente de la religión.', 'Parte Primera: Bases fundamentales del estado derechos, deberes y garantías\\nTítulo 1: Bases fundamentales del estado\\nCapítulo Primero: Modelo de Estado\\nSección None: None\\nArtículo 5: Idiomas Oficiales\\n\\nI. Son idiomas oficiales del Estado el castellano y todos los idiomas de las naciones y pueblos indígena originario campesinos, que son el aymara, araona, baure, bésiro, canichana, cavineño, cayubaba, chácobo, chimán, ese ejja, guaraní, guarasu’we, guarayu, itonama, leco, machajuyai-kallawaya, machineri, maropa, mojeño-trinitario, mojeño-ignaciano, moré, mosetén, movima, pacawara, puquina, quechua, sirionó, tacana, tapiete, toromona, uru-chipaya, weenhayek, yaminawa, yuki, yuracaré y zamuco. II. El Gobierno plurinacional y los gobiernos departamentales deben utilizar al menos dos idiomas oficiales. Uno de ellos debe ser el castellano, y el otro se decidirá tomando en cuenta el uso, la conveniencia, las circunstancias, las necesidades y preferencias de la población en su totalidad o del territorio en cuestión. Los demás gobiernos autónomos deben utilizar los idiomas propios de su territorio, y uno de ellos debe ser el castellano.', 'Parte Primera: Bases fundamentales del estado derechos, deberes y garantías\\nTítulo 1: Bases fundamentales del estado\\nCapítulo Primero: Modelo de Estado\\nSección None: None\\nArtículo 6: Capital y Símbolosa Patrios\\n\\nI. Sucre es la Capital de Bolivia. II. Los símbolos del Estado son la bandera tricolor rojo, amarillo y verde; el himno boliviano; el escudo de armas; la wiphala; la escarapela; la flor de la kantuta y la flor del patujú.', 'Parte Primera: Bases fundamentales del estado derechos, deberes y garantías\\nTítulo 1: Bases fundamentales del estado\\nCapítulo Segundo: Principios, Valores y Fines del Estado\\nSección None: None\\nArtículo 7: Soberanía del Pueblo\\n\\nLa soberanía reside en el pueblo boliviano, se ejerce de forma directa y delegada. De ella emanan, por delegación, las funciones y atribuciones de los órganos del poder público; es inalienable e imprescriptible.', 'Parte Primera: Bases fundamentales del estado derechos, deberes y garantías\\nTítulo 1: Bases fundamentales del estado\\nCapítulo Segundo: Principios, Valores y Fines del Estado\\nSección None: None\\nArtículo 8: Principios Ético-morales y Valores del Estado\\n\\nI. El Estado asume y promueve como principios ético-morales de la sociedad plural: ama qhilla, ama llulla, ama suwa (no seas flojo, no seas mentiroso ni seas ladrón), suma qamaña (vivir bien), ñandereko (vida armoniosa), teko kavi (vida buena), ivi maraei (tierra sin mal) y qhapaj ñan (camino o vida noble). II. El Estado se sustenta en los valores de unidad, igualdad, inclusión, dignidad, libertad, solidaridad, reciprocidad, respeto, complementariedad, armonía, transparencia, equilibrio, igualdad de oportunidades, equidad social y de género en la participación, bienestar común, responsabilidad, justicia social, distribución y redistribución de los productos y bienes sociales, para vivir bien.'], 'uris': None, 'included': ['metadatas', 'documents', 'embeddings'], 'data': None, 'metadatas': [{'tipo': 'Introduccion'}, {'tipo': 'Introduccion'}, {'tipo': 'Articulo'}, {'tipo': 'Articulo'}, {'tipo': 'Articulo'}, {'tipo': 'Articulo'}, {'tipo': 'Articulo'}, {'tipo': 'Articulo'}, {'tipo': 'Articulo'}, {'tipo': 'Articulo'}]}\n"
     ]
    }
   ],
   "source": [
    "print(vector_store_bgem3._collection.count())\n",
    "print(vector_store_bgem3._collection.peek())"
   ]
  },
  {
   "cell_type": "markdown",
   "id": "c4ead0fa",
   "metadata": {},
   "source": [
    "### Similarity Search"
   ]
  },
  {
   "cell_type": "code",
   "execution_count": 19,
   "id": "7bae1b66",
   "metadata": {},
   "outputs": [],
   "source": [
    "def print_documents(docs,search_with_score=False):\n",
    "    if search_with_score:\n",
    "        print(\n",
    "            f\"\\n{'-' * 100}\\n\".join(\n",
    "                [f\"Document {i+1}:\\n\\n\" + doc[0].page_content +\"\\n\\nscore:\"+str(round(doc[-1],3))+\"\\n\" \n",
    "                for i, doc in enumerate(docs)]\n",
    "            )\n",
    "        )\n",
    "    else:\n",
    "        # used for similarity_search or max_marginal_relevance_search\n",
    "        print(\n",
    "            f\"\\n{'-' * 100}\\n\".join(\n",
    "                [f\"Document {i+1}:\\n\\n\" + doc.page_content \n",
    "                for i, doc in enumerate(docs)]\n",
    "            )\n",
    "        )  "
   ]
  },
  {
   "cell_type": "code",
   "execution_count": 20,
   "id": "c24487ba",
   "metadata": {},
   "outputs": [
    {
     "name": "stdout",
     "output_type": "stream",
     "text": [
      "Document 1:\n",
      "\n",
      "Parte Primera: Bases fundamentales del estado derechos, deberes y garantías\n",
      "Título 1: Bases fundamentales del estado\n",
      "Capítulo Primero: Modelo de Estado\n",
      "Sección None: None\n",
      "Artículo 1: Modelol de Estado\n",
      "\n",
      "Bolivia se constituye en un Estado Unitario Social de Derecho Plurinacional Comunitario, libre, independiente, soberano, democrático, intercultural, descentralizado y con autonomías. Bolivia se funda en la pluralidad y el pluralismo político, económico, jurídico, cultural y lingüístico, dentro del proceso integrador del país.\n",
      "\n",
      "score:0.77\n",
      "\n",
      "----------------------------------------------------------------------------------------------------\n",
      "Document 2:\n",
      "\n",
      "Parte Primera: Bases fundamentales del estado derechos, deberes y garantías\n",
      "Título 1: Bases fundamentales del estado\n",
      "Capítulo Segundo: Principios, Valores y Fines del Estado\n",
      "Sección None: None\n",
      "Artículo 10: Carácter Pacifista del Estado\n",
      "\n",
      "I. Bolivia es un Estado pacifista, que promueve la cultura de la paz y el derecho a la paz, así como la cooperación entre los pueblos de la región y del mundo, a fin de contribuir al conocimiento mutuo, al desarrollo equitativo y a la promoción de la interculturalidad, con pleno respeto a la soberanía de los estados. II. Bolivia rechaza toda guerra de agresión como instrumento de solución a los diferendos y conflictos entre estados y se reserva el derecho a la legítima defensa en caso de agresión que comprometa la independencia y la integridad del Estado. III. Se prohíbe la instalación de bases militares extranjeras en territorio boliviano.\n",
      "\n",
      "score:0.801\n",
      "\n",
      "----------------------------------------------------------------------------------------------------\n",
      "Document 3:\n",
      "\n",
      "Parte Primera: Bases fundamentales del estado derechos, deberes y garantías\n",
      "Título 1: Bases fundamentales del estado\n",
      "Capítulo Tercero: Sistema de Gobierno\n",
      "Sección None: None\n",
      "Artículo 11: Forma de Gobierno\n",
      "\n",
      "I. La República de Bolivia adopta para su gobierno la forma democrática participativa, representativa y comunitaria, con equivalencia de condiciones entre hombres y mujeres. II. La democracia se ejerce de las siguientes formas, que serán desarrolladas por la ley: 1. Directa y participativa, por medio del referendo, la iniciativa legislativa ciudadana, la revocatoria de mandato, la asamblea, el cabildo y la consulta previa.. Las asambleas y cabildos tendrán carácter deliberativo conforme a Ley. 2. Representativa, por medio de la elección de representantes por voto universal, directo y secreto, conforme a Ley. 3. Comunitaria, por medio de la elección, designación o nominación de autoridades y representantes por normas y procedimientos propios de las naciones y pueblos indígena originario campesinos, entre otros, conforme a Ley.\n",
      "\n",
      "score:0.835\n",
      "\n",
      "----------------------------------------------------------------------------------------------------\n",
      "Document 4:\n",
      "\n",
      "Parte Primera: Bases fundamentales del estado derechos, deberes y garantías\n",
      "Título 1: Bases fundamentales del estado\n",
      "Capítulo Primero: Modelo de Estado\n",
      "Sección None: None\n",
      "Artículo 3: Conformación de la Nación Boliviana\n",
      "\n",
      "La nación boliviana está conformada por la totalidad de las bolivianas y los bolivianos, las naciones y pueblos indígena originario campesinos, y las comunidades interculturales y afrobolivianas que en conjunto constituyen el pueblo boliviano.\n",
      "\n",
      "score:0.841\n",
      "\n",
      "----------------------------------------------------------------------------------------------------\n",
      "Document 5:\n",
      "\n",
      "Parte Tercera: Estructura y organización territorial del estado\n",
      "Título 1: Organización territorial del estado\n",
      "Capítulo Primero: Disposiciones generales\n",
      "Sección None: None\n",
      "Artículo 269: Organización Territorial del Estado y Delimitación de Unidades Territoriales\n",
      "\n",
      "I. Bolivia se organiza territorialmente en departamentos, provincias, municipios y territorios indígena originario campesinos. II. La creación, modificación y delimitación de las unidades territoriales se hará por voluntad democrática de sus habitantes, de acuerdo a las condiciones establecidas en la Constitución y la ley. III. Las regiones formarán parte de la organización territorial, en los términos y las condiciones que determinen la ley.\n",
      "\n",
      "score:0.845\n",
      "\n"
     ]
    }
   ],
   "source": [
    "query = '¿Qué dice el artículo 1 de la constitución política del estado Boliviano?'\n",
    "docs_withScores = vector_store_bgem3.similarity_search_with_score(query,k=5)\n",
    "\n",
    "print_documents(docs_withScores,search_with_score=True)"
   ]
  },
  {
   "cell_type": "code",
   "execution_count": 21,
   "id": "8583b578",
   "metadata": {},
   "outputs": [
    {
     "name": "stdout",
     "output_type": "stream",
     "text": [
      "Similarty of document_0 to the query: 0.6149\n",
      "Similarty of document_1 to the query: 0.5992\n",
      "Similarty of document_2 to the query: 0.5826\n",
      "Similarty of document_3 to the query: 0.5797\n",
      "Similarty of document_4 to the query: 0.5777\n"
     ]
    }
   ],
   "source": [
    "query_embeddings = embedding_adapter.embed_query(query)\n",
    "docs_embeddings = embedding_adapter.embed_documents(\n",
    "    [docs_withScores[i][0].page_content \n",
    "    for i in range(len(docs_withScores))\n",
    "    ]\n",
    ")\n",
    "\n",
    "for i in range(len(docs_embeddings)):\n",
    "    dot_product = round(np.dot(query_embeddings, docs_embeddings[i]),4)\n",
    "    print(f\"Similarty of document_{i} to the query: {dot_product}\")"
   ]
  },
  {
   "cell_type": "markdown",
   "id": "851613c0",
   "metadata": {},
   "source": [
    "### Maximum marginal relevance search (MMR) search"
   ]
  },
  {
   "cell_type": "code",
   "execution_count": 22,
   "id": "ffd4a138",
   "metadata": {},
   "outputs": [
    {
     "name": "stdout",
     "output_type": "stream",
     "text": [
      "Document 1:\n",
      "\n",
      "Parte Primera: Bases fundamentales del estado derechos, deberes y garantías\n",
      "Título 1: Bases fundamentales del estado\n",
      "Capítulo Primero: Modelo de Estado\n",
      "Sección None: None\n",
      "Artículo 1: Modelol de Estado\n",
      "\n",
      "Bolivia se constituye en un Estado Unitario Social de Derecho Plurinacional Comunitario, libre, independiente, soberano, democrático, intercultural, descentralizado y con autonomías. Bolivia se funda en la pluralidad y el pluralismo político, económico, jurídico, cultural y lingüístico, dentro del proceso integrador del país.\n",
      "----------------------------------------------------------------------------------------------------\n",
      "Document 2:\n",
      "\n",
      "Parte Segunda: Estructura y organización funcional del estado\n",
      "Título 7: Fuerzas Armadas y Policía Boliviana\n",
      "Capítulo Primero: Fuerzas Armadas\n",
      "Sección None: None\n",
      "Artículo 249: Servicio Militar Obligatorio\n",
      "\n",
      "Todo boliviano estará obligado a prestar servicio militar, de acuerdo con la ley.\n",
      "----------------------------------------------------------------------------------------------------\n",
      "Document 3:\n",
      "\n",
      "Parte Cuarta: Estructura y organización económica del Estado\n",
      "Título 2: Medio Ambiente, Recursos Naturales, Tierra y Territorio\n",
      "Capítulo Primero: Medio Ambiente\n",
      "Sección None: None\n",
      "Artículo 344: Prohibición a la Fabricación y Uso de Armas Químicas, Biológicas y Nucleares\n",
      "\n",
      ". Se prohíbe la fabricación y uso de armas químicas, biológicas y nucleares en el territorio boliviano, así como la internación, tránsito y depósito de residuos nucleares y desechos tóxicos. II. El Estado regulará la internación, producción, comercialización y empleo de técnicas, métodos, insumos y sustancias que afecten a la salud y al medio ambiente.\n",
      "----------------------------------------------------------------------------------------------------\n",
      "Document 4:\n",
      "\n",
      "Parte Cuarta: Estructura y organización económica del Estado\n",
      "Título 1: Organización económica del Estado\n",
      "Capítulo Tercero: Políticas económicas\n",
      "Sección None: None\n",
      "Artículo 320: Priorización de la Inversión Boliviana e Inversión Extranjera\n",
      "\n",
      "I. La inversión boliviana se priorizará frente a la inversión extranjera. II. Toda inversión extranjera estará sometida a la jurisdicción, a las leyes y a las autoridades bolivianas, y nadie podrá invocar situación de excepción, ni apelar a reclamaciones diplomáticas para obtener un tratamiento más favorable. III. Las relaciones económicas con estados o empresas extranjeras se realizarán en condiciones de independencia, respeto mutuo y equidad. No se podrá otorgar a Estados o empresas extranjeras condiciones más beneficiosas que las establecidas para los bolivianos. IV. El Estado es independiente en todas las decisiones de política económica interna, y no aceptará imposiciones ni condicionamientos sobre esta política por parte de estados, bancos o instituciones financieras bolivianas o extranjeras, entidades multilaterales ni empresas transnacionales. V. Las políticas públicas promocionarán el consumo interno de productos hechos en Bolivia.\n"
     ]
    }
   ],
   "source": [
    "query = '¿Qué dice el artículo 1 de la constitución política del estado Boliviano?'\n",
    "docs_MMR = vector_store_bgem3.max_marginal_relevance_search(query,k=4)\n",
    "\n",
    "print_documents(docs_MMR)"
   ]
  },
  {
   "cell_type": "markdown",
   "id": "17894c23",
   "metadata": {},
   "source": [
    "## Retrievers"
   ]
  },
  {
   "cell_type": "markdown",
   "id": "0925e1ec",
   "metadata": {},
   "source": [
    "### Vectorstore-backed retriever"
   ]
  },
  {
   "cell_type": "code",
   "execution_count": 23,
   "id": "dcbb73fe",
   "metadata": {},
   "outputs": [],
   "source": [
    "def Vectorstore_backed_retriever(vectorstore,search_type=\"similarity\",k=4,score_threshold=None):\n",
    "    \"\"\"create a vectorsore-backed retriever\n",
    "    Parameters: \n",
    "        search_type: Defines the type of search that the Retriever should perform.\n",
    "            Can be \"similarity\" (default), \"mmr\", or \"similarity_score_threshold\"\n",
    "        k: number of documents to return (Default: 4) \n",
    "        score_threshold: Minimum relevance threshold for similarity_score_threshold (default=None)\n",
    "    \"\"\"\n",
    "    search_kwargs={}\n",
    "    if k is not None:\n",
    "        search_kwargs['k'] = k\n",
    "    if score_threshold is not None:\n",
    "        search_kwargs['score_threshold'] = score_threshold\n",
    "\n",
    "    retriever = vectorstore.as_retriever(\n",
    "        search_type=search_type,\n",
    "        search_kwargs=search_kwargs\n",
    "    )\n",
    "    return retriever"
   ]
  },
  {
   "cell_type": "code",
   "execution_count": 24,
   "id": "33439a1a",
   "metadata": {},
   "outputs": [],
   "source": [
    "# similarity search\n",
    "base_retriever_bgem3 = Vectorstore_backed_retriever(vector_store_bgem3, \"similarity\", k=5)\n",
    "#base_retriever_OpenAI = Vectorstore_backed_retriever(vector_store_OpenAI,\"similarity\",k=10)\n",
    "#base_retriever_google = Vectorstore_backed_retriever(vector_store_google,\"similarity\",k=10)\n",
    "#base_retriever_HF = Vectorstore_backed_retriever(vector_store_HF,\"similarity\",k=10)\n",
    "\n",
    "# # MMMR seach\n",
    "# base_retriever_OpenAI = Vectorstore_backed_retriever(vector_store_OpenAI,\"mmr\",k=10)\n",
    "# base_retriever_google = Vectorstore_backed_retriever(vector_store_google,\"mmr\",k=10)\n",
    "# base_retriever_HF = Vectorstore_backed_retriever(vector_store_HF,\"mmr\",k=10)\n",
    "\n",
    "# # similarity_score_threshold search\n",
    "# base_retriever_OpenAI = Vectorstore_backed_retriever(vector_store_OpenAI,\"similarity_score_threshold\",score_threshold=0.5,k=10)\n",
    "# base_retriever_google = Vectorstore_backed_retriever(vector_store_google,\"similarity_score_threshold\",score_threshold=0.5,k=10)\n",
    "# base_retriever_HF = Vectorstore_backed_retriever(vector_store_HF,\"similarity_score_threshold\",score_threshold=0.5,k=10)"
   ]
  },
  {
   "cell_type": "code",
   "execution_count": 25,
   "id": "893d9faf",
   "metadata": {},
   "outputs": [
    {
     "name": "stdout",
     "output_type": "stream",
     "text": [
      "Document 1:\n",
      "\n",
      "Parte Primera: Bases fundamentales del estado derechos, deberes y garantías\n",
      "Título 1: Bases fundamentales del estado\n",
      "Capítulo Primero: Modelo de Estado\n",
      "Sección None: None\n",
      "Artículo 1: Modelol de Estado\n",
      "\n",
      "Bolivia se constituye en un Estado Unitario Social de Derecho Plurinacional Comunitario, libre, independiente, soberano, democrático, intercultural, descentralizado y con autonomías. Bolivia se funda en la pluralidad y el pluralismo político, económico, jurídico, cultural y lingüístico, dentro del proceso integrador del país.\n",
      "----------------------------------------------------------------------------------------------------\n",
      "Document 2:\n",
      "\n",
      "Parte Primera: Bases fundamentales del estado derechos, deberes y garantías\n",
      "Título 1: Bases fundamentales del estado\n",
      "Capítulo Segundo: Principios, Valores y Fines del Estado\n",
      "Sección None: None\n",
      "Artículo 10: Carácter Pacifista del Estado\n",
      "\n",
      "I. Bolivia es un Estado pacifista, que promueve la cultura de la paz y el derecho a la paz, así como la cooperación entre los pueblos de la región y del mundo, a fin de contribuir al conocimiento mutuo, al desarrollo equitativo y a la promoción de la interculturalidad, con pleno respeto a la soberanía de los estados. II. Bolivia rechaza toda guerra de agresión como instrumento de solución a los diferendos y conflictos entre estados y se reserva el derecho a la legítima defensa en caso de agresión que comprometa la independencia y la integridad del Estado. III. Se prohíbe la instalación de bases militares extranjeras en territorio boliviano.\n",
      "----------------------------------------------------------------------------------------------------\n",
      "Document 3:\n",
      "\n",
      "Parte Primera: Bases fundamentales del estado derechos, deberes y garantías\n",
      "Título 1: Bases fundamentales del estado\n",
      "Capítulo Tercero: Sistema de Gobierno\n",
      "Sección None: None\n",
      "Artículo 11: Forma de Gobierno\n",
      "\n",
      "I. La República de Bolivia adopta para su gobierno la forma democrática participativa, representativa y comunitaria, con equivalencia de condiciones entre hombres y mujeres. II. La democracia se ejerce de las siguientes formas, que serán desarrolladas por la ley: 1. Directa y participativa, por medio del referendo, la iniciativa legislativa ciudadana, la revocatoria de mandato, la asamblea, el cabildo y la consulta previa.. Las asambleas y cabildos tendrán carácter deliberativo conforme a Ley. 2. Representativa, por medio de la elección de representantes por voto universal, directo y secreto, conforme a Ley. 3. Comunitaria, por medio de la elección, designación o nominación de autoridades y representantes por normas y procedimientos propios de las naciones y pueblos indígena originario campesinos, entre otros, conforme a Ley.\n",
      "----------------------------------------------------------------------------------------------------\n",
      "Document 4:\n",
      "\n",
      "Parte Primera: Bases fundamentales del estado derechos, deberes y garantías\n",
      "Título 1: Bases fundamentales del estado\n",
      "Capítulo Primero: Modelo de Estado\n",
      "Sección None: None\n",
      "Artículo 3: Conformación de la Nación Boliviana\n",
      "\n",
      "La nación boliviana está conformada por la totalidad de las bolivianas y los bolivianos, las naciones y pueblos indígena originario campesinos, y las comunidades interculturales y afrobolivianas que en conjunto constituyen el pueblo boliviano.\n",
      "----------------------------------------------------------------------------------------------------\n",
      "Document 5:\n",
      "\n",
      "Parte Tercera: Estructura y organización territorial del estado\n",
      "Título 1: Organización territorial del estado\n",
      "Capítulo Primero: Disposiciones generales\n",
      "Sección None: None\n",
      "Artículo 269: Organización Territorial del Estado y Delimitación de Unidades Territoriales\n",
      "\n",
      "I. Bolivia se organiza territorialmente en departamentos, provincias, municipios y territorios indígena originario campesinos. II. La creación, modificación y delimitación de las unidades territoriales se hará por voluntad democrática de sus habitantes, de acuerdo a las condiciones establecidas en la Constitución y la ley. III. Las regiones formarán parte de la organización territorial, en los términos y las condiciones que determinen la ley.\n"
     ]
    }
   ],
   "source": [
    "# Get relevant documents\n",
    "query = '¿Qué dice el artículo 1 de la constitución política del estado Boliviano?'\n",
    "relevant_docs = base_retriever_bgem3.invoke(query)\n",
    "\n",
    "print_documents(relevant_docs)"
   ]
  },
  {
   "cell_type": "markdown",
   "id": "6b7e8215",
   "metadata": {},
   "source": [
    "## Retrieval: put it all together"
   ]
  },
  {
   "cell_type": "code",
   "execution_count": null,
   "id": "f4b0377b",
   "metadata": {},
   "outputs": [],
   "source": [
    "def retrieval_blocks(\n",
    "    create_vectorstore=False,# if True a Chroma vectorstore is created, else the Chroma vectorstore will be loaded\n",
    "    LLM_service=\"mistral:7b-instruct-v0.2-q8_0\",\n",
    "    vectorstore_name=\"vectordb/cpep_bgem3\",\n",
    "    #chunk_size = 1600, chunk_overlap=200, # parameters of the RecursiveCharacterTextSplitter\n",
    "    retriever_type=\"Vectorstore_backed_retriever\",\n",
    "    base_retriever_search_type=\"similarity\", base_retriever_k=5, base_retriever_score_threshold=None,\n",
    "    #compression_retriever_k=16,\n",
    "    #cohere_api_key=\"***\", cohere_model=\"rerank-multilingual-v2.0\", cohere_top_n=8,\n",
    "):\n",
    "    \"\"\"\n",
    "    Rertieval includes: document loaders, text splitter, vectorstore and retriever. \n",
    "    \n",
    "    Parameters: \n",
    "        create_vectorstore (boolean): If True, a new Chroma vectorstore will be created. Otherwise, an existing vectorstore will be loaded.\n",
    "        LLM_service: OpenAI, Google or HuggingFace.\n",
    "        vectorstore_name (str): the name of the vectorstore.\n",
    "        chunk_size and chunk_overlap: parameters of the RecursiveCharacterTextSplitter, default = (1600,200).\n",
    "        \n",
    "        retriever_type (str): in [Vectorstore_backed_retriever,Contextual_compression,Cohere_reranker]\n",
    "        \n",
    "        base_retriever_search_type: search_type in [\"similarity\", \"mmr\", \"similarity_score_threshold\"], default = similarity.\n",
    "        base_retriever_k: The most similar vectors to retrieve (default k = 10).  \n",
    "        base_retriever_score_threshold: score_threshold used by the base retriever, default = None.\n",
    "\n",
    "        compression_retriever_k: top k documents returned by the compression retriever, default=16\n",
    "        \n",
    "        cohere_api_key: Cohere API key\n",
    "        cohere_model (str): The Cohere model can be either 'rerank-english-v2.0' or 'rerank-multilingual-v2.0', with the latter being the default.\n",
    "        cohere_top_n: top n results returned by Cohere rerank, default = 8.\n",
    "    Output:\n",
    "        retriever.\n",
    "    \"\"\"\n",
    "    try:\n",
    "        # Create new Vectorstore (Chroma index)\n",
    "        if create_vectorstore: \n",
    "            # 1. load documents\n",
    "            documents = langchain_document_loader(TMP_DIR)\n",
    "            \n",
    "            # 2. Text Splitter: split documents to chunks\n",
    "            '''text_splitter = RecursiveCharacterTextSplitter(\n",
    "                separators = [\"newline\", \"newline\", \" \", \"\"],    \n",
    "                chunk_size = chunk_size,\n",
    "                chunk_overlap= chunk_overlap\n",
    "            )'''\n",
    "            #chunks = text_splitter.split_documents(documents=documents)\n",
    "            \n",
    "            # 3. Embeddings\n",
    "            embeddings = select_embeddings_model(LLM_service=LLM_service)\n",
    "        \n",
    "            # 4. Vectorsore: create Chroma index\n",
    "            vector_store = create_vectorstore(\n",
    "                embeddings=embeddings,\n",
    "                documents = chunks,\n",
    "                vectorstore_name=vectorstore_name,\n",
    "            )\n",
    "    \n",
    "        # 5. Load a Vectorstore (Chroma index)\n",
    "        else: \n",
    "            embeddings = select_embeddings_model(LLM_service=LLM_service)        \n",
    "            vector_store = Chroma(\n",
    "                persist_directory = LOCAL_VECTOR_STORE_DIR.as_posix() + \"/\" + vectorstore_name,\n",
    "                embedding_function=embeddings\n",
    "            )\n",
    "            \n",
    "        # 6. base retriever: Vector store-backed retriever \n",
    "        base_retriever = Vectorstore_backed_retriever(\n",
    "            vector_store,\n",
    "            search_type=base_retriever_search_type,\n",
    "            k=base_retriever_k,\n",
    "            score_threshold=base_retriever_score_threshold\n",
    "        )\n",
    "        retriever = None\n",
    "        if retriever_type==\"Vectorstore_backed_retriever\": \n",
    "            retriever = base_retriever\n",
    "    \n",
    "        # 7. Contextual Compression Retriever\n",
    "        if retriever_type==\"Contextual_compression\":    \n",
    "            retriever = create_compression_retriever(\n",
    "                embeddings=embeddings,\n",
    "                base_retriever=base_retriever,\n",
    "                k=compression_retriever_k,\n",
    "            )\n",
    "    \n",
    "        # 8. CohereRerank retriever\n",
    "        if retriever_type==\"Cohere_reranker\":\n",
    "            retriever = CohereRerank_retriever(\n",
    "                base_retriever=base_retriever, \n",
    "                cohere_api_key=cohere_api_key, \n",
    "                cohere_model=cohere_model, \n",
    "                top_n=cohere_top_n\n",
    "            )\n",
    "    \n",
    "        print(f\"\\n{retriever_type} is created successfully!\")\n",
    "        print(f\"Relevant documents will be retrieved from vectorstore ({vectorstore_name}) which uses {LLM_service} embeddings \\\n",
    "and has {vector_store._collection.count()} chunks.\")\n",
    "        \n",
    "        return retriever\n",
    "    except Exception as e:\n",
    "        print(e)"
   ]
  },
  {
   "cell_type": "markdown",
   "id": "6b7319b1",
   "metadata": {},
   "source": [
    "## ChatModel"
   ]
  },
  {
   "cell_type": "code",
   "execution_count": 26,
   "id": "4e75ddcc",
   "metadata": {},
   "outputs": [],
   "source": [
    "# LLM Model\n",
    "llm = ChatOllama(model=\"mistral:7b-instruct-v0.2-q8_0\")"
   ]
  },
  {
   "cell_type": "code",
   "execution_count": 28,
   "id": "1004f47b",
   "metadata": {},
   "outputs": [
    {
     "name": "stdout",
     "output_type": "stream",
     "text": [
      " The expression 3 raised to the power of 3, or 3 cubed, can be calculated as follows:\n",
      "\n",
      "3 * 3 * 3 = 27\n",
      "\n",
      "So, the result of 3 raised to the power of 3 is 27.\n"
     ]
    }
   ],
   "source": [
    "import torch\n",
    "# Message test\n",
    "messages = [\n",
    "    ChatMessage(role=\"control\", content=\"thinking\"),\n",
    "    HumanMessage(\"What is 3^3?\"),\n",
    "]\n",
    "\n",
    "\n",
    "torch.cuda.empty_cache()\n",
    "response = llm.invoke(messages)\n",
    "print(response.content)"
   ]
  }
 ],
 "metadata": {
  "kernelspec": {
   "display_name": "Python 3",
   "language": "python",
   "name": "python3"
  },
  "language_info": {
   "codemirror_mode": {
    "name": "ipython",
    "version": 3
   },
   "file_extension": ".py",
   "mimetype": "text/x-python",
   "name": "python",
   "nbconvert_exporter": "python",
   "pygments_lexer": "ipython3",
   "version": "3.13.4"
  }
 },
 "nbformat": 4,
 "nbformat_minor": 5
}
